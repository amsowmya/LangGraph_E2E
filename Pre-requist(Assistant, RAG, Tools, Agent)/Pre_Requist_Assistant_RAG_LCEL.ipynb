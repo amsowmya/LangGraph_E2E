{
 "cells": [
  {
   "cell_type": "code",
   "execution_count": 1,
   "id": "62002e7b",
   "metadata": {},
   "outputs": [
    {
     "data": {
      "text/plain": [
       "True"
      ]
     },
     "execution_count": 1,
     "metadata": {},
     "output_type": "execute_result"
    }
   ],
   "source": [
    "import os \n",
    "from dotenv import load_dotenv\n",
    "from langchain_groq.chat_models import ChatGroq\n",
    "\n",
    "load_dotenv()"
   ]
  },
  {
   "cell_type": "code",
   "execution_count": 2,
   "id": "91dc9496",
   "metadata": {},
   "outputs": [
    {
     "data": {
      "text/plain": [
       "'Hi there! 👋  How can I help you today? 😊\\n'"
      ]
     },
     "execution_count": 2,
     "metadata": {},
     "output_type": "execute_result"
    }
   ],
   "source": [
    "groq_api_key = os.getenv('GROQ_API_KEY')\n",
    "\n",
    "llm = ChatGroq(groq_api_key=groq_api_key, model=\"gemma2-9b-it\")\n",
    "llm.invoke(\"hi\").content"
   ]
  },
  {
   "cell_type": "code",
   "execution_count": 3,
   "id": "68303ea2",
   "metadata": {},
   "outputs": [],
   "source": [
    "# while True:\n",
    "#     question = input(\"Enter you question: \")\n",
    "#     if question in [\"quit\", \"esc\"]:\n",
    "#         break \n",
    "#     result = llm.invoke(question).content\n",
    "#     print(result)"
   ]
  },
  {
   "cell_type": "markdown",
   "id": "ef9f3181",
   "metadata": {},
   "source": [
    "#### Memory"
   ]
  },
  {
   "cell_type": "code",
   "execution_count": 4,
   "id": "84c00236",
   "metadata": {},
   "outputs": [],
   "source": [
    "from langchain_core.chat_history import BaseChatMessageHistory\n",
    "from langchain_core.chat_history import InMemoryChatMessageHistory\n",
    "from langchain_core.runnables.history import RunnableWithMessageHistory"
   ]
  },
  {
   "cell_type": "code",
   "execution_count": 5,
   "id": "7b35176f",
   "metadata": {},
   "outputs": [],
   "source": [
    "store = {}"
   ]
  },
  {
   "cell_type": "code",
   "execution_count": 6,
   "id": "4d830a97",
   "metadata": {},
   "outputs": [],
   "source": [
    "def get_session_history(session_id: str) -> BaseChatMessageHistory:\n",
    "    if session_id not in store:\n",
    "        store[session_id] = InMemoryChatMessageHistory()\n",
    "    return store[session_id]"
   ]
  },
  {
   "cell_type": "code",
   "execution_count": 7,
   "id": "f5d68bdb",
   "metadata": {},
   "outputs": [],
   "source": [
    "config = {\"configurable\": {\"session_id\": \"1\"}}"
   ]
  },
  {
   "cell_type": "code",
   "execution_count": 8,
   "id": "9f4e9c6a",
   "metadata": {},
   "outputs": [],
   "source": [
    "model_with_memory = RunnableWithMessageHistory(llm, get_session_history)"
   ]
  },
  {
   "cell_type": "code",
   "execution_count": 9,
   "id": "9fe111ac",
   "metadata": {},
   "outputs": [
    {
     "data": {
      "text/plain": [
       "'Hi Sam, nice to meet you!\\n\\nHow can I help you today? 😊\\n'"
      ]
     },
     "execution_count": 9,
     "metadata": {},
     "output_type": "execute_result"
    }
   ],
   "source": [
    "model_with_memory.invoke(\"Hi, my name is sam\", config=config).content"
   ]
  },
  {
   "cell_type": "code",
   "execution_count": 10,
   "id": "d4a25352",
   "metadata": {},
   "outputs": [
    {
     "data": {
      "text/plain": [
       "'Your name is Sam!  😄  \\n\\nIs there anything else I can do for you?  \\n'"
      ]
     },
     "execution_count": 10,
     "metadata": {},
     "output_type": "execute_result"
    }
   ],
   "source": [
    "model_with_memory.invoke(\"Tell me my name\", config=config).content"
   ]
  },
  {
   "cell_type": "markdown",
   "id": "74027cf3",
   "metadata": {},
   "source": [
    "#### RAG"
   ]
  },
  {
   "cell_type": "code",
   "execution_count": 11,
   "id": "25319fd5",
   "metadata": {},
   "outputs": [],
   "source": [
    "from langchain_community.document_loaders import TextLoader, DirectoryLoader\n",
    "from langchain_text_splitters import RecursiveCharacterTextSplitter\n",
    "from langchain_google_genai.embeddings import GoogleGenerativeAIEmbeddings\n",
    "from langchain.vectorstores import FAISS"
   ]
  },
  {
   "cell_type": "code",
   "execution_count": 13,
   "id": "5a429fd4",
   "metadata": {},
   "outputs": [],
   "source": [
    "os.environ['GOOGLE_API_KEY'] = os.getenv('GOOGLE_API_KEY')\n",
    "\n",
    "embeddings = GoogleGenerativeAIEmbeddings(model=\"models/embedding-001\")"
   ]
  },
  {
   "cell_type": "code",
   "execution_count": 14,
   "id": "92cfc940",
   "metadata": {},
   "outputs": [],
   "source": [
    "loader = DirectoryLoader(\"../data\", glob=\"./*.txt\", loader_cls=TextLoader)\n",
    "docs = loader.load()"
   ]
  },
  {
   "cell_type": "code",
   "execution_count": 15,
   "id": "4159c240",
   "metadata": {},
   "outputs": [
    {
     "data": {
      "text/plain": [
       "3"
      ]
     },
     "execution_count": 15,
     "metadata": {},
     "output_type": "execute_result"
    }
   ],
   "source": [
    "len(docs)"
   ]
  },
  {
   "cell_type": "code",
   "execution_count": 16,
   "id": "f7488993",
   "metadata": {},
   "outputs": [
    {
     "data": {
      "text/plain": [
       "21"
      ]
     },
     "execution_count": 16,
     "metadata": {},
     "output_type": "execute_result"
    }
   ],
   "source": [
    "splitter = RecursiveCharacterTextSplitter(chunk_size=500, chunk_overlap=50)\n",
    "documents = splitter.split_documents(docs)\n",
    "len(documents)"
   ]
  },
  {
   "cell_type": "code",
   "execution_count": 18,
   "id": "4a45dfa2",
   "metadata": {},
   "outputs": [],
   "source": [
    "db = FAISS.from_documents(documents, embeddings)"
   ]
  },
  {
   "cell_type": "code",
   "execution_count": 19,
   "id": "f1605299",
   "metadata": {},
   "outputs": [],
   "source": [
    "retriever = db.as_retriever()"
   ]
  },
  {
   "cell_type": "code",
   "execution_count": 21,
   "id": "ddb73f07",
   "metadata": {},
   "outputs": [],
   "source": [
    "from langchain_core.runnables import RunnablePassthrough, RunnableMap\n",
    "from langchain_core.prompts import PromptTemplate\n",
    "from langchain_core.output_parsers import JsonOutputParser"
   ]
  },
  {
   "cell_type": "code",
   "execution_count": 22,
   "id": "5907e234",
   "metadata": {},
   "outputs": [],
   "source": [
    "parser = JsonOutputParser()"
   ]
  },
  {
   "cell_type": "code",
   "execution_count": 23,
   "id": "aa4e25f4",
   "metadata": {},
   "outputs": [],
   "source": [
    "template = \"\"\"You are an AI Assistant tasked with answer the following question based on \n",
    "provided content {context}\\n\\n{format_instructions}\n",
    "question: {query}\n",
    "\"\"\"\n",
    "\n",
    "prompt = PromptTemplate(\n",
    "    template=template,\n",
    "    input_variables=[\"query\"],\n",
    "    partial_variables={\"format_instructions\": parser.get_format_instructions()}\n",
    ")"
   ]
  },
  {
   "cell_type": "code",
   "execution_count": 24,
   "id": "5dff3181",
   "metadata": {},
   "outputs": [],
   "source": [
    "def format_docs(docs):\n",
    "    return \"\\n\\n\".join(doc.page_content for doc in docs)"
   ]
  },
  {
   "cell_type": "code",
   "execution_count": 25,
   "id": "7d5bb31f",
   "metadata": {},
   "outputs": [],
   "source": [
    "chain = (\n",
    "    RunnableMap({\"context\": retriever | format_docs, \"query\": RunnablePassthrough()})\n",
    "    | prompt \n",
    "    | llm \n",
    "    | parser\n",
    ")"
   ]
  },
  {
   "cell_type": "code",
   "execution_count": 26,
   "id": "97ccd9b4",
   "metadata": {},
   "outputs": [
    {
     "data": {
      "text/plain": [
       "{'answer': '$4,256.41B'}"
      ]
     },
     "execution_count": 26,
     "metadata": {},
     "output_type": "execute_result"
    }
   ],
   "source": [
    "chain.invoke(\"In 2022 what's the GDP of Japan?\")"
   ]
  },
  {
   "cell_type": "markdown",
   "id": "f2272d38",
   "metadata": {},
   "source": [
    "#### Structured output with Pydantic"
   ]
  },
  {
   "cell_type": "code",
   "execution_count": 27,
   "id": "dc9fc5be",
   "metadata": {},
   "outputs": [],
   "source": [
    "from pydantic import BaseModel, Field\n",
    "\n",
    "class Result(BaseModel):\n",
    "    country: str = Field(description=\"country name\")\n",
    "    answer: str = Field(description=\"provide appropriate answer\")"
   ]
  },
  {
   "cell_type": "code",
   "execution_count": 28,
   "id": "e81a8427",
   "metadata": {},
   "outputs": [],
   "source": [
    "llm_with_structured = llm.with_structured_output(Result)"
   ]
  },
  {
   "cell_type": "code",
   "execution_count": 31,
   "id": "5919a6c7",
   "metadata": {},
   "outputs": [],
   "source": [
    "chain = (\n",
    "    RunnableMap({\"context\": retriever | format_docs, \"query\": RunnablePassthrough()})\n",
    "    | prompt \n",
    "    | llm_with_structured \n",
    ")"
   ]
  },
  {
   "cell_type": "code",
   "execution_count": 32,
   "id": "9b202c39",
   "metadata": {},
   "outputs": [
    {
     "data": {
      "text/plain": [
       "Result(country='Japan', answer='4,256.41B')"
      ]
     },
     "execution_count": 32,
     "metadata": {},
     "output_type": "execute_result"
    }
   ],
   "source": [
    "chain.invoke(\"In 2022 what's the GDP of Japan?\")"
   ]
  },
  {
   "cell_type": "code",
   "execution_count": 34,
   "id": "7ca0084d",
   "metadata": {},
   "outputs": [],
   "source": [
    "response = chain.invoke(\"In 2022 what's the GDP of Japan?\")"
   ]
  },
  {
   "cell_type": "code",
   "execution_count": 35,
   "id": "b0b21a06",
   "metadata": {},
   "outputs": [
    {
     "data": {
      "text/plain": [
       "'$4,256.41B'"
      ]
     },
     "execution_count": 35,
     "metadata": {},
     "output_type": "execute_result"
    }
   ],
   "source": [
    "response.answer"
   ]
  },
  {
   "cell_type": "code",
   "execution_count": 36,
   "id": "15fea871",
   "metadata": {},
   "outputs": [
    {
     "data": {
      "text/plain": [
       "'Japan'"
      ]
     },
     "execution_count": 36,
     "metadata": {},
     "output_type": "execute_result"
    }
   ],
   "source": [
    "response.country"
   ]
  },
  {
   "cell_type": "markdown",
   "id": "d4f08eeb",
   "metadata": {},
   "source": [
    "#### Adding cast"
   ]
  },
  {
   "cell_type": "code",
   "execution_count": 37,
   "id": "7a38e479",
   "metadata": {},
   "outputs": [],
   "source": [
    "from typing import cast \n",
    "\n",
    "chain = cast ( Result, \n",
    "    RunnableMap({\"context\": retriever | format_docs, \"query\": RunnablePassthrough()})\n",
    "    | prompt \n",
    "    | llm_with_structured \n",
    ")"
   ]
  },
  {
   "cell_type": "code",
   "execution_count": 38,
   "id": "6b16359e",
   "metadata": {},
   "outputs": [
    {
     "data": {
      "text/plain": [
       "Result(country='Japan', answer='4,256.41B')"
      ]
     },
     "execution_count": 38,
     "metadata": {},
     "output_type": "execute_result"
    }
   ],
   "source": [
    "chain.invoke(\"In 2022 what's the GDP of Japan?\")"
   ]
  },
  {
   "cell_type": "code",
   "execution_count": 39,
   "id": "8528f988",
   "metadata": {},
   "outputs": [],
   "source": [
    "response = chain.invoke(\"In 2022 what's the GDP of Japan?\")"
   ]
  },
  {
   "cell_type": "code",
   "execution_count": 40,
   "id": "3c8c99f7",
   "metadata": {},
   "outputs": [
    {
     "data": {
      "text/plain": [
       "'Japan'"
      ]
     },
     "execution_count": 40,
     "metadata": {},
     "output_type": "execute_result"
    }
   ],
   "source": [
    "response.country"
   ]
  },
  {
   "cell_type": "code",
   "execution_count": null,
   "id": "d64d37cd",
   "metadata": {},
   "outputs": [],
   "source": []
  }
 ],
 "metadata": {
  "kernelspec": {
   "display_name": "langgraph",
   "language": "python",
   "name": "python3"
  },
  "language_info": {
   "codemirror_mode": {
    "name": "ipython",
    "version": 3
   },
   "file_extension": ".py",
   "mimetype": "text/x-python",
   "name": "python",
   "nbconvert_exporter": "python",
   "pygments_lexer": "ipython3",
   "version": "3.12.0"
  }
 },
 "nbformat": 4,
 "nbformat_minor": 5
}
