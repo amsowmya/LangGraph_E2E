{
 "cells": [
  {
   "cell_type": "markdown",
   "metadata": {},
   "source": [
    "#### For some actions, you may want to require human approval before running to ensure that everything is running as intended."
   ]
  },
  {
   "cell_type": "code",
   "execution_count": 1,
   "metadata": {},
   "outputs": [],
   "source": [
    "from typing import Annotated\n",
    "import operator,json\n",
    "from typing import TypedDict, Annotated, Sequence\n",
    "from typing_extensions import TypedDict\n",
    "from langchain_core.messages import BaseMessage\n",
    "from langgraph.checkpoint.memory import MemorySaver\n",
    "from langgraph.graph import StateGraph,END,START\n",
    "from langgraph.graph.message import add_messages\n",
    "from langgraph.prebuilt import ToolNode, tools_condition\n",
    "from langchain_core.tools import tool\n",
    "from langchain_community.tools.tavily_search import TavilySearchResults"
   ]
  },
  {
   "cell_type": "code",
   "execution_count": 2,
   "metadata": {},
   "outputs": [],
   "source": [
    "from langchain_groq import ChatGroq\n",
    "llm=ChatGroq(model_name=\"Gemma2-9b-It\")"
   ]
  },
  {
   "cell_type": "code",
   "execution_count": 3,
   "metadata": {},
   "outputs": [
    {
     "data": {
      "text/plain": [
       "AIMessage(content='Hi! 👋 \\n\\nWhat can I do for you today?\\n', additional_kwargs={}, response_metadata={'token_usage': {'completion_tokens': 16, 'prompt_tokens': 11, 'total_tokens': 27, 'completion_time': 0.029090909, 'prompt_time': 0.001917446, 'queue_time': 0.244997195, 'total_time': 0.031008355}, 'model_name': 'Gemma2-9b-It', 'system_fingerprint': 'fp_10c08bf97d', 'finish_reason': 'stop', 'logprobs': None}, id='run--ef819698-ae04-4d0d-b412-0288a6b11960-0', usage_metadata={'input_tokens': 11, 'output_tokens': 16, 'total_tokens': 27})"
      ]
     },
     "execution_count": 3,
     "metadata": {},
     "output_type": "execute_result"
    }
   ],
   "source": [
    "llm.invoke(\"hi\")"
   ]
  },
  {
   "cell_type": "code",
   "execution_count": 4,
   "metadata": {},
   "outputs": [
    {
     "data": {
      "text/plain": [
       "'Hello! 👋 \\n\\nHow can I help you today?\\n'"
      ]
     },
     "execution_count": 4,
     "metadata": {},
     "output_type": "execute_result"
    }
   ],
   "source": [
    "llm.invoke(\"hi\").content"
   ]
  },
  {
   "cell_type": "code",
   "execution_count": 4,
   "metadata": {},
   "outputs": [],
   "source": [
    "@tool\n",
    "def multiply(first_number:int, second_number:int)->int:\n",
    "    \"\"\"multiply two integer number\"\"\"\n",
    "    return first_number * second_number"
   ]
  },
  {
   "cell_type": "code",
   "execution_count": 5,
   "metadata": {},
   "outputs": [
    {
     "name": "stderr",
     "output_type": "stream",
     "text": [
      "C:\\Users\\sowmy\\AppData\\Local\\Temp\\ipykernel_18520\\2089873997.py:1: LangChainDeprecationWarning: The method `BaseTool.__call__` was deprecated in langchain-core 0.1.47 and will be removed in 1.0. Use :meth:`~invoke` instead.\n",
      "  multiply({\"first_number\":24,\"second_number\":364})\n"
     ]
    },
    {
     "data": {
      "text/plain": [
       "8736"
      ]
     },
     "execution_count": 5,
     "metadata": {},
     "output_type": "execute_result"
    }
   ],
   "source": [
    "multiply({\"first_number\":24,\"second_number\":364})"
   ]
  },
  {
   "cell_type": "code",
   "execution_count": 6,
   "metadata": {},
   "outputs": [
    {
     "data": {
      "text/plain": [
       "8736"
      ]
     },
     "execution_count": 6,
     "metadata": {},
     "output_type": "execute_result"
    }
   ],
   "source": [
    "multiply.invoke({\"first_number\":24,\"second_number\":364})"
   ]
  },
  {
   "cell_type": "code",
   "execution_count": 7,
   "metadata": {},
   "outputs": [],
   "source": [
    "@tool\n",
    "def search(query:str):\n",
    "    \"\"\"perform the web search on the user query\"\"\"\n",
    "    tavily=TavilySearchResults()\n",
    "    result=tavily.invoke(query)\n",
    "    return result"
   ]
  },
  {
   "cell_type": "code",
   "execution_count": 8,
   "metadata": {},
   "outputs": [
    {
     "data": {
      "text/plain": [
       "[{'url': 'https://ballotpedia.org/President_of_the_United_States',\n",
       "  'content': 'The **President of the United States** (POTUS) is the head of the United States government. [Article II of the U.S. Constitution](/Article_II,_United_States_Constitution \"Article II, United States Constitution\") laid out the requirements and roles of the president.[[1]](#cite_note-1) The current President of the United States is [Donald Trump](https://ballotpedia.org/Donald_Trump) (R). Trump assumed office in 2025.\\n\\n## Election requirements [...] | [v](/Template:Executive_branch \"Template:Executive branch\")\\xa0•\\xa0[e](https://ballotpedia.org/wiki/index.php?title=Template:Executive_branch&action=edit) [U.S. Executive Branch](/Executive_Branch \"Executive Branch\") | | |\\n| --- | --- | --- |\\n|  |\\n| Elected offices | President [Donald Trump](/Donald_Trump \"Donald Trump\") • Vice President [J.D. Vance](/J.D._Vance \"J.D. Vance\")   --- | [Executive-Branch-Logo.png](/Executive_Branch \"Executive Branch\") |\\n|  | [...] | | [v](/Template:Executive_branch \"Template:Executive branch\")\\xa0•\\xa0[e](https://ballotpedia.org/wiki/index.php?title=Template:Executive_branch&action=edit) [U.S. Executive Branch](/Executive_Branch \"Executive Branch\") | | | | --- | --- | --- | |  | | Elected offices | President [Donald Trump](/Donald_Trump \"Donald Trump\") • Vice President [J.D. Vance](/J.D._Vance \"J.D. Vance\")   --- | [Executive-Branch-Logo.png](/Executive_Branch \"Executive Branch\") | |  | | Executive departments | [Department of'},\n",
       " {'url': 'https://www.usa.gov/presidents',\n",
       "  'content': 'Learn about the duties of president, vice president, and first lady of the United States. Find out how to contact and learn more about current and past leaders.\\n\\n## President of the United States\\n\\nThe president of the United States is the:\\n\\n### Current president\\n\\n[The 47th and current president of the United States is Donald John Trump.](https://www.whitehouse.gov/administration/donald-j-trump/)\\xa0He was sworn into office on January 20, 2025.\\n\\n### Former U.S. presidents [...] [The 50th and current vice president of the United States is James David (JD) Vance.](https://www.whitehouse.gov/administration/jd-vance/) He was sworn in on January 20, 2025\\n\\n### Former vice presidents\\n\\n[Read about past presidents and vice presidents.](https://history.house.gov/Institution/Presidents-Coinciding/Presidents-Coinciding/)\\n\\n## First lady [...] The First lady of the United States has traditionally been the wife or other close female relative of the president of the United States. First ladies:\\n\\n### Current first lady\\n\\n[The current first lady of the United States is Melania Trump.](https://www.whitehouse.gov/administration/melania-trump/)\\n\\n### Former first ladies\\n\\n[Find a list of former first ladies](https://www.loc.gov/rr/print/list/057_chron.html) and their presidential spouses.'},\n",
       " {'url': 'https://timesofindia.indiatimes.com/world/us/list-of-presidents-of-us/featureshow/115011630.cms',\n",
       "  'content': \"|  |  |  |  |  |  |  |\\n| --- | --- | --- | --- | --- | --- | --- |\\n| **No.** | **US President Name** | **Term start** | **Term end** | **Party** | **Election(s)** | **Vice President(s)** |\\n| 47th | Donald Trump | January 20,2025 | Present | Republican | 2024 | Kamala Harris |\\n| 46th | Joe Biden | January 20, 2021 | Incumbent | Democratic | 2020 | Kamala Harris |\\n| 45th | Donald Trump | January 20, 2017 | January 20, 2021 | Republican | 2016 | Mike Pence | [...] | 44th | Barack Obama | January 20, 2009 | January 20, 2017 | Democratic | 2008, 2012 | Joe Biden |\\n| 43rd | George W. Bush | January 20, 2001 | January 20, 2009 | Republican | 2000, 2004 | Dick Cheney |\\n| 42nd | Bill Clinton | January 20, 1993 | January 20, 2001 | Democratic | 1992, 1996 | Al Gore |\\n| 41st | George H. W. Bush | January 20, 1989 | January 20, 1993 | Republican | 1988 | Dan Quayle | [...] US President Trump's new travel ban, impacting citizens from 12 mainly African and Middle Eastern countries, has taken effect amid rising tensions over immigration enforcement. The ban, which restricts visas based on screening deficiencies and overstay rates, has drawn criticism from aid organizations and sparked concerns about its impact on refugees and those seeking safety in the US.\"},\n",
       " {'url': 'https://en.wikipedia.org/wiki/President_of_the_United_States',\n",
       "  'content': 'Donald Trump is the 47th and current president since January 20, 2025.'},\n",
       " {'url': 'https://usun.usmission.gov/our-leaders/the-president-of-the-united-states/',\n",
       "  'content': '![](https://edit.usembassy.gov/wp-content/uploads/Donald-J-Trump-600x600-1.png)\\n\\n### President Donald J. Trump\\n\\nDonald J. Trump serves as the 47th President of the United States. He also served as the 45th.\\n\\n[Read the President’s full biography.](https://www.whitehouse.gov/administration/donald-j-trump/)\\n\\n### Visit The White House Website [...] ![United States of America, Department of State](https://usun.usmission.gov/wp-content/themes/cms3/dist/images/dos-logo-light.png \"United States of America, Department of State\")\\n\\n# [United States Mission to the United Nations](https://usun.usmission.gov/ \"United States Mission to the United Nations\")\\n\\n### Social / Search – EN\\n\\n# President of the United States\\n\\n![](https://edit.usembassy.gov/wp-content/uploads/Donald-J-Trump-600x600-1.png)'}]"
      ]
     },
     "execution_count": 8,
     "metadata": {},
     "output_type": "execute_result"
    }
   ],
   "source": [
    "search(\"who is a current president of USA?\")"
   ]
  },
  {
   "cell_type": "code",
   "execution_count": 9,
   "metadata": {},
   "outputs": [
    {
     "data": {
      "text/plain": [
       "[{'url': 'https://www.usa.gov/presidents',\n",
       "  'content': 'Learn about the duties of president, vice president, and first lady of the United States. Find out how to contact and learn more about current and past leaders.\\n\\n## President of the United States\\n\\nThe president of the United States is the:\\n\\n### Current president\\n\\n[The 47th and current president of the United States is Donald John Trump.](https://www.whitehouse.gov/administration/donald-j-trump/)\\xa0He was sworn into office on January 20, 2025.\\n\\n### Former U.S. presidents [...] [The 50th and current vice president of the United States is James David (JD) Vance.](https://www.whitehouse.gov/administration/jd-vance/) He was sworn in on January 20, 2025\\n\\n### Former vice presidents\\n\\n[Read about past presidents and vice presidents.](https://history.house.gov/Institution/Presidents-Coinciding/Presidents-Coinciding/)\\n\\n## First lady'},\n",
       " {'url': 'https://timesofindia.indiatimes.com/world/us/list-of-presidents-of-us/featureshow/115011630.cms',\n",
       "  'content': '|  |  |  |  |  |  |  |\\n| --- | --- | --- | --- | --- | --- | --- |\\n| **No.** | **US President Name** | **Term start** | **Term end** | **Party** | **Election(s)** | **Vice President(s)** |\\n| 47th | Donald Trump | January 20,2025 | Present | Republican | 2024 | Kamala Harris |\\n| 46th | Joe Biden | January 20, 2021 | Incumbent | Democratic | 2020 | Kamala Harris |\\n| 45th | Donald Trump | January 20, 2017 | January 20, 2021 | Republican | 2016 | Mike Pence | [...] | 44th | Barack Obama | January 20, 2009 | January 20, 2017 | Democratic | 2008, 2012 | Joe Biden |\\n| 43rd | George W. Bush | January 20, 2001 | January 20, 2009 | Republican | 2000, 2004 | Dick Cheney |\\n| 42nd | Bill Clinton | January 20, 1993 | January 20, 2001 | Democratic | 1992, 1996 | Al Gore |\\n| 41st | George H. W. Bush | January 20, 1989 | January 20, 1993 | Republican | 1988 | Dan Quayle | [...] Recent events span continents, from a Tripura murder where a man was found in a refrigerator, to Canada\\'s bust of a narco-terror network funding anti-India activities. Trump unveiled a \"Gold Card\" program while reducing the US military presence in the Middle East. Violence erupted in West Bengal over a land dispute, injuring police officers and damaging property.\\n\\n## Trending Stories\\n\\n![logo]()\\n![](https://www.facebook.com/tr?id=593671331875494&ev=PageView&noscript=1)'},\n",
       " {'url': 'https://en.wikipedia.org/wiki/President_of_the_United_States',\n",
       "  'content': 'Donald Trump is the 47th and current president since January 20, 2025.'},\n",
       " {'url': 'https://en.wikipedia.org/wiki/List_of_presidents_of_the_United_States',\n",
       "  'content': 'The first president, [George Washington](/wiki/George_Washington \"George Washington\"), won a unanimous vote of the Electoral College.[[4]](#cite_note-FOOTNOTEMatuz2001xxii-4) The incumbent president is [Donald Trump](/wiki/Donald_Trump \"Donald Trump\"), who [assumed office on January 20, 2025](/wiki/Second_inauguration_of_Donald_Trump \"Second inauguration of Donald Trump\").[[5]](#cite_note-FOOTNOTEHajela2024-5)[[6]](#cite_note-FOOTNOTEFreile2024-6) Since the office was established in 1789, 45 [...] ([2009–2017](/wiki/Presidency_of_Barack_Obama \"Presidency of Barack Obama\")) 45. [Donald Trump](/wiki/Donald_Trump \"Donald Trump\") ([2017–2021](/wiki/First_presidency_of_Donald_Trump \"First presidency of Donald Trump\")) 46. [Joe Biden](/wiki/Joe_Biden \"Joe Biden\") ([2021–2025](/wiki/Presidency_of_Joe_Biden \"Presidency of Joe Biden\")) 47. [Donald Trump](/wiki/Donald_Trump \"Donald Trump\") ([2025–present](/wiki/Second_presidency_of_Donald_Trump \"Second presidency of Donald Trump\")) | [...] men have served in 47 presidencies; the discrepancy arises from two individuals elected to nonconsecutive terms: [Grover Cleveland](/wiki/Grover_Cleveland \"Grover Cleveland\") is counted as both the 22nd and 24th president, while Trump is counted as both the 45th and 47th president.[[7]](#cite_note-FOOTNOTEAP2024-7)[[8]](#cite_note-FOOTNOTESchallerWilliams2003192-8)'},\n",
       " {'url': 'https://usun.usmission.gov/our-leaders/the-president-of-the-united-states/',\n",
       "  'content': '![](https://edit.usembassy.gov/wp-content/uploads/Donald-J-Trump-600x600-1.png)\\n\\n### President Donald J. Trump\\n\\nDonald J. Trump serves as the 47th President of the United States. He also served as the 45th.\\n\\n[Read the President’s full biography.](https://www.whitehouse.gov/administration/donald-j-trump/)\\n\\n### Visit The White House Website [...] ![United States of America, Department of State](https://usun.usmission.gov/wp-content/themes/cms3/dist/images/dos-logo-light.png \"United States of America, Department of State\")\\n\\n# [United States Mission to the United Nations](https://usun.usmission.gov/ \"United States Mission to the United Nations\")\\n\\n### Social / Search – EN\\n\\n# President of the United States\\n\\n![](https://edit.usembassy.gov/wp-content/uploads/Donald-J-Trump-600x600-1.png)'}]"
      ]
     },
     "execution_count": 9,
     "metadata": {},
     "output_type": "execute_result"
    }
   ],
   "source": [
    "search.invoke(\"who is a current president of USA?\")"
   ]
  },
  {
   "cell_type": "code",
   "execution_count": 10,
   "metadata": {},
   "outputs": [],
   "source": [
    "tools=[search,multiply]"
   ]
  },
  {
   "cell_type": "code",
   "execution_count": 11,
   "metadata": {},
   "outputs": [],
   "source": [
    "model_with_tools = llm.bind_tools(tools)"
   ]
  },
  {
   "cell_type": "code",
   "execution_count": 12,
   "metadata": {},
   "outputs": [],
   "source": [
    "tool_mapping={tool.name: tool for tool in tools}"
   ]
  },
  {
   "cell_type": "code",
   "execution_count": 13,
   "metadata": {},
   "outputs": [
    {
     "data": {
      "text/plain": [
       "{'search': StructuredTool(name='search', description='perform the web search on the user query', args_schema=<class 'langchain_core.utils.pydantic.search'>, func=<function search at 0x00000256472E05E0>),\n",
       " 'multiply': StructuredTool(name='multiply', description='multiply two integer number', args_schema=<class 'langchain_core.utils.pydantic.multiply'>, func=<function multiply at 0x0000025644B842C0>)}"
      ]
     },
     "execution_count": 13,
     "metadata": {},
     "output_type": "execute_result"
    }
   ],
   "source": [
    "tool_mapping"
   ]
  },
  {
   "cell_type": "code",
   "execution_count": 14,
   "metadata": {},
   "outputs": [],
   "source": [
    "response = model_with_tools.invoke(\"who is a current president of USA?\")"
   ]
  },
  {
   "cell_type": "code",
   "execution_count": 15,
   "metadata": {},
   "outputs": [
    {
     "data": {
      "text/plain": [
       "AIMessage(content='', additional_kwargs={'tool_calls': [{'id': '402fbjn34', 'function': {'arguments': '{\"query\":\"who is the current president of USA\"}', 'name': 'search'}, 'type': 'function'}]}, response_metadata={'token_usage': {'completion_tokens': 84, 'prompt_tokens': 1075, 'total_tokens': 1159, 'completion_time': 0.152727273, 'prompt_time': 0.040531342, 'queue_time': 0.24791122000000002, 'total_time': 0.193258615}, 'model_name': 'Gemma2-9b-It', 'system_fingerprint': 'fp_10c08bf97d', 'finish_reason': 'tool_calls', 'logprobs': None}, id='run--fabaf624-5bcf-4338-8a9e-dab3fd9d6bd6-0', tool_calls=[{'name': 'search', 'args': {'query': 'who is the current president of USA'}, 'id': '402fbjn34', 'type': 'tool_call'}], usage_metadata={'input_tokens': 1075, 'output_tokens': 84, 'total_tokens': 1159})"
      ]
     },
     "execution_count": 15,
     "metadata": {},
     "output_type": "execute_result"
    }
   ],
   "source": [
    "response"
   ]
  },
  {
   "cell_type": "code",
   "execution_count": 17,
   "metadata": {},
   "outputs": [],
   "source": [
    "tool_details=response.additional_kwargs.get(\"tool_calls\")"
   ]
  },
  {
   "cell_type": "code",
   "execution_count": 18,
   "metadata": {},
   "outputs": [
    {
     "data": {
      "text/plain": [
       "[{'id': 'xwgjsb5bg',\n",
       "  'function': {'arguments': '{\"query\":\"current president of USA\"}',\n",
       "   'name': 'search'},\n",
       "  'type': 'function'}]"
      ]
     },
     "execution_count": 18,
     "metadata": {},
     "output_type": "execute_result"
    }
   ],
   "source": [
    "tool_details"
   ]
  },
  {
   "cell_type": "code",
   "execution_count": 19,
   "metadata": {},
   "outputs": [
    {
     "data": {
      "text/plain": [
       "'search'"
      ]
     },
     "execution_count": 19,
     "metadata": {},
     "output_type": "execute_result"
    }
   ],
   "source": [
    "tool_details[0][\"function\"][\"name\"]"
   ]
  },
  {
   "cell_type": "code",
   "execution_count": 20,
   "metadata": {},
   "outputs": [
    {
     "data": {
      "text/plain": [
       "'{\"query\":\"current president of USA\"}'"
      ]
     },
     "execution_count": 20,
     "metadata": {},
     "output_type": "execute_result"
    }
   ],
   "source": [
    "tool_details[0][\"function\"][\"arguments\"]"
   ]
  },
  {
   "cell_type": "code",
   "execution_count": 21,
   "metadata": {},
   "outputs": [
    {
     "data": {
      "text/plain": [
       "{'query': 'current president of USA'}"
      ]
     },
     "execution_count": 21,
     "metadata": {},
     "output_type": "execute_result"
    }
   ],
   "source": [
    "json.loads(tool_details[0][\"function\"][\"arguments\"])"
   ]
  },
  {
   "cell_type": "code",
   "execution_count": 22,
   "metadata": {},
   "outputs": [
    {
     "data": {
      "text/plain": [
       "[{'url': 'https://www.usa.gov/presidents',\n",
       "  'content': 'Learn about the duties of president, vice president, and first lady of the United States. Find out how to contact and learn more about current and past leaders.\\n\\n## President of the United States\\n\\nThe president of the United States is the:\\n\\n### Current president\\n\\n[The 47th and current president of the United States is Donald John Trump.](https://www.whitehouse.gov/administration/donald-j-trump/)\\xa0He was sworn into office on January 20, 2025.\\n\\n### Former U.S. presidents [...] [The 50th and current vice president of the United States is James David (JD) Vance.](https://www.whitehouse.gov/administration/jd-vance/) He was sworn in on January 20, 2025\\n\\n### Former vice presidents\\n\\n[Read about past presidents and vice presidents.](https://history.house.gov/Institution/Presidents-Coinciding/Presidents-Coinciding/)\\n\\n## First lady [...] The First lady of the United States has traditionally been the wife or other close female relative of the president of the United States. First ladies:\\n\\n### Current first lady\\n\\n[The current first lady of the United States is Melania Trump.](https://www.whitehouse.gov/administration/melania-trump/)\\n\\n### Former first ladies\\n\\n[Find a list of former first ladies](https://www.loc.gov/rr/print/list/057_chron.html) and their presidential spouses.'},\n",
       " {'url': 'https://en.wikipedia.org/wiki/President_of_the_United_States',\n",
       "  'content': 'In all, 45 individuals have served 47 presidencies spanning 60 four-year terms. Donald Trump is the 47th and current president since January 20, 2025.'},\n",
       " {'url': 'https://usun.usmission.gov/our-leaders/the-president-of-the-united-states/',\n",
       "  'content': '![](https://edit.usembassy.gov/wp-content/uploads/Donald-J-Trump-600x600-1.png)\\n\\n### President Donald J. Trump\\n\\nDonald J. Trump serves as the 47th President of the United States. He also served as the 45th.\\n\\n[Read the President’s full biography.](https://www.whitehouse.gov/administration/donald-j-trump/)\\n\\n### Visit The White House Website [...] ![United States of America, Department of State](https://usun.usmission.gov/wp-content/themes/cms3/dist/images/dos-logo-light.png \"United States of America, Department of State\")\\n\\n# [United States Mission to the United Nations](https://usun.usmission.gov/ \"United States Mission to the United Nations\")\\n\\n### Social / Search – EN\\n\\n# President of the United States\\n\\n![](https://edit.usembassy.gov/wp-content/uploads/Donald-J-Trump-600x600-1.png) [...] [![White House](https://www.usembassy.gov/wp-content/uploads/sites/144/2017/06/wh_logo1-50x50.jpg)](https://www.whitehouse.gov/)**[News, issues, and photos of the President](https://www.whitehouse.gov/)**\\n\\n![White House](https://www.usembassy.gov/wp-content/uploads/sites/144/2017/06/wh_logo1-50x50.jpg)\\n\\n### U.S. MISSION TO THE UN\\n\\n### U.S. Mission\\n\\n### RELATED LINKS\\n\\nFooter Disclaimer'},\n",
       " {'url': 'https://www.whitehouse.gov/',\n",
       "  'content': 'Donald J. Trump. President of the United States · JD Vance. VICE PRESIDENT OF THE UNITED STATES · Melania Trump. First Lady OF THE UNITED STATES · The Cabinet. Of'},\n",
       " {'url': 'https://en.wikipedia.org/wiki/Donald_Trump',\n",
       "  'content': 'Donald John Trump (born June 14, 1946) is an American politician, media personality, and businessman who is the 47th president of the United States.'}]"
      ]
     },
     "execution_count": 22,
     "metadata": {},
     "output_type": "execute_result"
    }
   ],
   "source": [
    "tool_mapping[tool_details[0][\"function\"][\"name\"]].invoke(json.loads(tool_details[0][\"function\"][\"arguments\"]))"
   ]
  },
  {
   "cell_type": "code",
   "execution_count": 16,
   "metadata": {},
   "outputs": [],
   "source": [
    "class AgentState(TypedDict):\n",
    "    messages: Annotated[Sequence[BaseMessage], operator.add]"
   ]
  },
  {
   "cell_type": "code",
   "execution_count": 17,
   "metadata": {},
   "outputs": [],
   "source": [
    "def invoke_model(state:AgentState):\n",
    "    messages = state['messages']\n",
    "    question = messages[-1]   ## Fetching the user question\n",
    "    return {\"messages\":[model_with_tools.invoke(question)]}"
   ]
  },
  {
   "cell_type": "code",
   "execution_count": 18,
   "metadata": {},
   "outputs": [],
   "source": [
    "def invoke_tool(state:AgentState):\n",
    "    tool_details= state['messages'][-1].additional_kwargs.get(\"tool_calls\", [])[0]\n",
    "    \n",
    "    if tool_details is None:\n",
    "        raise Exception(\"no tool call found\")\n",
    "    \n",
    "    print(f'Selected tool: {tool_details.get(\"function\").get(\"name\")}')\n",
    "    \n",
    "    if tool_details.get(\"function\").get(\"name\")==\"search\":\n",
    "        response = input(prompt=f\"[y/n] continue with expensive web search?\")\n",
    "        if response == \"n\":\n",
    "            raise Exception(\"web search discard\")\n",
    "        \n",
    "    response = tool_mapping[tool_details['function']['name']].invoke(json.loads(tool_details.get(\"function\").get(\"arguments\")))\n",
    "    return {\"messages\" : [response]}"
   ]
  },
  {
   "cell_type": "code",
   "execution_count": 19,
   "metadata": {},
   "outputs": [],
   "source": [
    "def router(state):\n",
    "    tool_calls = state['messages'][-1].additional_kwargs.get(\"tool_calls\", [])\n",
    "    if len(tool_calls):\n",
    "        return \"tool\"\n",
    "    else:\n",
    "        return \"end\""
   ]
  },
  {
   "cell_type": "code",
   "execution_count": 20,
   "metadata": {},
   "outputs": [
    {
     "data": {
      "text/plain": [
       "<langgraph.graph.state.StateGraph at 0x25646ed5340>"
      ]
     },
     "execution_count": 20,
     "metadata": {},
     "output_type": "execute_result"
    }
   ],
   "source": [
    "graph = StateGraph(AgentState) ### StateGraph with AgentState\n",
    "\n",
    "graph.add_node(\"ai_assistant\", invoke_model)\n",
    "\n",
    "graph.add_node(\"tool\", invoke_tool)"
   ]
  },
  {
   "cell_type": "code",
   "execution_count": 21,
   "metadata": {},
   "outputs": [
    {
     "data": {
      "text/plain": [
       "<langgraph.graph.state.StateGraph at 0x25646ed5340>"
      ]
     },
     "execution_count": 21,
     "metadata": {},
     "output_type": "execute_result"
    }
   ],
   "source": [
    "graph.add_conditional_edges(\"ai_assistant\", router, {\"tool\": \"tool\",\"end\": END,})\n",
    "\n",
    "graph.add_edge(\"tool\", END)\n",
    "\n",
    "#graph.add_edge(\"tool\", \"ai_assistant\")\n",
    "\n",
    "graph.set_entry_point(\"ai_assistant\")"
   ]
  },
  {
   "cell_type": "code",
   "execution_count": 22,
   "metadata": {},
   "outputs": [],
   "source": [
    "app = graph.compile()"
   ]
  },
  {
   "cell_type": "code",
   "execution_count": 23,
   "metadata": {},
   "outputs": [
    {
     "data": {
      "image/png": "[encoded data removed]",
      "text/plain": [
       "<IPython.core.display.Image object>"
      ]
     },
     "metadata": {},
     "output_type": "display_data"
    }
   ],
   "source": [
    "from IPython.display import Image, display\n",
    "display(Image(app.get_graph().draw_mermaid_png()))"
   ]
  },
  {
   "cell_type": "code",
   "execution_count": 25,
   "metadata": {},
   "outputs": [
    {
     "name": "stdout",
     "output_type": "stream",
     "text": [
      "{'messages': [AIMessage(content='', additional_kwargs={'tool_calls': [{'id': 'r3n0edhyv', 'function': {'arguments': '{\"query\":\"who is the upcoming president of USA\"}', 'name': 'search'}, 'type': 'function'}]}, response_metadata={'token_usage': {'completion_tokens': 86, 'prompt_tokens': 1074, 'total_tokens': 1160, 'completion_time': 0.156363636, 'prompt_time': 0.037741469, 'queue_time': 0.249879041, 'total_time': 0.194105105}, 'model_name': 'Gemma2-9b-It', 'system_fingerprint': 'fp_10c08bf97d', 'finish_reason': 'tool_calls', 'logprobs': None}, id='run--6bccaeda-6537-41ad-bdb7-2ffc8adafa72-0', tool_calls=[{'name': 'search', 'args': {'query': 'who is the upcoming president of USA'}, 'id': 'r3n0edhyv', 'type': 'tool_call'}], usage_metadata={'input_tokens': 1074, 'output_tokens': 86, 'total_tokens': 1160})]}\n",
      "----\n",
      "Selected tool: search\n",
      "{'messages': [[{'url': 'https://www.bbc.com/news/articles/cde7ng85jwgo', 'content': \"Republican Donald Trump will be the next US president, after he defeated Democrat Kamala Harris in November's election.\\n\\nTrump previously served as US president between 2017 and 2021.\\n\\n## Is Donald Trump president yet?\\n\\nNo. Trump is the president-elect and [his running mate](https://www.bbc.co.uk/news/articles/c5y5g2k2yp3o), [JD Vance](https://www.bbc.co.uk/news/articles/c5y5g2k2yp3o), is the vice-president- elect. [...] This was the case when state electors met across the country on **17 December**, with the final tally showing that Trump won 312 votes against Harris' 226, well above the 270 threshold.\\n\\nThe new US Congress met on **6 January** [to ratify the electoral college votes and confirm the new president](https://www.bbc.co.uk/news/articles/c5yxn8nnnkvo).\\n\\nThis process was overseen [by outgoing vice-president, Kamala Harris](https://www.bbc.co.uk/news/articles/cd9x33z8nzpo). [...] It was this meeting of Congress that Trump supporters tried to stop in 2021, [when they marched on the US Capitol](https://www.bbc.co.uk/news/world-us-canada-67889403) after Trump refused to concede to Biden.\\n\\nTrump will be sworn in as president during the inauguration ceremony at the Capitol on 20 January. He will take the oath of office and then deliver his first speech as president, known as the inaugural address.\"}, {'url': 'https://en.wikipedia.org/wiki/2024_United_States_presidential_election', 'content': \"Presidential elections were held in the United States on November 5, 2024. The Republican Party's ticket—Donald Trump, who was the 45th president of the\"}, {'url': 'https://www.cnn.com/election/2024', 'content': '![President Joe Biden delivers remarks on the 2024 election results and the upcoming presidential transition of power, in the Rose Garden of the White House in Washington, DC, on Novmeber 7.](https://media.cnn.com/api/v1/images/stellar/prod/c-2024-11-07t162943z-389893363-rc2g0ba2k70g-rtrmadp-3-usa-election-biden.jpg?c=16x9&q=h_144,w_256,c_fill)\\n![ThumbMB.png](https://media.cnn.com/api/v1/images/stellar/prod/thumbmb-20241107003718733.png?c=16x9&q=h_144,w_256,c_fill) [...] ![Former first lady Melania Trump, former President Donald Trump and Barron Trump at the Palm Beach County Convention Center in West Palm Beach, Florida, on Wednesday, November 6.](https://media.cnn.com/api/v1/images/stellar/prod/c-wl2-0453-copy.jpg?c=16x9&q=h_438,w_780,c_fill)\\n![The sun rises behind the US Capitol building on October 26, in Washington, DC. ](https://media.cnn.com/api/v1/images/stellar/prod/c-gettyimages-2181170094.jpg?c=16x9&q=h_144,w_256,c_fill) [...] ![US Vice President Democratic presidential candidate Kamala Harris speaks at Howard University in Washington, DC, on November 6, 2024. Donald Trump won a sweeping victory on November 6, 2024 in the US presidential election, defeating Kamala Harris to complete an astonishing political comeback that sent shock waves around the world. (Photo by SAUL LOEB / AFP) (Photo by SAUL LOEB/AFP via Getty'}, {'url': 'https://www.youtube.com/watch?v=20Syj8-dJnA', 'content': '# Donald Trump elected next U.S. president\\n\\nABC7\\n8058 likes\\n762823 views\\n6 Nov 2024\\nWith projections made in most states across the country, ABC News has projected that former President Donald Trump will win the high-stakes presidential match-up against Vice President Kamala Harris.\\n\\nhttps://abc7.com/live-updates/trump-harris-2024-election-updates/15454438/\\n5725 comments'}, {'url': 'https://ballotpedia.org/Presidential_candidates,_2024', 'content': 'Former President Donald Trump (R) won the November 5, 2024, presidential election. Twenty-four candidates appeared on presidential election ballots across the'}]]}\n",
      "----\n"
     ]
    }
   ],
   "source": [
    "for s in app.stream({\"messages\": [\"who is upcoming president of USA?\"]}):\n",
    "    print(list(s.values())[0])\n",
    "    print(\"----\")"
   ]
  },
  {
   "cell_type": "code",
   "execution_count": 32,
   "metadata": {},
   "outputs": [
    {
     "name": "stdout",
     "output_type": "stream",
     "text": [
      "{'messages': [AIMessage(content='', additional_kwargs={'tool_calls': [{'id': 'tv94ggzqm', 'function': {'arguments': '{\"first_number\":23,\"second_number\":46}', 'name': 'multiply'}, 'type': 'function'}]}, response_metadata={'token_usage': {'completion_tokens': 93, 'prompt_tokens': 1079, 'total_tokens': 1172, 'completion_time': 0.169090909, 'prompt_time': 0.046264845, 'queue_time': 0.249673955, 'total_time': 0.215355754}, 'model_name': 'Gemma2-9b-It', 'system_fingerprint': 'fp_10c08bf97d', 'finish_reason': 'tool_calls', 'logprobs': None}, id='run--bdef8ebc-0c2b-4f65-9972-8c81d39f4db6-0', tool_calls=[{'name': 'multiply', 'args': {'first_number': 23, 'second_number': 46}, 'id': 'tv94ggzqm', 'type': 'tool_call'}], usage_metadata={'input_tokens': 1079, 'output_tokens': 93, 'total_tokens': 1172})]}\n",
      "----\n",
      "Selected tool: multiply\n",
      "{'messages': [1058]}\n",
      "----\n"
     ]
    }
   ],
   "source": [
    "for s in app.stream({\"messages\": [\"what is multiplication of 23 and 46?\"]}):\n",
    "    print(list(s.values())[0])\n",
    "    print(\"----\")"
   ]
  },
  {
   "cell_type": "code",
   "execution_count": 33,
   "metadata": {},
   "outputs": [
    {
     "name": "stdout",
     "output_type": "stream",
     "text": [
      "{'messages': [AIMessage(content='', additional_kwargs={'tool_calls': [{'id': 'a0c9ryy5a', 'function': {'arguments': '{\"query\":\"what is the total amount of money exist over the earth\"}', 'name': 'search'}, 'type': 'function'}]}, response_metadata={'token_usage': {'completion_tokens': 90, 'prompt_tokens': 1079, 'total_tokens': 1169, 'completion_time': 0.163636364, 'prompt_time': 0.037687077, 'queue_time': 0.24883757299999998, 'total_time': 0.201323441}, 'model_name': 'Gemma2-9b-It', 'system_fingerprint': 'fp_10c08bf97d', 'finish_reason': 'tool_calls', 'logprobs': None}, id='run--ee6d7ad9-007b-476c-a4c4-0b04dfb2d63c-0', tool_calls=[{'name': 'search', 'args': {'query': 'what is the total amount of money exist over the earth'}, 'id': 'a0c9ryy5a', 'type': 'tool_call'}], usage_metadata={'input_tokens': 1079, 'output_tokens': 90, 'total_tokens': 1169})]}\n",
      "----\n",
      "Selected tool: search\n",
      "{'messages': [[{'url': 'https://www.reddit.com/r/NoStupidQuestions/comments/1ibpgjd/how_much_money_exists_in_the_world/', 'content': \"It depends on how you define money. There's physical cash, liquid money, etc. The total global money supply is likely around $100-200 trillion.\"}, {'url': 'https://worldpopulationreview.com/metrics/how-much-money-is-in-the-world', 'content': 'The currency with the highest banknote denomination in history was the Zimbabwean Dollar (ZWD), which went out of circulation in 2009 as its value plummeted. In an attempt to cope with a plummeting currency, the Zimbabwean government printed a banknote with a denomination of 100 trillion ZWD. At the time, this was only worth about $0.40. Therefore if we equate the estimated $80 trillion that exists in the world today to the extinct Zimbabwean Dollar, the total value of all currency on Earth is [...] Worldwide, M0 is projected at around $5 trillion. This is the sum of all the minted money of all currencies in circulation. However, the figure that we may be more interested in can be referred to as â\\x80\\x9cbroad moneyâ\\x80\\x9d or M3. This figure accounts for all funds in checking, savings, and money-market accounts; itâ\\x80\\x99s essentially all digital money owned by anyone, anywhere. This figure runs much, much higher with an estimated $80 trillion in worldwide funds. [...] about 20 octillion ZWD. That number looks like this: 20,000,000,000,000,000,000,000,000,000. If you printed that much money in 500 ZWD notes, the volume of the notes would be approximate to the volume of the Earth itself.'}, {'url': 'https://www.finance-monthly.com/2025/04/total-global-wealth-how-much-money-is-on-earth/', 'content': 'M0 refers to all the physical coins and paper bills in circulation worldwide—converted to U.S. dollars, of course. In total, the value of all physical currency comes in around $8–9 trillion. Sounds like a lot, right? Well, here\\'s the kicker: This is actually less than 10% of the total global money supply. Less than 10%! It turns out there’s a whole lot more to money than what you can physically hold in your hands. [...] Money isn\\'t just what you have in your wallet or tucked away in a safe. The global money supply has various layers—starting with physical cash, known as \"M0,\" and then branching out to include everything from checking and savings accounts to institutional funds and less liquid assets. Each layer reveals a different aspect of the wealth circulating in the world—and highlights just how little of it is actually in your hands.\\n\\n## **M0: $8–9 Trillion** [...] So, if you\\'re trying to count all the money in the world—including the big institutional wealth most of us will never see—you’re looking at a global money supply of nearly $130 trillion.\\n\\n![money,bag,money,flying](https://www.finance-monthly.com/wp-content/uploads/2025/01/shutterstock_2481161483-1-1.jpg)\\n\\n![money,bag,money,flying](https://www.finance-monthly.com/wp-content/uploads/2025/01/shutterstock_2481161483-1-1.jpg)\\n\\n## **Conclusion: The Crazy Scale of Global Wealth**'}, {'url': 'https://www.aol.com/much-money-world-now-193712578.html', 'content': 'There is nearly $21.22 trillion in the total global money supply (M2), $18.15 trillion of which is M1. Even if [digital currencies](https://www.gobankingrates.com/credit-cards/advice/dave-ramsey-why-united-states-isnt-switching-to-100-percent-digital-currency/?hyperlink_type=manual&utm_term=incontent_link_8&utm_campaign=1289826&utm_source=aol.com&utm_content=9&utm_medium=rss) render physical money obsolete, the kinds of currencies central banks are considering would still be quantifiable — just [...] If you’re curious about the total value of notes and coins in circulation, the Bank for International Settlements estimated it to be $8,275,000,000,000, or $8.28 trillion U.S. dollars, across 20 major countries plus the euro area in 2021, its most recent estimate. Of course, there are nearly 200 countries in the world, so this is just a rough estimate of the most narrowly defined — and perhaps easiest to quantify — category of money. [...] As of September 2024, the total amount of U.S. dollars in circulation, referred to as the monetary base (M0), was $2.3 trillion. This includes all physical currency like notes and coins, as well as money held in reserves by banks.'}, {'url': 'https://www.moneydigest.com/1486588/how-much-money-exists-world/', 'content': 'Nowadays, the term \"money\" has expanded even further to include things like cryptocurrency and funds held in checking, savings, and investment accounts. Therefore, when considering how much money exists in the world, the answer is going to depend heavily on how broad your definition of money is. But lest we be accused of burying the lede, estimates say there\\'s approximately $83 trillion floating around the globe in either cash, bank accounts, or other instruments that can be converted quickly [...] In case you were wondering how much $83 trillion represents on a per-person basis, the Earth\\'s population is currently about 8.1 billion. That works out to $10,246.91 for every human on earth, if divided equally. Finally, SunnyAvenue, a UK-based purveyor of financial advice, estimates that the world\\'s money supply would tally more than $1 quadrillion if [cryptocurrencies](https://www.moneydigest.com/1430309/cryptocurrency-value-explained/) were included in the equation. If you\\'re anything like [...] stands at $48.9 trillion as of late November 2022.'}]]}\n",
      "----\n"
     ]
    }
   ],
   "source": [
    "for s in app.stream({\"messages\": [\"what is the total amount of money exist over the earth?\"]}):\n",
    "    print(list(s.values())[0])\n",
    "    print(\"----\")"
   ]
  },
  {
   "cell_type": "markdown",
   "metadata": {},
   "source": [
    "#### LangGraph supports human-in-the-loop workflows in a number of ways. In this section, we will use LangGraph's interrupt_before functionality to always break the tool node."
   ]
  },
  {
   "cell_type": "code",
   "execution_count": 34,
   "metadata": {},
   "outputs": [],
   "source": [
    "from langchain_groq import ChatGroq\n",
    "llm=ChatGroq(model_name=\"Gemma2-9b-It\")"
   ]
  },
  {
   "cell_type": "code",
   "execution_count": 35,
   "metadata": {},
   "outputs": [],
   "source": [
    "class AgentState(TypedDict):\n",
    "    messages: Annotated[list, add_messages]"
   ]
  },
  {
   "cell_type": "code",
   "execution_count": 36,
   "metadata": {},
   "outputs": [],
   "source": [
    "tavily=TavilySearchResults()"
   ]
  },
  {
   "cell_type": "code",
   "execution_count": 37,
   "metadata": {},
   "outputs": [],
   "source": [
    "tools = [tavily]"
   ]
  },
  {
   "cell_type": "code",
   "execution_count": 38,
   "metadata": {},
   "outputs": [],
   "source": [
    "llm_with_tools = llm.bind_tools(tools)"
   ]
  },
  {
   "cell_type": "code",
   "execution_count": 39,
   "metadata": {},
   "outputs": [],
   "source": [
    "def ai_assistant(state: AgentState):\n",
    "    return {\"messages\": [llm_with_tools.invoke(state[\"messages\"])]}"
   ]
  },
  {
   "cell_type": "code",
   "execution_count": 40,
   "metadata": {},
   "outputs": [],
   "source": [
    "memory = MemorySaver()"
   ]
  },
  {
   "cell_type": "code",
   "execution_count": 41,
   "metadata": {},
   "outputs": [
    {
     "data": {
      "text/plain": [
       "<langgraph.graph.state.StateGraph at 0x21f16caa7e0>"
      ]
     },
     "execution_count": 41,
     "metadata": {},
     "output_type": "execute_result"
    }
   ],
   "source": [
    "graph_builder = StateGraph(AgentState)\n",
    "graph_builder.add_node(\"ai_assistant\", ai_assistant)\n",
    "\n",
    "tool_node = ToolNode(tools=tools)\n",
    "graph_builder.add_node(\"tools\", tool_node)"
   ]
  },
  {
   "cell_type": "code",
   "execution_count": 42,
   "metadata": {},
   "outputs": [
    {
     "data": {
      "text/plain": [
       "<langgraph.graph.state.StateGraph at 0x21f16caa7e0>"
      ]
     },
     "execution_count": 42,
     "metadata": {},
     "output_type": "execute_result"
    }
   ],
   "source": [
    "graph_builder.add_edge(START, \"ai_assistant\")\n",
    "\n",
    "graph_builder.add_conditional_edges(\n",
    "    \"ai_assistant\",\n",
    "    tools_condition,\n",
    ")\n",
    "graph_builder.add_edge(\"tools\", \"ai_assistant\")"
   ]
  },
  {
   "cell_type": "code",
   "execution_count": 43,
   "metadata": {},
   "outputs": [],
   "source": [
    "app2 = graph_builder.compile(\n",
    "    checkpointer=memory,\n",
    "    # This is new!\n",
    "    interrupt_before=[\"tools\"],\n",
    "    # Note: can also interrupt __after__ tools, if desired.\n",
    "    # interrupt_after=[\"tools\"]\n",
    ")"
   ]
  },
  {
   "cell_type": "code",
   "execution_count": 44,
   "metadata": {},
   "outputs": [
    {
     "data": {
      "image/png": "[encoded data removed]",
      "text/plain": [
       "<IPython.core.display.Image object>"
      ]
     },
     "metadata": {},
     "output_type": "display_data"
    }
   ],
   "source": [
    "from IPython.display import Image, display\n",
    "display(Image(app2.get_graph().draw_mermaid_png()))"
   ]
  },
  {
   "cell_type": "code",
   "execution_count": 45,
   "metadata": {},
   "outputs": [],
   "source": [
    "user_input = \"what is current a capital of india?\"\n",
    "config = {\"configurable\": {\"thread_id\": \"1\"}}"
   ]
  },
  {
   "cell_type": "code",
   "execution_count": 46,
   "metadata": {},
   "outputs": [],
   "source": [
    "# The config is the **second positional argument** to stream() or invoke()!\n",
    "events = app2.stream(\n",
    "    {\"messages\": [(\"user\", user_input)]}, config, stream_mode=\"values\"\n",
    ")"
   ]
  },
  {
   "cell_type": "code",
   "execution_count": 47,
   "metadata": {},
   "outputs": [
    {
     "name": "stdout",
     "output_type": "stream",
     "text": [
      "================================\u001b[1m Human Message \u001b[0m=================================\n",
      "\n",
      "what is current a capital of india?\n",
      "==================================\u001b[1m Ai Message \u001b[0m==================================\n",
      "Tool Calls:\n",
      "  tavily_search_results_json (h8bbfx4f1)\n",
      " Call ID: h8bbfx4f1\n",
      "  Args:\n",
      "    query: capital of india\n"
     ]
    }
   ],
   "source": [
    "for event in events:\n",
    "    if \"messages\" in event:\n",
    "        event[\"messages\"][-1].pretty_print()"
   ]
  },
  {
   "cell_type": "code",
   "execution_count": 48,
   "metadata": {},
   "outputs": [],
   "source": [
    "snapshot = app2.get_state(config)"
   ]
  },
  {
   "cell_type": "code",
   "execution_count": 49,
   "metadata": {},
   "outputs": [
    {
     "data": {
      "text/plain": [
       "('tools',)"
      ]
     },
     "execution_count": 49,
     "metadata": {},
     "output_type": "execute_result"
    }
   ],
   "source": [
    "snapshot.next"
   ]
  },
  {
   "cell_type": "code",
   "execution_count": 50,
   "metadata": {},
   "outputs": [],
   "source": [
    "last_message=snapshot.values[\"messages\"][-1]"
   ]
  },
  {
   "cell_type": "code",
   "execution_count": 51,
   "metadata": {},
   "outputs": [
    {
     "data": {
      "text/plain": [
       "[{'name': 'tavily_search_results_json',\n",
       "  'args': {'query': 'capital of india'},\n",
       "  'id': 'h8bbfx4f1',\n",
       "  'type': 'tool_call'}]"
      ]
     },
     "execution_count": 51,
     "metadata": {},
     "output_type": "execute_result"
    }
   ],
   "source": [
    "last_message.tool_calls"
   ]
  },
  {
   "cell_type": "code",
   "execution_count": 52,
   "metadata": {},
   "outputs": [],
   "source": [
    "# `None` will append nothing new to the current state, letting it resume as if it had never been interrupted\n",
    "events = app2.stream(None, config, stream_mode=\"values\")"
   ]
  },
  {
   "cell_type": "code",
   "execution_count": 53,
   "metadata": {},
   "outputs": [
    {
     "name": "stdout",
     "output_type": "stream",
     "text": [
      "==================================\u001b[1m Ai Message \u001b[0m==================================\n",
      "Tool Calls:\n",
      "  tavily_search_results_json (h8bbfx4f1)\n",
      " Call ID: h8bbfx4f1\n",
      "  Args:\n",
      "    query: capital of india\n",
      "=================================\u001b[1m Tool Message \u001b[0m=================================\n",
      "Name: tavily_search_results_json\n",
      "\n",
      "[{\"url\": \"https://en.wikipedia.org/wiki/New_Delhi\", \"content\": \"ˈdɪlːiː]](https://en.wikipedia.org/wiki/Help:IPA/Hindi_and_Urdu \\\"Help:IPA/Hindi and Urdu\\\")) is the [capital](https://en.wikipedia.org/wiki/Capital_city \\\"Capital city\\\") of [India](https://en.wikipedia.org/wiki/India \\\"India\\\") and a part of the [National Capital Territory of Delhi](https://en.wikipedia.org/wiki/Delhi \\\"Delhi\\\") (NCT). New Delhi is the seat of all three branches of the [Government of India](https://en.wikipedia.org/wiki/Government_of_India \\\"Government of India\\\"), hosting the [...] The national capital of India, New Delhi is jointly administered by both the Central [Government of India](https://en.wikipedia.org/wiki/Government_of_India \\\"Government of India\\\") and the local [Government of Delhi](https://en.wikipedia.org/wiki/Government_of_Delhi \\\"Government of Delhi\\\"), it is also the capital of the National Capital Territory (NCT) of Delhi. [...] [![Image 4: Page semi-protected](https://upload.wikimedia.org/wikipedia/en/thumb/1/1b/Semi-protection-shackle.svg/20px-Semi-protection-shackle.svg.png)](https://en.wikipedia.org/wiki/Wikipedia:Protection_policy#semi \\\"This article is semi-protected.\\\")\\n\\nFrom Wikipedia, the free encyclopedia\\n\\nCapital city of India\"}, {\"url\": \"https://en.wikipedia.org/wiki/Delhi\", \"content\": \"The name \\\"New Delhi\\\" was given in 1927, and the new capital was inaugurated on 13 February 1931. [New Delhi](https://en.wikipedia.org/wiki/New_Delhi \\\"New Delhi\\\") was officially declared as the capital of the [Union of India](https://en.wikipedia.org/wiki/Dominion_of_India \\\"Dominion of India\\\") after the country gained [independence](https://en.wikipedia.org/wiki/History_of_the_Republic_of_India \\\"History of the Republic of India\\\") on 15 August [...] | [New Delhi](https://en.wikipedia.org/wiki/New_Delhi \\\"New Delhi\\\"), capital, [British Indian Empire](https://en.wikipedia.org/wiki/British_Raj \\\"British Raj\\\") | 12 December 1911 |\\n| New Delhi, capital, [Republic of India](https://en.wikipedia.org/wiki/Republic_of_India \\\"Republic of India\\\") | 26 January 1950 |\\n| Union Territory[[1]](https://en.wikipedia.org/wiki/Delhi#cite_note-7thAmend56-1)[[2]](https://en.wikipedia.org/wiki/Delhi#cite_note-ReorgAct56-2) | 1 November 1956 | [...] \\\"National Capital Territory\\\" redirects here. For the generic term, see [Capital districts and territories](https://en.wikipedia.org/wiki/Capital_districts_and_territories \\\"Capital districts and territories\\\").\\n\\nNot to be confused with [New Delhi](https://en.wikipedia.org/wiki/New_Delhi \\\"New Delhi\\\"), the capital of India, entirely within the limits of Delhi and [New Delhi district](https://en.wikipedia.org/wiki/New_Delhi_district \\\"New Delhi district\\\").\"}]\n",
      "==================================\u001b[1m Ai Message \u001b[0m==================================\n",
      "Tool Calls:\n",
      "  tavily_search_results_json (ypt4m4g10)\n",
      " Call ID: ypt4m4g10\n",
      "  Args:\n",
      "    query: when did india gain independence\n"
     ]
    }
   ],
   "source": [
    "for event in events:\n",
    "    if \"messages\" in event:\n",
    "        event[\"messages\"][-1].pretty_print()"
   ]
  },
  {
   "cell_type": "code",
   "execution_count": 54,
   "metadata": {},
   "outputs": [],
   "source": [
    "user_input = \"what is a weather there?\"\n",
    "\n",
    "config = {\"configurable\": {\"thread_id\": \"1\"}}"
   ]
  },
  {
   "cell_type": "code",
   "execution_count": 55,
   "metadata": {},
   "outputs": [],
   "source": [
    "# The config is the **second positional argument** to stream() or invoke()!\n",
    "events = app2.stream(\n",
    "    {\"messages\": [(\"user\", user_input)]}, config, stream_mode=\"values\"\n",
    ")"
   ]
  },
  {
   "cell_type": "code",
   "execution_count": 56,
   "metadata": {},
   "outputs": [
    {
     "name": "stdout",
     "output_type": "stream",
     "text": [
      "================================\u001b[1m Human Message \u001b[0m=================================\n",
      "\n",
      "what is a weather there?\n",
      "==================================\u001b[1m Ai Message \u001b[0m==================================\n",
      "\n",
      "You'll need to provide a location for me to tell you the weather there! \n",
      "\n",
      "For example, you could ask:\n",
      "\n",
      "\"What is the weather in London?\" \n",
      "\"What is the weather like in Paris?\"\n",
      "\"What's the forecast for Tokyo?\"\n"
     ]
    }
   ],
   "source": [
    "for event in events:\n",
    "    if \"messages\" in event:\n",
    "        event[\"messages\"][-1].pretty_print()"
   ]
  },
  {
   "cell_type": "code",
   "execution_count": 57,
   "metadata": {},
   "outputs": [],
   "source": [
    "snapshot = app2.get_state(config)"
   ]
  },
  {
   "cell_type": "code",
   "execution_count": 58,
   "metadata": {},
   "outputs": [
    {
     "data": {
      "text/plain": [
       "()"
      ]
     },
     "execution_count": 58,
     "metadata": {},
     "output_type": "execute_result"
    }
   ],
   "source": [
    "snapshot.next"
   ]
  },
  {
   "cell_type": "code",
   "execution_count": 59,
   "metadata": {},
   "outputs": [],
   "source": [
    "last_message=snapshot.values[\"messages\"][-1]"
   ]
  },
  {
   "cell_type": "code",
   "execution_count": 60,
   "metadata": {},
   "outputs": [
    {
     "data": {
      "text/plain": [
       "[]"
      ]
     },
     "execution_count": 60,
     "metadata": {},
     "output_type": "execute_result"
    }
   ],
   "source": [
    "last_message.tool_calls"
   ]
  },
  {
   "cell_type": "code",
   "execution_count": 61,
   "metadata": {},
   "outputs": [],
   "source": [
    "# `None` will append nothing new to the current state, letting it resume as if it had never been interrupted\n",
    "events = app2.stream(None, config, stream_mode=\"values\")"
   ]
  },
  {
   "cell_type": "code",
   "execution_count": 62,
   "metadata": {},
   "outputs": [
    {
     "name": "stdout",
     "output_type": "stream",
     "text": [
      "==================================\u001b[1m Ai Message \u001b[0m==================================\n",
      "\n",
      "You'll need to provide a location for me to tell you the weather there! \n",
      "\n",
      "For example, you could ask:\n",
      "\n",
      "\"What is the weather in London?\" \n",
      "\"What is the weather like in Paris?\"\n",
      "\"What's the forecast for Tokyo?\"\n"
     ]
    }
   ],
   "source": [
    "for event in events:\n",
    "    if \"messages\" in event:\n",
    "        event[\"messages\"][-1].pretty_print()"
   ]
  },
  {
   "cell_type": "code",
   "execution_count": 63,
   "metadata": {},
   "outputs": [
    {
     "data": {
      "text/plain": [
       "StateSnapshot(values={'messages': [HumanMessage(content='what is current a capital of india?', additional_kwargs={}, response_metadata={}, id='909cef2a-23b6-4a28-9ac8-e47770413eba'), AIMessage(content='', additional_kwargs={'tool_calls': [{'id': 'h8bbfx4f1', 'function': {'arguments': '{\"query\":\"capital of india\"}', 'name': 'tavily_search_results_json'}, 'type': 'function'}]}, response_metadata={'token_usage': {'completion_tokens': 87, 'prompt_tokens': 988, 'total_tokens': 1075, 'completion_time': 0.158181818, 'prompt_time': 0.042968764, 'queue_time': 0.27017736600000003, 'total_time': 0.201150582}, 'model_name': 'Gemma2-9b-It', 'system_fingerprint': 'fp_10c08bf97d', 'finish_reason': 'tool_calls', 'logprobs': None}, id='run--c8d0b584-e826-4c22-a40a-02b03a558b08-0', tool_calls=[{'name': 'tavily_search_results_json', 'args': {'query': 'capital of india'}, 'id': 'h8bbfx4f1', 'type': 'tool_call'}], usage_metadata={'input_tokens': 988, 'output_tokens': 87, 'total_tokens': 1075}), ToolMessage(content='[{\"url\": \"https://en.wikipedia.org/wiki/New_Delhi\", \"content\": \"ˈdɪlːiː]](https://en.wikipedia.org/wiki/Help:IPA/Hindi_and_Urdu \\\\\"Help:IPA/Hindi and Urdu\\\\\")) is the [capital](https://en.wikipedia.org/wiki/Capital_city \\\\\"Capital city\\\\\") of [India](https://en.wikipedia.org/wiki/India \\\\\"India\\\\\") and a part of the [National Capital Territory of Delhi](https://en.wikipedia.org/wiki/Delhi \\\\\"Delhi\\\\\") (NCT). New Delhi is the seat of all three branches of the [Government of India](https://en.wikipedia.org/wiki/Government_of_India \\\\\"Government of India\\\\\"), hosting the [...] The national capital of India, New Delhi is jointly administered by both the Central [Government of India](https://en.wikipedia.org/wiki/Government_of_India \\\\\"Government of India\\\\\") and the local [Government of Delhi](https://en.wikipedia.org/wiki/Government_of_Delhi \\\\\"Government of Delhi\\\\\"), it is also the capital of the National Capital Territory (NCT) of Delhi. [...] [![Image 4: Page semi-protected](https://upload.wikimedia.org/wikipedia/en/thumb/1/1b/Semi-protection-shackle.svg/20px-Semi-protection-shackle.svg.png)](https://en.wikipedia.org/wiki/Wikipedia:Protection_policy#semi \\\\\"This article is semi-protected.\\\\\")\\\\n\\\\nFrom Wikipedia, the free encyclopedia\\\\n\\\\nCapital city of India\"}, {\"url\": \"https://en.wikipedia.org/wiki/Delhi\", \"content\": \"The name \\\\\"New Delhi\\\\\" was given in 1927, and the new capital was inaugurated on 13 February 1931. [New Delhi](https://en.wikipedia.org/wiki/New_Delhi \\\\\"New Delhi\\\\\") was officially declared as the capital of the [Union of India](https://en.wikipedia.org/wiki/Dominion_of_India \\\\\"Dominion of India\\\\\") after the country gained [independence](https://en.wikipedia.org/wiki/History_of_the_Republic_of_India \\\\\"History of the Republic of India\\\\\") on 15 August [...] | [New Delhi](https://en.wikipedia.org/wiki/New_Delhi \\\\\"New Delhi\\\\\"), capital, [British Indian Empire](https://en.wikipedia.org/wiki/British_Raj \\\\\"British Raj\\\\\") | 12 December 1911 |\\\\n| New Delhi, capital, [Republic of India](https://en.wikipedia.org/wiki/Republic_of_India \\\\\"Republic of India\\\\\") | 26 January 1950 |\\\\n| Union Territory[[1]](https://en.wikipedia.org/wiki/Delhi#cite_note-7thAmend56-1)[[2]](https://en.wikipedia.org/wiki/Delhi#cite_note-ReorgAct56-2) | 1 November 1956 | [...] \\\\\"National Capital Territory\\\\\" redirects here. For the generic term, see [Capital districts and territories](https://en.wikipedia.org/wiki/Capital_districts_and_territories \\\\\"Capital districts and territories\\\\\").\\\\n\\\\nNot to be confused with [New Delhi](https://en.wikipedia.org/wiki/New_Delhi \\\\\"New Delhi\\\\\"), the capital of India, entirely within the limits of Delhi and [New Delhi district](https://en.wikipedia.org/wiki/New_Delhi_district \\\\\"New Delhi district\\\\\").\"}]', name='tavily_search_results_json', id='92d7e64f-88f5-46a0-a295-547ef661bc66', tool_call_id='h8bbfx4f1', artifact={'query': 'capital of india', 'follow_up_questions': None, 'answer': None, 'images': [], 'results': [{'url': 'https://en.wikipedia.org/wiki/New_Delhi', 'title': 'New Delhi - Wikipedia', 'content': 'ˈdɪlːiː]](https://en.wikipedia.org/wiki/Help:IPA/Hindi_and_Urdu \"Help:IPA/Hindi and Urdu\")) is the [capital](https://en.wikipedia.org/wiki/Capital_city \"Capital city\") of [India](https://en.wikipedia.org/wiki/India \"India\") and a part of the [National Capital Territory of Delhi](https://en.wikipedia.org/wiki/Delhi \"Delhi\") (NCT). New Delhi is the seat of all three branches of the [Government of India](https://en.wikipedia.org/wiki/Government_of_India \"Government of India\"), hosting the [...] The national capital of India, New Delhi is jointly administered by both the Central [Government of India](https://en.wikipedia.org/wiki/Government_of_India \"Government of India\") and the local [Government of Delhi](https://en.wikipedia.org/wiki/Government_of_Delhi \"Government of Delhi\"), it is also the capital of the National Capital Territory (NCT) of Delhi. [...] [![Image 4: Page semi-protected](https://upload.wikimedia.org/wikipedia/en/thumb/1/1b/Semi-protection-shackle.svg/20px-Semi-protection-shackle.svg.png)](https://en.wikipedia.org/wiki/Wikipedia:Protection_policy#semi \"This article is semi-protected.\")\\n\\nFrom Wikipedia, the free encyclopedia\\n\\nCapital city of India', 'score': 0.8921218, 'raw_content': None}, {'url': 'https://en.wikipedia.org/wiki/Delhi', 'title': 'Delhi - Wikipedia', 'content': 'The name \"New Delhi\" was given in 1927, and the new capital was inaugurated on 13 February 1931. [New Delhi](https://en.wikipedia.org/wiki/New_Delhi \"New Delhi\") was officially declared as the capital of the [Union of India](https://en.wikipedia.org/wiki/Dominion_of_India \"Dominion of India\") after the country gained [independence](https://en.wikipedia.org/wiki/History_of_the_Republic_of_India \"History of the Republic of India\") on 15 August [...] | [New Delhi](https://en.wikipedia.org/wiki/New_Delhi \"New Delhi\"), capital, [British Indian Empire](https://en.wikipedia.org/wiki/British_Raj \"British Raj\") | 12 December 1911 |\\n| New Delhi, capital, [Republic of India](https://en.wikipedia.org/wiki/Republic_of_India \"Republic of India\") | 26 January 1950 |\\n| Union Territory[[1]](https://en.wikipedia.org/wiki/Delhi#cite_note-7thAmend56-1)[[2]](https://en.wikipedia.org/wiki/Delhi#cite_note-ReorgAct56-2) | 1 November 1956 | [...] \"National Capital Territory\" redirects here. For the generic term, see [Capital districts and territories](https://en.wikipedia.org/wiki/Capital_districts_and_territories \"Capital districts and territories\").\\n\\nNot to be confused with [New Delhi](https://en.wikipedia.org/wiki/New_Delhi \"New Delhi\"), the capital of India, entirely within the limits of Delhi and [New Delhi district](https://en.wikipedia.org/wiki/New_Delhi_district \"New Delhi district\").', 'score': 0.85186684, 'raw_content': None}], 'response_time': 3.0}), AIMessage(content='', additional_kwargs={'tool_calls': [{'id': 'ypt4m4g10', 'function': {'arguments': '{\"query\":\"when did india gain independence\"}', 'name': 'tavily_search_results_json'}, 'type': 'function'}]}, response_metadata={'token_usage': {'completion_tokens': 57, 'prompt_tokens': 1873, 'total_tokens': 1930, 'completion_time': 0.103636364, 'prompt_time': 0.064834631, 'queue_time': 0.24931334000000002, 'total_time': 0.168470995}, 'model_name': 'Gemma2-9b-It', 'system_fingerprint': 'fp_10c08bf97d', 'finish_reason': 'tool_calls', 'logprobs': None}, id='run--aee5b631-a3b2-4a78-a998-ca9ba19300f6-0', tool_calls=[{'name': 'tavily_search_results_json', 'args': {'query': 'when did india gain independence'}, 'id': 'ypt4m4g10', 'type': 'tool_call'}], usage_metadata={'input_tokens': 1873, 'output_tokens': 57, 'total_tokens': 1930}), HumanMessage(content='what is a weather there?', additional_kwargs={}, response_metadata={}, id='34fdfab9-937a-4bb1-891a-f173fd6453e7'), AIMessage(content='You\\'ll need to provide a location for me to tell you the weather there! \\n\\nFor example, you could ask:\\n\\n\"What is the weather in London?\" \\n\"What is the weather like in Paris?\"\\n\"What\\'s the forecast for Tokyo?\" \\n\\n\\n\\n', additional_kwargs={}, response_metadata={'token_usage': {'completion_tokens': 61, 'prompt_tokens': 1942, 'total_tokens': 2003, 'completion_time': 0.110909091, 'prompt_time': 0.076088643, 'queue_time': 0.250862276, 'total_time': 0.186997734}, 'model_name': 'Gemma2-9b-It', 'system_fingerprint': 'fp_10c08bf97d', 'finish_reason': 'stop', 'logprobs': None}, id='run--d79b0c0a-9207-49fd-ade1-16518b4812ca-0', usage_metadata={'input_tokens': 1942, 'output_tokens': 61, 'total_tokens': 2003})]}, next=(), config={'configurable': {'thread_id': '1', 'checkpoint_ns': '', 'checkpoint_id': '1f0490e7-b0a5-68ba-8006-fb1b1ec6433b'}}, metadata={'source': 'loop', 'writes': {'ai_assistant': {'messages': [AIMessage(content='You\\'ll need to provide a location for me to tell you the weather there! \\n\\nFor example, you could ask:\\n\\n\"What is the weather in London?\" \\n\"What is the weather like in Paris?\"\\n\"What\\'s the forecast for Tokyo?\" \\n\\n\\n\\n', additional_kwargs={}, response_metadata={'token_usage': {'completion_tokens': 61, 'prompt_tokens': 1942, 'total_tokens': 2003, 'completion_time': 0.110909091, 'prompt_time': 0.076088643, 'queue_time': 0.250862276, 'total_time': 0.186997734}, 'model_name': 'Gemma2-9b-It', 'system_fingerprint': 'fp_10c08bf97d', 'finish_reason': 'stop', 'logprobs': None}, id='run--d79b0c0a-9207-49fd-ade1-16518b4812ca-0', usage_metadata={'input_tokens': 1942, 'output_tokens': 61, 'total_tokens': 2003})]}}, 'thread_id': '1', 'step': 6, 'parents': {}}, created_at='2025-06-14T10:58:19.113081+00:00', parent_config={'configurable': {'thread_id': '1', 'checkpoint_ns': '', 'checkpoint_id': '1f0490e7-abe9-68df-8005-7af86ddd4f9c'}}, tasks=())"
      ]
     },
     "execution_count": 63,
     "metadata": {},
     "output_type": "execute_result"
    }
   ],
   "source": [
    "app2.get_state(config)"
   ]
  },
  {
   "cell_type": "code",
   "execution_count": 64,
   "metadata": {},
   "outputs": [],
   "source": [
    "snapshot=app2.get_state(config)"
   ]
  },
  {
   "cell_type": "code",
   "execution_count": 65,
   "metadata": {},
   "outputs": [
    {
     "data": {
      "text/plain": [
       "()"
      ]
     },
     "execution_count": 65,
     "metadata": {},
     "output_type": "execute_result"
    }
   ],
   "source": [
    "snapshot.next"
   ]
  },
  {
   "cell_type": "code",
   "execution_count": 66,
   "metadata": {},
   "outputs": [],
   "source": [
    "user_input = \"give me the recent news of it?\"\n",
    "\n",
    "config = {\"configurable\": {\"thread_id\": \"1\"}}"
   ]
  },
  {
   "cell_type": "code",
   "execution_count": 67,
   "metadata": {},
   "outputs": [],
   "source": [
    "# The config is the **second positional argument** to stream() or invoke()!\n",
    "events = app2.stream(\n",
    "    {\"messages\": [(\"user\", user_input)]}, config, stream_mode=\"values\"\n",
    ")"
   ]
  },
  {
   "cell_type": "code",
   "execution_count": 68,
   "metadata": {},
   "outputs": [
    {
     "name": "stdout",
     "output_type": "stream",
     "text": [
      "================================\u001b[1m Human Message \u001b[0m=================================\n",
      "\n",
      "give me the recent news of it?\n",
      "==================================\u001b[1m Ai Message \u001b[0m==================================\n",
      "\n",
      "Please tell me what \"it\" refers to so I can give you recent news about it!  \n",
      "\n",
      "For example, are you interested in news about:\n",
      "\n",
      "* A specific country? (e.g., \"Give me recent news about India.\")\n",
      "* A particular topic? (e.g., \"Give me recent news about climate change.\")\n",
      "* A company or organization? (e.g., \"Give me recent news about Apple.\") \n",
      "\n",
      "\n",
      "Let me know and I'll do my best to find some recent news for you!\n"
     ]
    }
   ],
   "source": [
    "for event in events:\n",
    "    if \"messages\" in event:\n",
    "        event[\"messages\"][-1].pretty_print()"
   ]
  },
  {
   "cell_type": "code",
   "execution_count": 69,
   "metadata": {},
   "outputs": [],
   "source": [
    "snapshot=app2.get_state(config)"
   ]
  },
  {
   "cell_type": "code",
   "execution_count": 70,
   "metadata": {},
   "outputs": [],
   "source": [
    "current_message = snapshot.values[\"messages\"][-1]"
   ]
  },
  {
   "cell_type": "code",
   "execution_count": 71,
   "metadata": {},
   "outputs": [
    {
     "name": "stdout",
     "output_type": "stream",
     "text": [
      "==================================\u001b[1m Ai Message \u001b[0m==================================\n",
      "\n",
      "Please tell me what \"it\" refers to so I can give you recent news about it!  \n",
      "\n",
      "For example, are you interested in news about:\n",
      "\n",
      "* A specific country? (e.g., \"Give me recent news about India.\")\n",
      "* A particular topic? (e.g., \"Give me recent news about climate change.\")\n",
      "* A company or organization? (e.g., \"Give me recent news about Apple.\") \n",
      "\n",
      "\n",
      "Let me know and I'll do my best to find some recent news for you!\n"
     ]
    }
   ],
   "source": [
    "current_message.pretty_print()"
   ]
  },
  {
   "cell_type": "code",
   "execution_count": 72,
   "metadata": {},
   "outputs": [
    {
     "ename": "IndexError",
     "evalue": "list index out of range",
     "output_type": "error",
     "traceback": [
      "\u001b[31m---------------------------------------------------------------------------\u001b[39m",
      "\u001b[31mIndexError\u001b[39m                                Traceback (most recent call last)",
      "\u001b[36mCell\u001b[39m\u001b[36m \u001b[39m\u001b[32mIn[72]\u001b[39m\u001b[32m, line 1\u001b[39m\n\u001b[32m----> \u001b[39m\u001b[32m1\u001b[39m tool_call_id = \u001b[43mcurrent_message\u001b[49m\u001b[43m.\u001b[49m\u001b[43mtool_calls\u001b[49m\u001b[43m[\u001b[49m\u001b[32;43m0\u001b[39;49m\u001b[43m]\u001b[49m[\u001b[33m\"\u001b[39m\u001b[33mid\u001b[39m\u001b[33m\"\u001b[39m] \n",
      "\u001b[31mIndexError\u001b[39m: list index out of range"
     ]
    }
   ],
   "source": [
    "tool_call_id = current_message.tool_calls[0][\"id\"] "
   ]
  },
  {
   "cell_type": "code",
   "execution_count": null,
   "metadata": {},
   "outputs": [
    {
     "data": {
      "text/plain": [
       "'call_k054'"
      ]
     },
     "execution_count": 180,
     "metadata": {},
     "output_type": "execute_result"
    }
   ],
   "source": [
    "tool_call_id"
   ]
  },
  {
   "cell_type": "code",
   "execution_count": null,
   "metadata": {},
   "outputs": [],
   "source": [
    "from langchain_core.messages import AIMessage, ToolMessage"
   ]
  },
  {
   "cell_type": "code",
   "execution_count": null,
   "metadata": {},
   "outputs": [],
   "source": [
    "answer = \"it is just related to raining which is happing on daily basis\""
   ]
  },
  {
   "cell_type": "code",
   "execution_count": null,
   "metadata": {},
   "outputs": [],
   "source": [
    "new_messages = [\n",
    "    ToolMessage(content=answer, tool_call_id=tool_call_id),\n",
    "    AIMessage(content=answer),\n",
    "]"
   ]
  },
  {
   "cell_type": "code",
   "execution_count": null,
   "metadata": {},
   "outputs": [
    {
     "data": {
      "text/plain": [
       "{'configurable': {'thread_id': '1',\n",
       "  'checkpoint_ns': '',\n",
       "  'checkpoint_id': '1efa3f9e-a414-6c0a-800e-b3cf9a8c9199'}}"
      ]
     },
     "execution_count": 183,
     "metadata": {},
     "output_type": "execute_result"
    }
   ],
   "source": [
    "app2.update_state(\n",
    "    config,\n",
    "    {\"messages\": new_messages},\n",
    ")"
   ]
  },
  {
   "cell_type": "code",
   "execution_count": null,
   "metadata": {},
   "outputs": [
    {
     "name": "stdout",
     "output_type": "stream",
     "text": [
      "[AIMessage(content='it is just related to raining which is happing on daily basis', additional_kwargs={}, response_metadata={}, id='86ee0c6d-7771-4ed6-8bd2-242adace39be')]\n"
     ]
    }
   ],
   "source": [
    "print(app2.get_state(config).values[\"messages\"][-1:])"
   ]
  },
  {
   "cell_type": "code",
   "execution_count": null,
   "metadata": {},
   "outputs": [],
   "source": []
  }
 ],
 "metadata": {
  "kernelspec": {
   "display_name": "langgraph",
   "language": "python",
   "name": "python3"
  },
  "language_info": {
   "codemirror_mode": {
    "name": "ipython",
    "version": 3
   },
   "file_extension": ".py",
   "mimetype": "text/x-python",
   "name": "python",
   "nbconvert_exporter": "python",
   "pygments_lexer": "ipython3",
   "version": "3.12.0"
  }
 },
 "nbformat": 4,
 "nbformat_minor": 2
}
