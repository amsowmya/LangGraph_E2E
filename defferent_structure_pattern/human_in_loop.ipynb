{
 "cells": [
  {
   "cell_type": "code",
   "execution_count": 130,
   "id": "dbe5e06f",
   "metadata": {},
   "outputs": [],
   "source": [
    "import os \n",
    "from dotenv import load_dotenv\n",
    "from langgraph.graph import StateGraph, START, END\n",
    "from langgraph.graph.message import add_messages, MessagesState\n",
    "from langgraph.prebuilt import ToolNode, tools_condition\n",
    "from langchain_groq.chat_models import ChatGroq\n",
    "from langchain_core.tools import tool\n",
    "from langchain_community.tools.tavily_search import TavilySearchResults"
   ]
  },
  {
   "cell_type": "code",
   "execution_count": null,
   "id": "e89c1848",
   "metadata": {},
   "outputs": [],
   "source": [
    "groq_api_key = os.getenv('GROQ_API_KEY')\n",
    "\n",
    "llm = ChatGroq(groq_api_key=groq_api_key, model=\"Gemma2-9b-It\")"
   ]
  },
  {
   "cell_type": "code",
   "execution_count": 132,
   "id": "9a5d3335",
   "metadata": {},
   "outputs": [
    {
     "data": {
      "text/plain": [
       "'Hi there! 👋  How can I help you today?\\n'"
      ]
     },
     "execution_count": 132,
     "metadata": {},
     "output_type": "execute_result"
    }
   ],
   "source": [
    "llm.invoke(\"hi\").content"
   ]
  },
  {
   "cell_type": "code",
   "execution_count": 133,
   "id": "a9decdf1",
   "metadata": {},
   "outputs": [],
   "source": [
    "@tool \n",
    "def multiply(firstnum: int, secondnum: int) -> int:\n",
    "    \"\"\"This function will multiply two numbers\"\"\"\n",
    "    return firstnum * secondnum"
   ]
  },
  {
   "cell_type": "code",
   "execution_count": 134,
   "id": "bf6c156c",
   "metadata": {},
   "outputs": [
    {
     "data": {
      "text/plain": [
       "4"
      ]
     },
     "execution_count": 134,
     "metadata": {},
     "output_type": "execute_result"
    }
   ],
   "source": [
    "multiply.invoke({\"firstnum\": 2, \"secondnum\": 2})"
   ]
  },
  {
   "cell_type": "code",
   "execution_count": 135,
   "id": "64eb8ff7",
   "metadata": {},
   "outputs": [],
   "source": [
    "@tool \n",
    "def search(query: str):\n",
    "    \"\"\"Perform the web search on user query\"\"\"\n",
    "    tavily = TavilySearchResults()\n",
    "    return tavily.invoke(query)"
   ]
  },
  {
   "cell_type": "code",
   "execution_count": 136,
   "id": "47e95695",
   "metadata": {},
   "outputs": [
    {
     "data": {
      "text/plain": [
       "[{'url': 'https://en.wikipedia.org/wiki/President_of_India',\n",
       "  'content': 'The **president of India** ([ISO](https://en.wikipedia.org/wiki/ISO_15919 \"ISO 15919\"): _Bhārata kē Rāṣṭrapati_) is the [head of state](https://en.wikipedia.org/wiki/Head_of_state \"Head of state\") of the [Republic of India](https://en.wikipedia.org/wiki/Republic_of_India \"Republic of India\"). The president is the nominal head of the executive,[[a]](https://en.wikipedia.org/wiki/President_of_India#cite_note-3) the first citizen of the country, and the [supreme [...] | President of India |\\n| --- |\\n| _Bhārata kē Rāṣṭrapati_ |\\n| [![Image 5](https://upload.wikimedia.org/wikipedia/commons/thumb/f/fa/President_of_India_Logo.png/330px-President_of_India_Logo.png)](https://en.wikipedia.org/wiki/File:President_of_India_Logo.png) Logo of the President of India | [...] *   **President of India**\\n\\n*   [Droupadi Murmu](https://en.wikipedia.org/wiki/Droupadi_Murmu \"Droupadi Murmu\") ([15th](https://en.wikipedia.org/wiki/List_of_Presidents_of_India \"List of Presidents of India\"))\\n\\n* * *\\n\\n*   **[Vice President of India](https://en.wikipedia.org/wiki/Vice_President_of_India \"Vice President of India\")**'},\n",
       " {'url': 'http://www.presidentofindia.gov.in/Profile',\n",
       "  'content': '[![Image 2: emblem-logo](http://www.presidentofindia.gov.in/themes/presidentofindia/images/logo.png) #### Smt. Droupadi Murmu The President of India](http://www.presidentofindia.gov.in/)\\n\\n![Image 3: building-logo](http://www.presidentofindia.gov.in/themes/presidentofindia/images/header-bg.png)'},\n",
       " {'url': 'http://www.presidentofindia.gov.in/',\n",
       "  'content': '[![Image 2: emblem-logo](http://www.presidentofindia.gov.in/themes/presidentofindia/images/logo.png) #### Smt. Droupadi Murmu The President of India](http://www.presidentofindia.gov.in/)\\n\\n![Image 3: building-logo](http://www.presidentofindia.gov.in/themes/presidentofindia/images/header-bg.png) [...] [![Image 17: The President of India, Smt Droupadi Murmu received H.E. Mr Santiago Peña Palacios, President of the Republic of Paraguay at Rashtrapati Bhavan on June 2, 2025.](http://www.presidentofindia.gov.in/sites/default/files/photo_gallery/as2_4663.jpg) The President of India, Smt Droupadi Murmu…](http://www.presidentofindia.gov.in/sites/default/files/photo_gallery/as2_4663.jpg) [...] [![Image 22: The President of India, Smt Droupadi Murmu received H.E. Mr Santiago Peña Palacios, President of the Republic of Paraguay at Rashtrapati Bhavan on June 2, 2025.](http://www.presidentofindia.gov.in/sites/default/files/photo_gallery/as2_4663.jpg) The President of India, Smt Droupadi Murmu…](http://www.presidentofindia.gov.in/sites/default/files/photo_gallery/as2_4663.jpg)'}]"
      ]
     },
     "execution_count": 136,
     "metadata": {},
     "output_type": "execute_result"
    }
   ],
   "source": [
    "search.invoke({\"query\": \"Who is the president of india?\"})"
   ]
  },
  {
   "cell_type": "code",
   "execution_count": 137,
   "id": "3a5e96bf",
   "metadata": {},
   "outputs": [],
   "source": [
    "tools = [multiply, search]"
   ]
  },
  {
   "cell_type": "code",
   "execution_count": 138,
   "id": "37039857",
   "metadata": {},
   "outputs": [],
   "source": [
    "model_with_tool = llm.bind_tools(tools)"
   ]
  },
  {
   "cell_type": "code",
   "execution_count": 139,
   "id": "b48f9529",
   "metadata": {},
   "outputs": [],
   "source": [
    "tool_mapping = {tool.name: tool for tool in tools}"
   ]
  },
  {
   "cell_type": "code",
   "execution_count": 140,
   "id": "5e87f05b",
   "metadata": {},
   "outputs": [
    {
     "data": {
      "text/plain": [
       "{'multiply': StructuredTool(name='multiply', description='This function will multiply two numbers', args_schema=<class 'langchain_core.utils.pydantic.multiply'>, func=<function multiply at 0x000002E221519120>),\n",
       " 'search': StructuredTool(name='search', description='Perform the web search on user query', args_schema=<class 'langchain_core.utils.pydantic.search'>, func=<function search at 0x000002E2214B7380>)}"
      ]
     },
     "execution_count": 140,
     "metadata": {},
     "output_type": "execute_result"
    }
   ],
   "source": [
    "tool_mapping"
   ]
  },
  {
   "cell_type": "code",
   "execution_count": 141,
   "id": "843188e9",
   "metadata": {},
   "outputs": [],
   "source": [
    "response = model_with_tool.invoke(\"who is the current president of usa?\")"
   ]
  },
  {
   "cell_type": "code",
   "execution_count": 142,
   "id": "5e5b6802",
   "metadata": {},
   "outputs": [
    {
     "data": {
      "text/plain": [
       "AIMessage(content='', additional_kwargs={'tool_calls': [{'id': 'qh1z7fhkh', 'function': {'arguments': '{\"query\":\"who is the current president of usa\"}', 'name': 'search'}, 'type': 'function'}]}, response_metadata={'token_usage': {'completion_tokens': 85, 'prompt_tokens': 1072, 'total_tokens': 1157, 'completion_time': 0.154545455, 'prompt_time': 0.037740873, 'queue_time': 0.245281127, 'total_time': 0.192286328}, 'model_name': 'Gemma2-9b-It', 'system_fingerprint': 'fp_10c08bf97d', 'finish_reason': 'tool_calls', 'logprobs': None}, id='run--cd31cd5e-5835-497a-9dc9-2e135cd1241c-0', tool_calls=[{'name': 'search', 'args': {'query': 'who is the current president of usa'}, 'id': 'qh1z7fhkh', 'type': 'tool_call'}], usage_metadata={'input_tokens': 1072, 'output_tokens': 85, 'total_tokens': 1157})"
      ]
     },
     "execution_count": 142,
     "metadata": {},
     "output_type": "execute_result"
    }
   ],
   "source": [
    "response"
   ]
  },
  {
   "cell_type": "code",
   "execution_count": 143,
   "id": "5ad71796",
   "metadata": {},
   "outputs": [],
   "source": [
    "tool_details = response.additional_kwargs.get('tool_calls')"
   ]
  },
  {
   "cell_type": "code",
   "execution_count": 144,
   "id": "35c42bce",
   "metadata": {},
   "outputs": [
    {
     "data": {
      "text/plain": [
       "[{'id': 'qh1z7fhkh',\n",
       "  'function': {'arguments': '{\"query\":\"who is the current president of usa\"}',\n",
       "   'name': 'search'},\n",
       "  'type': 'function'}]"
      ]
     },
     "execution_count": 144,
     "metadata": {},
     "output_type": "execute_result"
    }
   ],
   "source": [
    "tool_details"
   ]
  },
  {
   "cell_type": "code",
   "execution_count": 145,
   "id": "d8c8a8f6",
   "metadata": {},
   "outputs": [
    {
     "data": {
      "text/plain": [
       "'search'"
      ]
     },
     "execution_count": 145,
     "metadata": {},
     "output_type": "execute_result"
    }
   ],
   "source": [
    "tool_details[0][\"function\"][\"name\"]"
   ]
  },
  {
   "cell_type": "code",
   "execution_count": 146,
   "id": "bca88e0b",
   "metadata": {},
   "outputs": [
    {
     "data": {
      "text/plain": [
       "'{\"query\":\"who is the current president of usa\"}'"
      ]
     },
     "execution_count": 146,
     "metadata": {},
     "output_type": "execute_result"
    }
   ],
   "source": [
    "tool_details[0][\"function\"][\"arguments\"]"
   ]
  },
  {
   "cell_type": "code",
   "execution_count": 147,
   "id": "d60edbb3",
   "metadata": {},
   "outputs": [
    {
     "data": {
      "text/plain": [
       "{'query': 'who is the current president of usa'}"
      ]
     },
     "execution_count": 147,
     "metadata": {},
     "output_type": "execute_result"
    }
   ],
   "source": [
    "import json\n",
    "\n",
    "json.loads(tool_details[0][\"function\"][\"arguments\"])"
   ]
  },
  {
   "cell_type": "markdown",
   "id": "fa65d0b3",
   "metadata": {},
   "source": [
    "================"
   ]
  },
  {
   "cell_type": "code",
   "execution_count": null,
   "id": "d2487c5d",
   "metadata": {},
   "outputs": [],
   "source": []
  },
  {
   "cell_type": "code",
   "execution_count": 148,
   "id": "d2225311",
   "metadata": {},
   "outputs": [],
   "source": [
    "from typing import Annotated, Sequence, List, TypedDict, operator\n",
    "from langgraph.graph.message import BaseMessage\n",
    "import json\n",
    "\n",
    "class AgentState(TypedDict):\n",
    "    messages: Annotated[Sequence[BaseMessage], operator.add]"
   ]
  },
  {
   "cell_type": "code",
   "execution_count": 149,
   "id": "6c2c670a",
   "metadata": {},
   "outputs": [],
   "source": [
    "def invoke_model(state:AgentState):\n",
    "    messages = state['messages']\n",
    "    question = messages[-1]\n",
    "    print(\"**************\")\n",
    "    print(messages)\n",
    "    return {\"messages\": [model_with_tool.invoke(question)]}"
   ]
  },
  {
   "cell_type": "code",
   "execution_count": 150,
   "id": "eda6904f",
   "metadata": {},
   "outputs": [],
   "source": [
    "def invoke_tool(state:AgentState):\n",
    "    tool_details = state['messages'][-1].additional_kwargs.get('tool_calls', [])[0]\n",
    "    if tool_details is None:\n",
    "        raise Exception(\"no tool call found\")\n",
    "    \n",
    "    print(f\"Selected tool: {tool_details.get(\"function\").get(\"name\")}\")\n",
    "    \n",
    "    if tool_details.get(\"function\").get(\"name\") == \"search\":\n",
    "        response = input(prompt=f\"[y/n] continue with expensive web search\")\n",
    "        if response == 'n':\n",
    "            raise Exception(\"web search discard\")\n",
    "        \n",
    "    response = tool_mapping[tool_details['function']['name']].invoke(json.loads(tool_details.get(\"function\").get(\"arguments\")))\n",
    "    return{\"messages\": [response]}"
   ]
  },
  {
   "cell_type": "code",
   "execution_count": 151,
   "id": "d63079df",
   "metadata": {},
   "outputs": [],
   "source": [
    "def router(state: AgentState):\n",
    "    tool_call = state['messages'][-1].additional_kwargs.get(\"tool_calls\", [])\n",
    "    if len(tool_call):\n",
    "        return \"tools\"\n",
    "    else:\n",
    "        return \"end\""
   ]
  },
  {
   "cell_type": "code",
   "execution_count": 152,
   "id": "601003db",
   "metadata": {},
   "outputs": [],
   "source": [
    "graph = StateGraph(AgentState)\n",
    "\n",
    "graph.add_node(\"ai_assistant\", invoke_model)\n",
    "graph.add_node(\"tools\", invoke_tool)\n",
    "\n",
    "graph.add_edge(START, \"ai_assistant\")\n",
    "\n",
    "graph.add_conditional_edges(\n",
    "    \"ai_assistant\",\n",
    "    router,\n",
    "    {\n",
    "        \"tools\": \"tools\",\n",
    "        \"end\": END\n",
    "    }\n",
    ")\n",
    "\n",
    "graph.add_edge(\"tools\", END)\n",
    "\n",
    "app = graph.compile()"
   ]
  },
  {
   "cell_type": "code",
   "execution_count": 153,
   "id": "37d27cc6",
   "metadata": {},
   "outputs": [
    {
     "data": {
      "image/png": "[encoded data removed]",
      "text/plain": [
       "<IPython.core.display.Image object>"
      ]
     },
     "metadata": {},
     "output_type": "display_data"
    }
   ],
   "source": [
    "from IPython.display import display, Image\n",
    "\n",
    "display(Image(app.get_graph().draw_mermaid_png()))"
   ]
  },
  {
   "cell_type": "code",
   "execution_count": 154,
   "id": "f08f9f22",
   "metadata": {},
   "outputs": [
    {
     "name": "stdout",
     "output_type": "stream",
     "text": [
      "**************\n",
      "['who is upcoming president of USA?']\n",
      "Selected tool: search\n"
     ]
    },
    {
     "data": {
      "text/plain": [
       "{'messages': ['who is upcoming president of USA?',\n",
       "  AIMessage(content='', additional_kwargs={'tool_calls': [{'id': 't94hnaxw1', 'function': {'arguments': '{\"query\":\"upcoming president of the USA\"}', 'name': 'search'}, 'type': 'function'}]}, response_metadata={'token_usage': {'completion_tokens': 82, 'prompt_tokens': 1071, 'total_tokens': 1153, 'completion_time': 0.149090909, 'prompt_time': 0.046417895, 'queue_time': 0.246420747, 'total_time': 0.195508804}, 'model_name': 'Gemma2-9b-It', 'system_fingerprint': 'fp_10c08bf97d', 'finish_reason': 'tool_calls', 'logprobs': None}, id='run--c18bd5be-d02d-4d7d-9839-9ec541a8593a-0', tool_calls=[{'name': 'search', 'args': {'query': 'upcoming president of the USA'}, 'id': 't94hnaxw1', 'type': 'tool_call'}], usage_metadata={'input_tokens': 1071, 'output_tokens': 82, 'total_tokens': 1153}),\n",
       "  [{'url': 'https://www.britannica.com/event/United-States-presidential-election-of-2024',\n",
       "    'content': '**United States presidential election of 2024**, American [election](https://www.britannica.com/topic/election-political-science), held on November 5, 2024, in which former [Republican](https://www.britannica.com/topic/Republican-Party) [president](https://www.britannica.com/topic/president-government-official) [Donald Trump](https://www.britannica.com/biography/Donald-Trump) (2017–21) defeated the Democratic nominee, Vice Pres. [Kamala [...] ruling to the Eleventh Circuit Court of Appeals. However, on the same day that he requested the dismissal of Trump’s election-related case, he also asked the appeals court to remove Trump from the group of codefendants in the classified documents case, again [citing](https://www.britannica.com/dictionary/citing) Trump’s upcoming second term. [...] In June 2024, while campaigning for his own second term, Pres. Biden performed poorly in a nationally televised debate with Trump. Under intense pressure from prominent Democrats who feared he would lose the election, Biden withdrew his candidacy and [endorsed](https://www.merriam-webster.com/dictionary/endorsed) Harris as his replacement. In early August, Harris was officially named the Democratic Party’s presidential nominee following her victory in a virtual vote of party delegates.'},\n",
       "   {'url': 'https://www.bbc.com/news/articles/cde7ng85jwgo',\n",
       "    'content': 'Republican Donald Trump will be the next US president, after he defeated Democrat Kamala Harris in November\\'s election.\\n\\nTrump previously served as US president between 2017 and 2021.\\n\\n## Is Donald Trump president yet?\\n\\nNo. Trump is the president-elect and [his running mate](https://www.bbc.co.uk/news/articles/c5y5g2k2yp3o), [JD Vance](https://www.bbc.co.uk/news/articles/c5y5g2k2yp3o), is the vice-president- elect. [...] ![](https://static.files.bbci.co.uk/bbcdotcom/web/20250611-093910-fc500e843d-web-2.23.1-1/grey-placeholder.png)\\n![Reuters Donald Trump wearing a red baseball cap which reads \"Make America Great Again\" and has the numbers 45 and 47 embroidered on the side, referring to his previous tenure as the 45th US president and his forthcoming term as the 47th](https://ichef.bbci.co.uk/news/480/cpsprodpb/83ec/live/df008270-b2fc-11ef-b3dd-1716df558836.jpg.webp) [...] It was this meeting of Congress that Trump supporters tried to stop in 2021, [when they marched on the US Capitol](https://www.bbc.co.uk/news/world-us-canada-67889403) after Trump refused to concede to Biden.\\n\\nTrump will be sworn in as president during the inauguration ceremony at the Capitol on 20 January. He will take the oath of office and then deliver his first speech as president, known as the inaugural address.'},\n",
       "   {'url': 'https://en.wikipedia.org/wiki/2024_United_States_presidential_election',\n",
       "    'content': \"Presidential elections were held in the United States on November 5, 2024. The Republican Party's ticket—Donald Trump, who was the 45th president of the\"},\n",
       "   {'url': 'https://www.cnn.com/election/2024',\n",
       "    'content': '![President Joe Biden delivers remarks on the 2024 election results and the upcoming presidential transition of power, in the Rose Garden of the White House in Washington, DC, on Novmeber 7.](https://media.cnn.com/api/v1/images/stellar/prod/c-2024-11-07t162943z-389893363-rc2g0ba2k70g-rtrmadp-3-usa-election-biden.jpg?c=16x9&q=h_144,w_256,c_fill)\\n![ThumbMB.png](https://media.cnn.com/api/v1/images/stellar/prod/thumbmb-20241107003718733.png?c=16x9&q=h_144,w_256,c_fill) [...] ![Former first lady Melania Trump, former President Donald Trump and Barron Trump at the Palm Beach County Convention Center in West Palm Beach, Florida, on Wednesday, November 6.](https://media.cnn.com/api/v1/images/stellar/prod/c-wl2-0453-copy.jpg?c=16x9&q=h_438,w_780,c_fill)\\n![The sun rises behind the US Capitol building on October 26, in Washington, DC. ](https://media.cnn.com/api/v1/images/stellar/prod/c-gettyimages-2181170094.jpg?c=16x9&q=h_144,w_256,c_fill) [...] ![US Vice President Democratic presidential candidate Kamala Harris speaks at Howard University in Washington, DC, on November 6, 2024. Donald Trump won a sweeping victory on November 6, 2024 in the US presidential election, defeating Kamala Harris to complete an astonishing political comeback that sent shock waves around the world. (Photo by SAUL LOEB / AFP) (Photo by SAUL LOEB/AFP via Getty'},\n",
       "   {'url': 'https://www.nytimes.com/interactive/2023/us/politics/presidential-candidates-2024.html',\n",
       "    'content': 'But a little over three weeks after a disastrous debate performance, Mr. Biden ended his campaign. Vice President Kamala Harris sought the nomination in the president’s place, and the Democratic Party immediately consolidated around her. In early August, delegates [officially chose her](https://www.nytimes.com/2024/08/06/us/politics/kamala-harris-president-campaign-2024.html) as the party’s nominee. [...] Both major-party candidates have selected their running mates, essentially finalizing the field. Mr. Trump [announced in July](https://www.nytimes.com/2024/07/15/us/politics/trump-vp-pick.html) his choice of Senator JD Vance of Ohio, and Ms. Harris [announced in August](https://www.nytimes.com/live/2024/08/06/us/kamala-harris-vp-trump-election) that she had chosen Gov. Tim Walz of Minnesota.\\n\\n### Number of candidates in the race over time [...] Vice President Harris, a former prosecutor and senator of California, has at times struggled to define her role at Mr. Biden’s side.\\n\\n### Republican [Read more: Candidates on the issues ›](https://www.nytimes.com/interactive/2023/08/18/us/politics/republican-candidates-2024-issues.html)\\n\\n#### Donald J. Trump\\n\\nFormer President Donald J. Trump is running to retake the office he lost in 2020, then denied losing to the point of inciting a mob of his supporters to attack the United States Capitol.'}]]}"
      ]
     },
     "execution_count": 154,
     "metadata": {},
     "output_type": "execute_result"
    }
   ],
   "source": [
    "app.invoke({\"messages\": [\"who is upcoming president of USA?\"]})"
   ]
  },
  {
   "cell_type": "code",
   "execution_count": 155,
   "id": "ef8d7190",
   "metadata": {},
   "outputs": [
    {
     "name": "stdout",
     "output_type": "stream",
     "text": [
      "**************\n",
      "['who is upcoming president of USA?']\n",
      "{'messages': [AIMessage(content='', additional_kwargs={'tool_calls': [{'id': 'qn2e262h4', 'function': {'arguments': '{\"query\":\"upcoming president of USA\"}', 'name': 'search'}, 'type': 'function'}]}, response_metadata={'token_usage': {'completion_tokens': 83, 'prompt_tokens': 1071, 'total_tokens': 1154, 'completion_time': 0.150909091, 'prompt_time': 0.041089746, 'queue_time': 0.24542589699999998, 'total_time': 0.191998837}, 'model_name': 'Gemma2-9b-It', 'system_fingerprint': 'fp_10c08bf97d', 'finish_reason': 'tool_calls', 'logprobs': None}, id='run--dd6d2335-0866-4fbc-9db7-798e66266c89-0', tool_calls=[{'name': 'search', 'args': {'query': 'upcoming president of USA'}, 'id': 'qn2e262h4', 'type': 'tool_call'}], usage_metadata={'input_tokens': 1071, 'output_tokens': 83, 'total_tokens': 1154})]}\n",
      "----\n",
      "Selected tool: search\n",
      "{'messages': [[{'url': 'https://www.britannica.com/event/United-States-presidential-election-of-2024', 'content': '**United States presidential election of 2024**, American [election](https://www.britannica.com/topic/election-political-science), held on November 5, 2024, in which former [Republican](https://www.britannica.com/topic/Republican-Party) [president](https://www.britannica.com/topic/president-government-official) [Donald Trump](https://www.britannica.com/biography/Donald-Trump) (2017–21) defeated the Democratic nominee, Vice Pres. [Kamala [...] ruling to the Eleventh Circuit Court of Appeals. However, on the same day that he requested the dismissal of Trump’s election-related case, he also asked the appeals court to remove Trump from the group of codefendants in the classified documents case, again [citing](https://www.britannica.com/dictionary/citing) Trump’s upcoming second term. [...] In June 2024, while campaigning for his own second term, Pres. Biden performed poorly in a nationally televised debate with Trump. Under intense pressure from prominent Democrats who feared he would lose the election, Biden withdrew his candidacy and [endorsed](https://www.merriam-webster.com/dictionary/endorsed) Harris as his replacement. In early August, Harris was officially named the Democratic Party’s presidential nominee following her victory in a virtual vote of party delegates.'}, {'url': 'https://www.bbc.com/news/articles/cde7ng85jwgo', 'content': 'Republican Donald Trump will be the next US president, after he defeated Democrat Kamala Harris in November\\'s election.\\n\\nTrump previously served as US president between 2017 and 2021.\\n\\n## Is Donald Trump president yet?\\n\\nNo. Trump is the president-elect and [his running mate](https://www.bbc.co.uk/news/articles/c5y5g2k2yp3o), [JD Vance](https://www.bbc.co.uk/news/articles/c5y5g2k2yp3o), is the vice-president- elect. [...] ![](https://static.files.bbci.co.uk/bbcdotcom/web/20250611-093910-fc500e843d-web-2.23.1-1/grey-placeholder.png)\\n![Reuters Donald Trump wearing a red baseball cap which reads \"Make America Great Again\" and has the numbers 45 and 47 embroidered on the side, referring to his previous tenure as the 45th US president and his forthcoming term as the 47th](https://ichef.bbci.co.uk/news/480/cpsprodpb/83ec/live/df008270-b2fc-11ef-b3dd-1716df558836.jpg.webp) [...] It was this meeting of Congress that Trump supporters tried to stop in 2021, [when they marched on the US Capitol](https://www.bbc.co.uk/news/world-us-canada-67889403) after Trump refused to concede to Biden.\\n\\nTrump will be sworn in as president during the inauguration ceremony at the Capitol on 20 January. He will take the oath of office and then deliver his first speech as president, known as the inaugural address.'}, {'url': 'https://en.wikipedia.org/wiki/2024_United_States_presidential_election', 'content': \"Presidential elections were held in the United States on November 5, 2024. The Republican Party's ticket—Donald Trump, who was the 45th president of the\"}, {'url': 'https://www.cnn.com/election/2024', 'content': '![President Joe Biden delivers remarks on the 2024 election results and the upcoming presidential transition of power, in the Rose Garden of the White House in Washington, DC, on Novmeber 7.](https://media.cnn.com/api/v1/images/stellar/prod/c-2024-11-07t162943z-389893363-rc2g0ba2k70g-rtrmadp-3-usa-election-biden.jpg?c=16x9&q=h_144,w_256,c_fill)\\n![ThumbMB.png](https://media.cnn.com/api/v1/images/stellar/prod/thumbmb-20241107003718733.png?c=16x9&q=h_144,w_256,c_fill) [...] ![Former first lady Melania Trump, former President Donald Trump and Barron Trump at the Palm Beach County Convention Center in West Palm Beach, Florida, on Wednesday, November 6.](https://media.cnn.com/api/v1/images/stellar/prod/c-wl2-0453-copy.jpg?c=16x9&q=h_438,w_780,c_fill)\\n![The sun rises behind the US Capitol building on October 26, in Washington, DC. ](https://media.cnn.com/api/v1/images/stellar/prod/c-gettyimages-2181170094.jpg?c=16x9&q=h_144,w_256,c_fill) [...] ![US Vice President Democratic presidential candidate Kamala Harris speaks at Howard University in Washington, DC, on November 6, 2024. Donald Trump won a sweeping victory on November 6, 2024 in the US presidential election, defeating Kamala Harris to complete an astonishing political comeback that sent shock waves around the world. (Photo by SAUL LOEB / AFP) (Photo by SAUL LOEB/AFP via Getty'}, {'url': 'https://en.wikipedia.org/wiki/2024_United_States_elections', 'content': 'Elections were held in the United States on November 5, 2024. In the presidential election, former Republican President Donald Trump,'}]]}\n",
      "----\n"
     ]
    }
   ],
   "source": [
    "   \n",
    "for s in app.stream({\"messages\": [\"who is upcoming president of USA?\"]}):\n",
    "    print(list(s.values())[0])\n",
    "    print(\"----\")"
   ]
  },
  {
   "cell_type": "markdown",
   "id": "066a6854",
   "metadata": {},
   "source": [
    "===================================================================="
   ]
  },
  {
   "cell_type": "code",
   "execution_count": null,
   "id": "746f4643",
   "metadata": {},
   "outputs": [],
   "source": []
  },
  {
   "cell_type": "code",
   "execution_count": 161,
   "id": "e8c4217e",
   "metadata": {},
   "outputs": [],
   "source": [
    "from langgraph.graph import StateGraph, START, END\n",
    "from langgraph.graph.message import add_messages, MessagesState\n",
    "from langgraph.checkpoint.memory import MemorySaver\n",
    "from langgraph.prebuilt import ToolNode, tools_condition\n",
    "from langchain_groq.chat_models import ChatGroq\n",
    "\n",
    "from langchain_community.tools.tavily_search import TavilySearchResults\n",
    "from langchain_core.tools import tool"
   ]
  },
  {
   "cell_type": "code",
   "execution_count": 158,
   "id": "6a8a9afd",
   "metadata": {},
   "outputs": [],
   "source": [
    "groq_api_key = os.getenv('GROQ_API_KEY')\n",
    "\n",
    "llm = ChatGroq(groq_api_key=groq_api_key, model=\"Gemma2-9b-It\")"
   ]
  },
  {
   "cell_type": "code",
   "execution_count": 160,
   "id": "f4a003f5",
   "metadata": {},
   "outputs": [],
   "source": [
    "tavily = TavilySearchResults()"
   ]
  },
  {
   "cell_type": "code",
   "execution_count": 162,
   "id": "185961d6",
   "metadata": {},
   "outputs": [],
   "source": [
    "@tool \n",
    "def multiply(a: int, b: int):\n",
    "    \"\"\"multiply two numbers\"\"\"\n",
    "    return a * b"
   ]
  },
  {
   "cell_type": "code",
   "execution_count": 163,
   "id": "6695c1a5",
   "metadata": {},
   "outputs": [],
   "source": [
    "tools = [tavily, multiply]"
   ]
  },
  {
   "cell_type": "code",
   "execution_count": 164,
   "id": "45b56399",
   "metadata": {},
   "outputs": [],
   "source": [
    "llm_with_tools = llm.bind_tools(tools)"
   ]
  },
  {
   "cell_type": "code",
   "execution_count": 184,
   "id": "80868e95",
   "metadata": {},
   "outputs": [],
   "source": [
    "def invoke_model(state: MessagesState):\n",
    "    messages = state['messages'][-1].content\n",
    "    print(\"---------------\")\n",
    "    print(messages)\n",
    "    print(\"-----------------\")\n",
    "    return {\"messages\": [llm_with_tools.invoke(messages)]}"
   ]
  },
  {
   "cell_type": "code",
   "execution_count": 185,
   "id": "0239fd03",
   "metadata": {},
   "outputs": [],
   "source": [
    "memory = MemorySaver()"
   ]
  },
  {
   "cell_type": "code",
   "execution_count": 186,
   "id": "0fa47d6a",
   "metadata": {},
   "outputs": [],
   "source": [
    "graph = StateGraph(MessagesState)\n",
    "\n",
    "graph.add_node(\"ai_assistant\", invoke_model)\n",
    "graph.add_node(\"tools\", ToolNode(tools))\n",
    "\n",
    "graph.add_conditional_edges(\n",
    "    \"ai_assistant\",\n",
    "    tools_condition\n",
    ")\n",
    "\n",
    "graph.set_entry_point(\"ai_assistant\")\n",
    "graph.add_edge(\"tools\", \"ai_assistant\")\n",
    "\n",
    "app = graph.compile(checkpointer=memory,\n",
    "                    interrupt_before=[\"tools\"]\n",
    "                    )"
   ]
  },
  {
   "cell_type": "code",
   "execution_count": 187,
   "id": "8716a5c5",
   "metadata": {},
   "outputs": [
    {
     "data": {
      "image/png": "[encoded data removed]",
      "text/plain": [
       "<IPython.core.display.Image object>"
      ]
     },
     "metadata": {},
     "output_type": "display_data"
    }
   ],
   "source": [
    "from IPython.display import display, Image\n",
    "\n",
    "display(Image(app.get_graph().draw_mermaid_png()))"
   ]
  },
  {
   "cell_type": "code",
   "execution_count": 188,
   "id": "10742682",
   "metadata": {},
   "outputs": [],
   "source": [
    "config = {\"configurable\": {\"thread_id\": \"1\"}}"
   ]
  },
  {
   "cell_type": "code",
   "execution_count": 189,
   "id": "d9a71916",
   "metadata": {},
   "outputs": [
    {
     "name": "stdout",
     "output_type": "stream",
     "text": [
      "name: messages\n",
      "[HumanMessage(content='who is the current president of india?', additional_kwargs={}, response_metadata={}, id='308c950e-4eff-4aaf-9600-2e53576cb666')]\n",
      "===========\n",
      "---------------\n",
      "who is the current president of india?\n",
      "-----------------\n",
      "name: messages\n",
      "[HumanMessage(content='who is the current president of india?', additional_kwargs={}, response_metadata={}, id='308c950e-4eff-4aaf-9600-2e53576cb666'), AIMessage(content='', additional_kwargs={'tool_calls': [{'id': '2xwr9m8v5', 'function': {'arguments': '{\"query\":\"who is the current president of india\"}', 'name': 'tavily_search_results_json'}, 'type': 'function'}]}, response_metadata={'token_usage': {'completion_tokens': 91, 'prompt_tokens': 1108, 'total_tokens': 1199, 'completion_time': 0.165454545, 'prompt_time': 0.038887114, 'queue_time': 0.24964136799999997, 'total_time': 0.204341659}, 'model_name': 'Gemma2-9b-It', 'system_fingerprint': 'fp_10c08bf97d', 'finish_reason': 'tool_calls', 'logprobs': None}, id='run--87d8521a-5160-4a8f-96e9-27d60794b8f0-0', tool_calls=[{'name': 'tavily_search_results_json', 'args': {'query': 'who is the current president of india'}, 'id': '2xwr9m8v5', 'type': 'tool_call'}], usage_metadata={'input_tokens': 1108, 'output_tokens': 91, 'total_tokens': 1199})]\n",
      "===========\n"
     ]
    }
   ],
   "source": [
    "inputs = {\"messages\": [\"who is the current president of india?\"]}\n",
    "\n",
    "for events in app.stream(inputs, config=config, stream_mode=\"values\"):\n",
    "    for key, value in events.items():\n",
    "        print(f\"name: {key}\")\n",
    "        print(value)\n",
    "        print(\"===========\")"
   ]
  },
  {
   "cell_type": "code",
   "execution_count": 190,
   "id": "16d7404a",
   "metadata": {},
   "outputs": [],
   "source": [
    "events = app.stream(None, config=config, stream_mode=\"values\")"
   ]
  },
  {
   "cell_type": "code",
   "execution_count": 192,
   "id": "d80f86fe",
   "metadata": {},
   "outputs": [
    {
     "name": "stdout",
     "output_type": "stream",
     "text": [
      "==================================\u001b[1m Ai Message \u001b[0m==================================\n",
      "Tool Calls:\n",
      "  tavily_search_results_json (2xwr9m8v5)\n",
      " Call ID: 2xwr9m8v5\n",
      "  Args:\n",
      "    query: who is the current president of india\n",
      "=================================\u001b[1m Tool Message \u001b[0m=================================\n",
      "Name: tavily_search_results_json\n",
      "\n",
      "[{\"url\": \"http://www.rashtrapatibhavan.gov.in/about-us\", \"content\": \"The President of India is the head of state of the Republic of India. The President is the nominal head of the executive, the first citizen of the country, as well as the commander-in-chief of the Indian Armed Forces. Smt. Droupadi Murmu is the 15th and current President, having taken office from 25 July 2022.\\n\\n![Rashtrapati Bhavan](/sites/default/files/2023-03/aboutus.jpg \\\"Rashtrapati Bhavan\\\")\"}, {\"url\": \"https://en.wikipedia.org/wiki/President_of_India\", \"content\": \"Droupadi Murmu is the 15th and current president, having taken office on 25 July 2022.\"}, {\"url\": \"https://www.jagranjosh.com/general-knowledge/list-of-all-presidents-of-india-from1947-to-2017-with-tenure-1500293855-1\", \"content\": \"**[Ram Nath Kovind](https://www.jagranjosh.com/general-knowledge/amazing-facts-about-new-president-of-india-ramnath-kovind-1500549853-1)** was born on 1 October 1945 in Uttar Pradesh, India. He is an Indian lawyer and politician. He was the 14th and current President of India. He became the President on 25 July 2017 and is a member of the Bhartiya Janata Party. He is the former Governor of Bihar. His approach towards political problems earned him praise across the political spectrum. As a [...] | 13 | Pranab Mukherjee | 25 July – 25 July 2017 |\\n| 14 | Ram Nath Kovind | 25 July 2017 – 25 July 2022 |\\n| 15 | Droupadi Murmu | 25 July 2022 – Incumbent | [...] # List of all Presidents of India from 1950-2025\\n\\n## List of all Presidents of India from 1950 to 2025: Check the list of presidents of India who have been elected so far. Droupadi Murmu became the 15th President of India on July 25, 2022.\"}, {\"url\": \"https://en.wikipedia.org/wiki/Droupadi_Murmu\", \"content\": \"| [Vice President](/wiki/Vice_President_of_India \\\"Vice President of India\\\") | [Venkaiah Naidu](/wiki/Venkaiah_Naidu \\\"Venkaiah Naidu\\\") [Jagdeep Dhankhar](/wiki/Jagdeep_Dhankhar \\\"Jagdeep Dhankhar\\\") |\\n| Preceded by | [Ram Nath Kovind](/wiki/Ram_Nath_Kovind \\\"Ram Nath Kovind\\\") |\\n| [Governor of Jharkhand](/wiki/Governor_of_Jharkhand \\\"Governor of Jharkhand\\\") | |\\n| **In office** 18 May 2015 – 15 July 2021 | |\\n| President | [Pranab Mukherjee](/wiki/Pranab_Mukherjee \\\"Pranab Mukherjee\\\") Ram Nath Kovind | [...] | [Shrimati](/wiki/Shrimati \\\"Shrimati\\\")  Droupadi Murmu | |\\n| --- | --- |\\n| Official portrait, 2025 | |\\n|  | |\\n| [President of India](/wiki/President_of_India \\\"President of India\\\") | |\\n| **[Incumbent](/wiki/Incumbent \\\"Incumbent\\\")** | |\\n| **Assumed office**  25 July 2022 | |\\n| Prime Minister | [Narendra Modi](/wiki/Narendra_Modi \\\"Narendra Modi\\\") | [...] | Political offices | | |\\n| --- | --- | --- |\\n| Preceded by [Ram Nath Kovind](/wiki/Ram_Nath_Kovind \\\"Ram Nath Kovind\\\") | **[President of India](/wiki/President_of_India \\\"President of India\\\")**  2022–present | **Incumbent** |\\n| [Odisha Legislative Assembly](/wiki/Odisha_Legislative_Assembly \\\"Odisha Legislative Assembly\\\") | | |\"}, {\"url\": \"http://www.presidentofindia.gov.in/\", \"content\": \"![Smt. Droupadi Murmu](/sites/default/files/2025-04/president_of_india.jpg)\\n\\n[Click here to Download](https://presidentofindia.gov.in/president-india-smt-droupadi-murmu)\\n\\n#### Profile\\n\\n##### Hon’ble President of India , Smt. Droupadi Murmu\\n\\nSmt. Droupadi Murmu was sworn in as the 15th President of India on 25 July, 2022. Previously, she was the Governor of Jharkhand from 2015 to 2021. [...] ![india-flag](/themes/presidentofindia/images/india-flag.gif)\\n![emblem-logo](/themes/presidentofindia/images/logo.png)\\n\\n#### Smt. Droupadi MurmuThe President of India\\n\\n![building-logo](/themes/presidentofindia/images/header-bg.png)\\n![The President of India, Smt Droupadi Murmu presented Distinguished Service Awards at the Defence Investiture Ceremony-II held at Rashtrapati Bhavan on June 4, 2025.](/sites/default/files/vg7_1196.jpg) [...] ![H.E. Mr Abdenor Khelifi, Ambassador of the People’s Democratic Republic of Algeria presenting credentials to the President of India, Smt Droupadi Murmu at a ceremony held at Rashtrapati Bhavan on May 30, 2025.](/sites/default/files/h.e._mr_abdenor_khelifi_ambassador_of_the_people_s_democratic_republic_of_algeria.jpg)\"}]\n",
      "---------------\n",
      "[{\"url\": \"http://www.rashtrapatibhavan.gov.in/about-us\", \"content\": \"The President of India is the head of state of the Republic of India. The President is the nominal head of the executive, the first citizen of the country, as well as the commander-in-chief of the Indian Armed Forces. Smt. Droupadi Murmu is the 15th and current President, having taken office from 25 July 2022.\\n\\n![Rashtrapati Bhavan](/sites/default/files/2023-03/aboutus.jpg \\\"Rashtrapati Bhavan\\\")\"}, {\"url\": \"https://en.wikipedia.org/wiki/President_of_India\", \"content\": \"Droupadi Murmu is the 15th and current president, having taken office on 25 July 2022.\"}, {\"url\": \"https://www.jagranjosh.com/general-knowledge/list-of-all-presidents-of-india-from1947-to-2017-with-tenure-1500293855-1\", \"content\": \"**[Ram Nath Kovind](https://www.jagranjosh.com/general-knowledge/amazing-facts-about-new-president-of-india-ramnath-kovind-1500549853-1)** was born on 1 October 1945 in Uttar Pradesh, India. He is an Indian lawyer and politician. He was the 14th and current President of India. He became the President on 25 July 2017 and is a member of the Bhartiya Janata Party. He is the former Governor of Bihar. His approach towards political problems earned him praise across the political spectrum. As a [...] | 13 | Pranab Mukherjee | 25 July – 25 July 2017 |\\n| 14 | Ram Nath Kovind | 25 July 2017 – 25 July 2022 |\\n| 15 | Droupadi Murmu | 25 July 2022 – Incumbent | [...] # List of all Presidents of India from 1950-2025\\n\\n## List of all Presidents of India from 1950 to 2025: Check the list of presidents of India who have been elected so far. Droupadi Murmu became the 15th President of India on July 25, 2022.\"}, {\"url\": \"https://en.wikipedia.org/wiki/Droupadi_Murmu\", \"content\": \"| [Vice President](/wiki/Vice_President_of_India \\\"Vice President of India\\\") | [Venkaiah Naidu](/wiki/Venkaiah_Naidu \\\"Venkaiah Naidu\\\") [Jagdeep Dhankhar](/wiki/Jagdeep_Dhankhar \\\"Jagdeep Dhankhar\\\") |\\n| Preceded by | [Ram Nath Kovind](/wiki/Ram_Nath_Kovind \\\"Ram Nath Kovind\\\") |\\n| [Governor of Jharkhand](/wiki/Governor_of_Jharkhand \\\"Governor of Jharkhand\\\") | |\\n| **In office** 18 May 2015 – 15 July 2021 | |\\n| President | [Pranab Mukherjee](/wiki/Pranab_Mukherjee \\\"Pranab Mukherjee\\\") Ram Nath Kovind | [...] | [Shrimati](/wiki/Shrimati \\\"Shrimati\\\")  Droupadi Murmu | |\\n| --- | --- |\\n| Official portrait, 2025 | |\\n|  | |\\n| [President of India](/wiki/President_of_India \\\"President of India\\\") | |\\n| **[Incumbent](/wiki/Incumbent \\\"Incumbent\\\")** | |\\n| **Assumed office**  25 July 2022 | |\\n| Prime Minister | [Narendra Modi](/wiki/Narendra_Modi \\\"Narendra Modi\\\") | [...] | Political offices | | |\\n| --- | --- | --- |\\n| Preceded by [Ram Nath Kovind](/wiki/Ram_Nath_Kovind \\\"Ram Nath Kovind\\\") | **[President of India](/wiki/President_of_India \\\"President of India\\\")**  2022–present | **Incumbent** |\\n| [Odisha Legislative Assembly](/wiki/Odisha_Legislative_Assembly \\\"Odisha Legislative Assembly\\\") | | |\"}, {\"url\": \"http://www.presidentofindia.gov.in/\", \"content\": \"![Smt. Droupadi Murmu](/sites/default/files/2025-04/president_of_india.jpg)\\n\\n[Click here to Download](https://presidentofindia.gov.in/president-india-smt-droupadi-murmu)\\n\\n#### Profile\\n\\n##### Hon’ble President of India , Smt. Droupadi Murmu\\n\\nSmt. Droupadi Murmu was sworn in as the 15th President of India on 25 July, 2022. Previously, she was the Governor of Jharkhand from 2015 to 2021. [...] ![india-flag](/themes/presidentofindia/images/india-flag.gif)\\n![emblem-logo](/themes/presidentofindia/images/logo.png)\\n\\n#### Smt. Droupadi MurmuThe President of India\\n\\n![building-logo](/themes/presidentofindia/images/header-bg.png)\\n![The President of India, Smt Droupadi Murmu presented Distinguished Service Awards at the Defence Investiture Ceremony-II held at Rashtrapati Bhavan on June 4, 2025.](/sites/default/files/vg7_1196.jpg) [...] ![H.E. Mr Abdenor Khelifi, Ambassador of the People’s Democratic Republic of Algeria presenting credentials to the President of India, Smt Droupadi Murmu at a ceremony held at Rashtrapati Bhavan on May 30, 2025.](/sites/default/files/h.e._mr_abdenor_khelifi_ambassador_of_the_people_s_democratic_republic_of_algeria.jpg)\"}]\n",
      "-----------------\n",
      "==================================\u001b[1m Ai Message \u001b[0m==================================\n",
      "Tool Calls:\n",
      "  tavily_search_results_json (jz7mgrrh4)\n",
      " Call ID: jz7mgrrh4\n",
      "  Args:\n",
      "    query: Who is the current President of India?\n"
     ]
    }
   ],
   "source": [
    "for event in events:\n",
    "    if \"messages\" in event:\n",
    "        event['messages'][-1].pretty_print()"
   ]
  },
  {
   "cell_type": "code",
   "execution_count": 196,
   "id": "5597899a",
   "metadata": {},
   "outputs": [],
   "source": [
    "inputs = {\"messages\": [\"what is a weather there?\"]}\n",
    "\n",
    "events = app.stream(inputs, config=config, stream_mode=\"values\")"
   ]
  },
  {
   "cell_type": "code",
   "execution_count": 197,
   "id": "49f3c37a",
   "metadata": {},
   "outputs": [
    {
     "name": "stdout",
     "output_type": "stream",
     "text": [
      "================================\u001b[1m Human Message \u001b[0m=================================\n",
      "\n",
      "what is a weather there?\n",
      "---------------\n",
      "what is a weather there?\n",
      "-----------------\n",
      "==================================\u001b[1m Ai Message \u001b[0m==================================\n",
      "Tool Calls:\n",
      "  tavily_search_results_json (egeazsm3k)\n",
      " Call ID: egeazsm3k\n",
      "  Args:\n",
      "    query: weather there\n"
     ]
    }
   ],
   "source": [
    "for event in events:\n",
    "    event['messages'][-1].pretty_print()"
   ]
  },
  {
   "cell_type": "code",
   "execution_count": 202,
   "id": "9290440a",
   "metadata": {},
   "outputs": [],
   "source": [
    "snapshot = app.get_state(config=config)"
   ]
  },
  {
   "cell_type": "code",
   "execution_count": 204,
   "id": "9e40a0ee",
   "metadata": {},
   "outputs": [
    {
     "data": {
      "text/plain": [
       "('tools',)"
      ]
     },
     "execution_count": 204,
     "metadata": {},
     "output_type": "execute_result"
    }
   ],
   "source": [
    "snapshot.next"
   ]
  },
  {
   "cell_type": "code",
   "execution_count": 205,
   "id": "6bb17484",
   "metadata": {},
   "outputs": [],
   "source": [
    "last_message = snapshot.values['messages'][-1]"
   ]
  },
  {
   "cell_type": "code",
   "execution_count": 206,
   "id": "bcd32ea3",
   "metadata": {},
   "outputs": [
    {
     "data": {
      "text/plain": [
       "AIMessage(content='', additional_kwargs={'tool_calls': [{'id': 'egeazsm3k', 'function': {'arguments': '{\"query\":\"weather there\"}', 'name': 'tavily_search_results_json'}, 'type': 'function'}]}, response_metadata={'token_usage': {'completion_tokens': 86, 'prompt_tokens': 1106, 'total_tokens': 1192, 'completion_time': 0.156363636, 'prompt_time': 0.038944133, 'queue_time': 0.24667027000000002, 'total_time': 0.195307769}, 'model_name': 'Gemma2-9b-It', 'system_fingerprint': 'fp_10c08bf97d', 'finish_reason': 'tool_calls', 'logprobs': None}, id='run--e637eb3c-dc1a-483b-9cb2-d556d3641438-0', tool_calls=[{'name': 'tavily_search_results_json', 'args': {'query': 'weather there'}, 'id': 'egeazsm3k', 'type': 'tool_call'}], usage_metadata={'input_tokens': 1106, 'output_tokens': 86, 'total_tokens': 1192})"
      ]
     },
     "execution_count": 206,
     "metadata": {},
     "output_type": "execute_result"
    }
   ],
   "source": [
    "last_message"
   ]
  },
  {
   "cell_type": "code",
   "execution_count": 207,
   "id": "2c29b2a6",
   "metadata": {},
   "outputs": [
    {
     "data": {
      "text/plain": [
       "[{'name': 'tavily_search_results_json',\n",
       "  'args': {'query': 'weather there'},\n",
       "  'id': 'egeazsm3k',\n",
       "  'type': 'tool_call'}]"
      ]
     },
     "execution_count": 207,
     "metadata": {},
     "output_type": "execute_result"
    }
   ],
   "source": [
    "last_message.tool_calls"
   ]
  },
  {
   "cell_type": "code",
   "execution_count": 208,
   "id": "187cf649",
   "metadata": {},
   "outputs": [],
   "source": [
    "events = app.stream(None, config=config, stream_mode=\"values\")"
   ]
  },
  {
   "cell_type": "code",
   "execution_count": 209,
   "id": "d926f7f3",
   "metadata": {},
   "outputs": [
    {
     "name": "stdout",
     "output_type": "stream",
     "text": [
      "==================================\u001b[1m Ai Message \u001b[0m==================================\n",
      "Tool Calls:\n",
      "  tavily_search_results_json (egeazsm3k)\n",
      " Call ID: egeazsm3k\n",
      "  Args:\n",
      "    query: weather there\n",
      "=================================\u001b[1m Tool Message \u001b[0m=================================\n",
      "Name: tavily_search_results_json\n",
      "\n",
      "[{\"url\": \"https://www.weather25.com/north-america/usa?page=date&date=14-6\", \"content\": \"|  | 00:00 | 03:00 | 06:00 | 09:00 | 12:00 | 15:00 | 18:00 | 21:00 |\\n| --- |\\n| Temperature | 66°F | 62°F | 60°F | 59°F | 60°F | 60°F | 60°F | 57°F | [...] | Chance of rain | 0% | 0% | 0% | 0% | 0% | 0% | 0% | 0% |\\n| Precipitation | 0 in | 0 in | 0 in | 0 in | 0 in | 0 in | 0 in | 0 in |\\n| Humidity | 77% | 81% | 96% | 89% | 92% | 90% | 94% | 96% |\\n| Wind | 3 Miles | 4 Miles | 6 Miles | 6 Miles | 6 Miles | 6 Miles | 5 Miles | 6 Miles |\\n| Wind Gust | 7 Miles | 7 Miles | 9 Miles | 8 Miles | 9 Miles | 9 Miles | 8 Miles | 8 Miles | [...] | Weather | ![Image 8: Partly cloudy](https://res.weather25.com/images/weather_icons/new/night/interval.svg) Partly cloudy | ![Image 9: Overcast](https://res.weather25.com/images/weather_icons/new/day/overcast.svg) Overcast | ![Image 10: Mist](https://res.weather25.com/images/weather_icons/new/day/mist.svg) Mist | ![Image 11: Overcast](https://res.weather25.com/images/weather_icons/new/day/overcast.svg) Overcast | ![Image 12:\"}, {\"url\": \"https://uwmpost.com/newsletter/5-day-weather-forecast-june-14-2025\", \"content\": \"**Tomorrow:** Happy Fathers Day! We see increased chances of some rain showers throughout the day as a cold front and a low-pressure system from the NW passes into the region. We can still expect to see the sun periodically as only partially sunny conditions are looking likely, increasing in cover as the day progresses. Temperatures are still looking to remain warm into the mid 70s by mid afternoon with calm winds. [...] **Today:** Saturday is looking to be a relatively clear and warm day for the metro. Low pressure will be making its way into the region from the west, passing to the south bringing chances of some stray showers later in the afternoon and evening with an increase in cloud cover. A morning low in the mid 50s will warm into the mid 70s by the afternoon. With winds out of the south expected over the lake 10-15 mph, calm on shore, no significant onshore cooling is expected until late evening. [...] **Tonight:** Chances of a stray shower continue. Loss of daytime warming will start to drop temperatures into the lower 60s with winds remaining calm.\"}, {\"url\": \"https://www.news10.com/weather/06-14-2025-grab-the-raincoat-because-its-another-wet-saturday/\", \"content\": \"There could be a few lingering showers during the evening, but the majority of the rain will taper after dark, and it'll stay cloudy overnight.\"}, {\"url\": \"https://world-weather.info/forecast/usa/new_york/june-2025/\", \"content\": \"*   [13 +77° +72°](https://world-weather.info/forecast/usa/new_york/14days/#2025-06-13)\\n*   [14 +75° +68°](https://world-weather.info/forecast/usa/new_york/14days/#2025-06-14)\\n*   [15 +63° +64°](https://world-weather.info/forecast/usa/new_york/14days/#2025-06-15)\\n*   [16 +64° +63°](https://world-weather.info/forecast/usa/new_york/14days/#2025-06-16)\\n*   [17 +68° +61°](https://world-weather.info/forecast/usa/new_york/14days/#2025-06-17)\"}, {\"url\": \"https://www.weather25.com/north-america/usa/new-york/rochester?page=month&month=June\", \"content\": \"If you’re planning to visit Rochester in the near future, we highly recommend that you review the [14 day weather forecast for Rochester](?page=14) before you arrive.\\n\\n![Temperatures]( \\\"Temperatures\\\")\\n![Rainy Days]( \\\"Rainy Days\\\")\\n![Snowy Days]( \\\"Snowy Days\\\")\\n![Dry Days]( \\\"Dry Days\\\")\\n![Rainfall]( \\\"Rainfall\\\")\\n![9.8]( \\\"9.8\\\")\"}]\n",
      "---------------\n",
      "[{\"url\": \"https://www.weather25.com/north-america/usa?page=date&date=14-6\", \"content\": \"|  | 00:00 | 03:00 | 06:00 | 09:00 | 12:00 | 15:00 | 18:00 | 21:00 |\\n| --- |\\n| Temperature | 66°F | 62°F | 60°F | 59°F | 60°F | 60°F | 60°F | 57°F | [...] | Chance of rain | 0% | 0% | 0% | 0% | 0% | 0% | 0% | 0% |\\n| Precipitation | 0 in | 0 in | 0 in | 0 in | 0 in | 0 in | 0 in | 0 in |\\n| Humidity | 77% | 81% | 96% | 89% | 92% | 90% | 94% | 96% |\\n| Wind | 3 Miles | 4 Miles | 6 Miles | 6 Miles | 6 Miles | 6 Miles | 5 Miles | 6 Miles |\\n| Wind Gust | 7 Miles | 7 Miles | 9 Miles | 8 Miles | 9 Miles | 9 Miles | 8 Miles | 8 Miles | [...] | Weather | ![Image 8: Partly cloudy](https://res.weather25.com/images/weather_icons/new/night/interval.svg) Partly cloudy | ![Image 9: Overcast](https://res.weather25.com/images/weather_icons/new/day/overcast.svg) Overcast | ![Image 10: Mist](https://res.weather25.com/images/weather_icons/new/day/mist.svg) Mist | ![Image 11: Overcast](https://res.weather25.com/images/weather_icons/new/day/overcast.svg) Overcast | ![Image 12:\"}, {\"url\": \"https://uwmpost.com/newsletter/5-day-weather-forecast-june-14-2025\", \"content\": \"**Tomorrow:** Happy Fathers Day! We see increased chances of some rain showers throughout the day as a cold front and a low-pressure system from the NW passes into the region. We can still expect to see the sun periodically as only partially sunny conditions are looking likely, increasing in cover as the day progresses. Temperatures are still looking to remain warm into the mid 70s by mid afternoon with calm winds. [...] **Today:** Saturday is looking to be a relatively clear and warm day for the metro. Low pressure will be making its way into the region from the west, passing to the south bringing chances of some stray showers later in the afternoon and evening with an increase in cloud cover. A morning low in the mid 50s will warm into the mid 70s by the afternoon. With winds out of the south expected over the lake 10-15 mph, calm on shore, no significant onshore cooling is expected until late evening. [...] **Tonight:** Chances of a stray shower continue. Loss of daytime warming will start to drop temperatures into the lower 60s with winds remaining calm.\"}, {\"url\": \"https://www.news10.com/weather/06-14-2025-grab-the-raincoat-because-its-another-wet-saturday/\", \"content\": \"There could be a few lingering showers during the evening, but the majority of the rain will taper after dark, and it'll stay cloudy overnight.\"}, {\"url\": \"https://world-weather.info/forecast/usa/new_york/june-2025/\", \"content\": \"*   [13 +77° +72°](https://world-weather.info/forecast/usa/new_york/14days/#2025-06-13)\\n*   [14 +75° +68°](https://world-weather.info/forecast/usa/new_york/14days/#2025-06-14)\\n*   [15 +63° +64°](https://world-weather.info/forecast/usa/new_york/14days/#2025-06-15)\\n*   [16 +64° +63°](https://world-weather.info/forecast/usa/new_york/14days/#2025-06-16)\\n*   [17 +68° +61°](https://world-weather.info/forecast/usa/new_york/14days/#2025-06-17)\"}, {\"url\": \"https://www.weather25.com/north-america/usa/new-york/rochester?page=month&month=June\", \"content\": \"If you’re planning to visit Rochester in the near future, we highly recommend that you review the [14 day weather forecast for Rochester](?page=14) before you arrive.\\n\\n![Temperatures]( \\\"Temperatures\\\")\\n![Rainy Days]( \\\"Rainy Days\\\")\\n![Snowy Days]( \\\"Snowy Days\\\")\\n![Dry Days]( \\\"Dry Days\\\")\\n![Rainfall]( \\\"Rainfall\\\")\\n![9.8]( \\\"9.8\\\")\"}]\n",
      "-----------------\n",
      "==================================\u001b[1m Ai Message \u001b[0m==================================\n",
      "Tool Calls:\n",
      "  tavily_search_results_json (hm4p21bzt)\n",
      " Call ID: hm4p21bzt\n",
      "  Args:\n",
      "    query: weather forecast rochester ny\n"
     ]
    }
   ],
   "source": [
    "for event in events:\n",
    "    event['messages'][-1].pretty_print()"
   ]
  },
  {
   "cell_type": "code",
   "execution_count": 210,
   "id": "2ba43ac8",
   "metadata": {},
   "outputs": [],
   "source": [
    "snapshot = app.get_state(config=config)"
   ]
  },
  {
   "cell_type": "code",
   "execution_count": 211,
   "id": "37f88352",
   "metadata": {},
   "outputs": [
    {
     "data": {
      "text/plain": [
       "('tools',)"
      ]
     },
     "execution_count": 211,
     "metadata": {},
     "output_type": "execute_result"
    }
   ],
   "source": [
    "snapshot.next"
   ]
  },
  {
   "cell_type": "code",
   "execution_count": 212,
   "id": "74e3f584",
   "metadata": {},
   "outputs": [
    {
     "data": {
      "text/plain": [
       "AIMessage(content='', additional_kwargs={'tool_calls': [{'id': 'egeazsm3k', 'function': {'arguments': '{\"query\":\"weather there\"}', 'name': 'tavily_search_results_json'}, 'type': 'function'}]}, response_metadata={'token_usage': {'completion_tokens': 86, 'prompt_tokens': 1106, 'total_tokens': 1192, 'completion_time': 0.156363636, 'prompt_time': 0.038944133, 'queue_time': 0.24667027000000002, 'total_time': 0.195307769}, 'model_name': 'Gemma2-9b-It', 'system_fingerprint': 'fp_10c08bf97d', 'finish_reason': 'tool_calls', 'logprobs': None}, id='run--e637eb3c-dc1a-483b-9cb2-d556d3641438-0', tool_calls=[{'name': 'tavily_search_results_json', 'args': {'query': 'weather there'}, 'id': 'egeazsm3k', 'type': 'tool_call'}], usage_metadata={'input_tokens': 1106, 'output_tokens': 86, 'total_tokens': 1192})"
      ]
     },
     "execution_count": 212,
     "metadata": {},
     "output_type": "execute_result"
    }
   ],
   "source": [
    "last_messages = snapshot.values['messages'][-1]\n",
    "\n",
    "last_message"
   ]
  },
  {
   "cell_type": "code",
   "execution_count": 213,
   "id": "1f128577",
   "metadata": {},
   "outputs": [
    {
     "data": {
      "text/plain": [
       "[{'name': 'tavily_search_results_json',\n",
       "  'args': {'query': 'weather there'},\n",
       "  'id': 'egeazsm3k',\n",
       "  'type': 'tool_call'}]"
      ]
     },
     "execution_count": 213,
     "metadata": {},
     "output_type": "execute_result"
    }
   ],
   "source": [
    "last_message.tool_calls"
   ]
  },
  {
   "cell_type": "code",
   "execution_count": null,
   "id": "53bb250b",
   "metadata": {},
   "outputs": [],
   "source": []
  }
 ],
 "metadata": {
  "kernelspec": {
   "display_name": "langgraph",
   "language": "python",
   "name": "python3"
  },
  "language_info": {
   "codemirror_mode": {
    "name": "ipython",
    "version": 3
   },
   "file_extension": ".py",
   "mimetype": "text/x-python",
   "name": "python",
   "nbconvert_exporter": "python",
   "pygments_lexer": "ipython3",
   "version": "3.12.0"
  }
 },
 "nbformat": 4,
 "nbformat_minor": 5
}
