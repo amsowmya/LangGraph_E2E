{
 "cells": [
  {
   "cell_type": "code",
   "execution_count": 46,
   "id": "2e2717f6",
   "metadata": {},
   "outputs": [
    {
     "data": {
      "text/plain": [
       "True"
      ]
     },
     "execution_count": 46,
     "metadata": {},
     "output_type": "execute_result"
    }
   ],
   "source": [
    "import os \n",
    "from dotenv import load_dotenv\n",
    "from langchain_groq.chat_models import ChatGroq\n",
    "from langgraph.graph import StateGraph, START, END\n",
    "from langgraph.graph.message import MessagesState\n",
    "from langgraph.prebuilt import ToolNode\n",
    "from pydantic import BaseModel, Field\n",
    "from langchain_community.tools.tavily_search import TavilySearchResults\n",
    "from langchain_core.messages import HumanMessage\n",
    "\n",
    "load_dotenv()"
   ]
  },
  {
   "cell_type": "code",
   "execution_count": 47,
   "id": "f14f4f01",
   "metadata": {},
   "outputs": [],
   "source": [
    "groq_api_key = os.getenv('GROQ_API_KEY')\n",
    "\n",
    "llm = ChatGroq(groq_api_key=groq_api_key, model=\"llama-3.3-70b-versatile\")"
   ]
  },
  {
   "cell_type": "code",
   "execution_count": 48,
   "id": "fb5a70a2",
   "metadata": {},
   "outputs": [],
   "source": [
    "class CityDetails(BaseModel):\n",
    "    state_name: str = Field(\"State name of the city\")\n",
    "    state_capital: str = Field(\"State capital of the city\")\n",
    "    country_name: str = Field(\"Country name of the city\")\n",
    "    country_capital: str = Field(\"Country capital of the city\")"
   ]
  },
  {
   "cell_type": "code",
   "execution_count": 49,
   "id": "eb182bfb",
   "metadata": {},
   "outputs": [],
   "source": [
    "tool = TavilySearchResults()\n",
    "\n",
    "tools = [tool]"
   ]
  },
  {
   "cell_type": "code",
   "execution_count": 50,
   "id": "ac780170",
   "metadata": {},
   "outputs": [],
   "source": [
    "llm_with_tool = llm.bind_tools(tools)"
   ]
  },
  {
   "cell_type": "code",
   "execution_count": 51,
   "id": "704bb88a",
   "metadata": {},
   "outputs": [],
   "source": [
    "llm_with_structure_outout = llm.with_structured_output(CityDetails)"
   ]
  },
  {
   "cell_type": "code",
   "execution_count": 52,
   "id": "3616b61a",
   "metadata": {},
   "outputs": [],
   "source": [
    "class AgentState(MessagesState):\n",
    "    final_response: CityDetails"
   ]
  },
  {
   "cell_type": "code",
   "execution_count": 53,
   "id": "8e0ca758",
   "metadata": {},
   "outputs": [],
   "source": [
    "def call_model(state: AgentState):\n",
    "    print(\" -- call model --\")\n",
    "    messages = state['messages']\n",
    "    response = llm_with_tool.invoke(messages)\n",
    "    return {\"messages\": [response]}"
   ]
  },
  {
   "cell_type": "code",
   "execution_count": 54,
   "id": "16bde5ec",
   "metadata": {},
   "outputs": [],
   "source": [
    "def should_continue(state: AgentState):\n",
    "    print(\" -- should continue --\")\n",
    "    messages = state['messages']\n",
    "    last_message = messages[-1]\n",
    "    if not last_message.tool_calls:\n",
    "        return \"respond\"\n",
    "    else:\n",
    "        return \"continue\""
   ]
  },
  {
   "cell_type": "code",
   "execution_count": 55,
   "id": "61300a15",
   "metadata": {},
   "outputs": [],
   "source": [
    "def respond(state: AgentState):\n",
    "    print(\"-- respond --\")\n",
    "    messages = state['messages']\n",
    "    last_messages = messages[-1]\n",
    "    response = llm_with_structure_outout.invoke(last_messages.content)\n",
    "    # response = llm_with_structure_outout.invoke([HumanMessage(content=state['messages'][-1].content)])\n",
    "    return {\"final_response\": response}"
   ]
  },
  {
   "cell_type": "code",
   "execution_count": 56,
   "id": "0f93caa4",
   "metadata": {},
   "outputs": [],
   "source": [
    "workflow = StateGraph(AgentState)\n",
    "\n",
    "workflow.add_node(\"llm\", call_model)\n",
    "workflow.add_node(\"tools\", ToolNode(tools))\n",
    "workflow.add_node(\"respond\", respond)\n",
    "\n",
    "workflow.add_edge(START, \"llm\")\n",
    "workflow.add_conditional_edges(\n",
    "    \"llm\",\n",
    "    should_continue,\n",
    "    {\n",
    "        \"continue\": \"tools\",\n",
    "        \"respond\": \"respond\"\n",
    "    }\n",
    ")\n",
    "\n",
    "workflow.add_edge(\"tools\", \"llm\")\n",
    "workflow.add_edge(\"respond\", END)\n",
    "\n",
    "app = workflow.compile()"
   ]
  },
  {
   "cell_type": "code",
   "execution_count": 57,
   "id": "3f8ce017",
   "metadata": {},
   "outputs": [
    {
     "data": {
      "image/png": "[encoded data removed]",
      "text/plain": [
       "<IPython.core.display.Image object>"
      ]
     },
     "metadata": {},
     "output_type": "display_data"
    }
   ],
   "source": [
    "from IPython.display import display, Image\n",
    "display(Image(app.get_graph().draw_mermaid_png()))"
   ]
  },
  {
   "cell_type": "code",
   "execution_count": 58,
   "id": "c0c26241",
   "metadata": {},
   "outputs": [
    {
     "name": "stdout",
     "output_type": "stream",
     "text": [
      " -- call model --\n",
      " -- should continue --\n",
      " -- call model --\n",
      " -- should continue --\n",
      "-- respond --\n"
     ]
    }
   ],
   "source": [
    "answer = app.invoke(input={\"messages\": [(\"human\", \"Tell me about the city details for gwalior?\")]})['final_response']"
   ]
  },
  {
   "cell_type": "code",
   "execution_count": 59,
   "id": "f317c80b",
   "metadata": {},
   "outputs": [
    {
     "data": {
      "text/plain": [
       "CityDetails(state_name='Madhya Pradesh', state_capital='No', country_name='India', country_capital='No')"
      ]
     },
     "execution_count": 59,
     "metadata": {},
     "output_type": "execute_result"
    }
   ],
   "source": [
    "answer"
   ]
  },
  {
   "cell_type": "code",
   "execution_count": 63,
   "id": "0564b8c1",
   "metadata": {},
   "outputs": [],
   "source": [
    "answer = app.stream(input={\"messages\": [(\"human\", \"Tell me about the city details for gwalior?\")]}, stream_mode=\"values\")"
   ]
  },
  {
   "cell_type": "code",
   "execution_count": 64,
   "id": "6f6c87fc",
   "metadata": {},
   "outputs": [
    {
     "name": "stdout",
     "output_type": "stream",
     "text": [
      " -- call model --\n",
      " -- should continue --\n",
      " -- call model --\n",
      " -- should continue --\n",
      "-- respond --\n",
      "state_name='Madhya Pradesh' state_capital='Bhopal' country_name='India' country_capital='New Delhi'\n"
     ]
    }
   ],
   "source": [
    "for event in answer:\n",
    "    if event.get('final_response'):\n",
    "        print(event['final_response'])"
   ]
  },
  {
   "cell_type": "code",
   "execution_count": 61,
   "id": "0365bd48",
   "metadata": {},
   "outputs": [
    {
     "name": "stdout",
     "output_type": "stream",
     "text": [
      " -- call model --\n",
      " -- should continue --\n",
      " -- call model --\n",
      " -- should continue --\n",
      "-- respond --\n",
      "state_name='Madhya Pradesh' state_capital='Bhopal' country_name='India' country_capital='New Delhi'\n"
     ]
    }
   ],
   "source": [
    "for event in answer:\n",
    "    if event.get('final_response'):\n",
    "        final_output = event['final_response']\n",
    "        \n",
    "if final_output:\n",
    "    print(final_output)"
   ]
  },
  {
   "cell_type": "code",
   "execution_count": 65,
   "id": "f965bb0d",
   "metadata": {},
   "outputs": [],
   "source": [
    "for event in answer:\n",
    "    for key, value in event.items():\n",
    "        print(f\"Node: {key}\")\n",
    "        print(value)\n",
    "        print(\"===\")\n",
    "    "
   ]
  },
  {
   "cell_type": "code",
   "execution_count": null,
   "id": "255b0a20",
   "metadata": {},
   "outputs": [],
   "source": []
  }
 ],
 "metadata": {
  "kernelspec": {
   "display_name": "langgraph",
   "language": "python",
   "name": "python3"
  },
  "language_info": {
   "codemirror_mode": {
    "name": "ipython",
    "version": 3
   },
   "file_extension": ".py",
   "mimetype": "text/x-python",
   "name": "python",
   "nbconvert_exporter": "python",
   "pygments_lexer": "ipython3",
   "version": "3.12.0"
  }
 },
 "nbformat": 4,
 "nbformat_minor": 5
}
