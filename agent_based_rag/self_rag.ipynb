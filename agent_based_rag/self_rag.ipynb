{
 "cells": [
  {
   "cell_type": "code",
   "execution_count": 89,
   "id": "c1bfb4f2",
   "metadata": {},
   "outputs": [],
   "source": [
    "import os \n",
    "from dotenv import load_dotenv\n",
    "from typing import TypedDict, List, Sequence, Literal\n",
    "from pydantic import BaseModel, Field\n",
    "\n",
    "from langchain_community.document_loaders import WebBaseLoader\n",
    "from langchain_text_splitters import RecursiveCharacterTextSplitter\n",
    "from langchain_community.vectorstores import Chroma\n",
    "from langchain_huggingface.embeddings import HuggingFaceEmbeddings\n",
    "from langchain_groq.chat_models import ChatGroq\n",
    "from langchain_core.tools.retriever import create_retriever_tool\n",
    "from langchain_core.prompts import ChatPromptTemplate, PromptTemplate\n",
    "from langchain_core.output_parsers import StrOutputParser\n",
    "\n",
    "from langgraph.graph import StateGraph, START, END \n",
    "from langgraph.graph.message import BaseMessage, add_messages\n",
    "from langgraph.prebuilt import ToolNode, tools_condition"
   ]
  },
  {
   "cell_type": "code",
   "execution_count": 90,
   "id": "889c27f5",
   "metadata": {},
   "outputs": [
    {
     "data": {
      "text/plain": [
       "\"It's nice to meet you. Is there something I can help you with or would you like to chat?\""
      ]
     },
     "execution_count": 90,
     "metadata": {},
     "output_type": "execute_result"
    }
   ],
   "source": [
    "groq_api_key = os.getenv('GROQ_API_KEY')\n",
    "llm = ChatGroq(groq_api_key=groq_api_key, model=\"llama-3.3-70b-versatile\")\n",
    "\n",
    "llm.invoke(\"hi\").content"
   ]
  },
  {
   "cell_type": "code",
   "execution_count": 91,
   "id": "0f46061f",
   "metadata": {},
   "outputs": [],
   "source": [
    "embeddings = HuggingFaceEmbeddings(model_name=\"all-MiniLM-L6-v2\")"
   ]
  },
  {
   "cell_type": "code",
   "execution_count": 92,
   "id": "9450ee8a",
   "metadata": {},
   "outputs": [],
   "source": [
    "urls = [\n",
    "    \"https://lilianweng.github.io/posts/2023-06-23-agent/\",\n",
    "    \"https://lilianweng.github.io/posts/2023-03-15-prompt-engineering/\",\n",
    "]\n",
    "\n",
    "docs = [WebBaseLoader(url).load() for url in urls]\n",
    "\n",
    "doc_list = [item for sublist in docs for item in sublist]\n",
    "\n",
    "text_splitter = RecursiveCharacterTextSplitter(chunk_size=500, chunk_overlap=50)\n",
    "documents = text_splitter.split_documents(doc_list)\n",
    "\n",
    "vectordb = Chroma.from_documents(\n",
    "    documents=documents,\n",
    "    collection_name=\"rag-db\",\n",
    "    embedding=embeddings\n",
    ")\n",
    "\n",
    "retriever = vectordb.as_retriever()"
   ]
  },
  {
   "cell_type": "code",
   "execution_count": 93,
   "id": "7d2bc40e",
   "metadata": {},
   "outputs": [
    {
     "data": {
      "text/plain": [
       "[Document(metadata={'source': 'https://lilianweng.github.io/posts/2023-06-23-agent/', 'title': \"LLM Powered Autonomous Agents | Lil'Log\", 'language': 'en', 'description': 'Building agents with LLM (large language model) as its core controller is a cool concept. Several proof-of-concepts demos, such as AutoGPT, GPT-Engineer and BabyAGI, serve as inspiring examples. The potentiality of LLM extends beyond generating well-written copies, stories, essays and programs; it can be framed as a powerful general problem solver.\\nAgent System Overview\\nIn a LLM-powered autonomous agent system, LLM functions as the agent’s brain, complemented by several key components:\\n\\nPlanning\\n\\nSubgoal and decomposition: The agent breaks down large tasks into smaller, manageable subgoals, enabling efficient handling of complex tasks.\\nReflection and refinement: The agent can do self-criticism and self-reflection over past actions, learn from mistakes and refine them for future steps, thereby improving the quality of final results.\\n\\n\\nMemory\\n\\nShort-term memory: I would consider all the in-context learning (See Prompt Engineering) as utilizing short-term memory of the model to learn.\\nLong-term memory: This provides the agent with the capability to retain and recall (infinite) information over extended periods, often by leveraging an external vector store and fast retrieval.\\n\\n\\nTool use\\n\\nThe agent learns to call external APIs for extra information that is missing from the model weights (often hard to change after pre-training), including current information, code execution capability, access to proprietary information sources and more.\\n\\n\\n\\n\\n\\t\\n\\tOverview of a LLM-powered autonomous agent system.\\n\\nComponent One: Planning\\nA complicated task usually involves many steps. An agent needs to know what they are and plan ahead.'}, page_content='The design of generative agents combines LLM with memory, planning and reflection mechanisms to enable agents to behave conditioned on past experience, as well as to interact with other agents.'),\n",
       " Document(metadata={'description': 'Building agents with LLM (large language model) as its core controller is a cool concept. Several proof-of-concepts demos, such as AutoGPT, GPT-Engineer and BabyAGI, serve as inspiring examples. The potentiality of LLM extends beyond generating well-written copies, stories, essays and programs; it can be framed as a powerful general problem solver.\\nAgent System Overview\\nIn a LLM-powered autonomous agent system, LLM functions as the agent’s brain, complemented by several key components:\\n\\nPlanning\\n\\nSubgoal and decomposition: The agent breaks down large tasks into smaller, manageable subgoals, enabling efficient handling of complex tasks.\\nReflection and refinement: The agent can do self-criticism and self-reflection over past actions, learn from mistakes and refine them for future steps, thereby improving the quality of final results.\\n\\n\\nMemory\\n\\nShort-term memory: I would consider all the in-context learning (See Prompt Engineering) as utilizing short-term memory of the model to learn.\\nLong-term memory: This provides the agent with the capability to retain and recall (infinite) information over extended periods, often by leveraging an external vector store and fast retrieval.\\n\\n\\nTool use\\n\\nThe agent learns to call external APIs for extra information that is missing from the model weights (often hard to change after pre-training), including current information, code execution capability, access to proprietary information sources and more.\\n\\n\\n\\n\\n\\t\\n\\tOverview of a LLM-powered autonomous agent system.\\n\\nComponent One: Planning\\nA complicated task usually involves many steps. An agent needs to know what they are and plan ahead.', 'language': 'en', 'title': \"LLM Powered Autonomous Agents | Lil'Log\", 'source': 'https://lilianweng.github.io/posts/2023-06-23-agent/'}, page_content='The design of generative agents combines LLM with memory, planning and reflection mechanisms to enable agents to behave conditioned on past experience, as well as to interact with other agents.'),\n",
       " Document(metadata={'language': 'en', 'title': \"LLM Powered Autonomous Agents | Lil'Log\", 'description': 'Building agents with LLM (large language model) as its core controller is a cool concept. Several proof-of-concepts demos, such as AutoGPT, GPT-Engineer and BabyAGI, serve as inspiring examples. The potentiality of LLM extends beyond generating well-written copies, stories, essays and programs; it can be framed as a powerful general problem solver.\\nAgent System Overview\\nIn a LLM-powered autonomous agent system, LLM functions as the agent’s brain, complemented by several key components:\\n\\nPlanning\\n\\nSubgoal and decomposition: The agent breaks down large tasks into smaller, manageable subgoals, enabling efficient handling of complex tasks.\\nReflection and refinement: The agent can do self-criticism and self-reflection over past actions, learn from mistakes and refine them for future steps, thereby improving the quality of final results.\\n\\n\\nMemory\\n\\nShort-term memory: I would consider all the in-context learning (See Prompt Engineering) as utilizing short-term memory of the model to learn.\\nLong-term memory: This provides the agent with the capability to retain and recall (infinite) information over extended periods, often by leveraging an external vector store and fast retrieval.\\n\\n\\nTool use\\n\\nThe agent learns to call external APIs for extra information that is missing from the model weights (often hard to change after pre-training), including current information, code execution capability, access to proprietary information sources and more.\\n\\n\\n\\n\\n\\t\\n\\tOverview of a LLM-powered autonomous agent system.\\n\\nComponent One: Planning\\nA complicated task usually involves many steps. An agent needs to know what they are and plan ahead.', 'source': 'https://lilianweng.github.io/posts/2023-06-23-agent/'}, page_content='The design of generative agents combines LLM with memory, planning and reflection mechanisms to enable agents to behave conditioned on past experience, as well as to interact with other agents.'),\n",
       " Document(metadata={'title': \"LLM Powered Autonomous Agents | Lil'Log\", 'language': 'en', 'description': 'Building agents with LLM (large language model) as its core controller is a cool concept. Several proof-of-concepts demos, such as AutoGPT, GPT-Engineer and BabyAGI, serve as inspiring examples. The potentiality of LLM extends beyond generating well-written copies, stories, essays and programs; it can be framed as a powerful general problem solver.\\nAgent System Overview\\nIn a LLM-powered autonomous agent system, LLM functions as the agent’s brain, complemented by several key components:\\n\\nPlanning\\n\\nSubgoal and decomposition: The agent breaks down large tasks into smaller, manageable subgoals, enabling efficient handling of complex tasks.\\nReflection and refinement: The agent can do self-criticism and self-reflection over past actions, learn from mistakes and refine them for future steps, thereby improving the quality of final results.\\n\\n\\nMemory\\n\\nShort-term memory: I would consider all the in-context learning (See Prompt Engineering) as utilizing short-term memory of the model to learn.\\nLong-term memory: This provides the agent with the capability to retain and recall (infinite) information over extended periods, often by leveraging an external vector store and fast retrieval.\\n\\n\\nTool use\\n\\nThe agent learns to call external APIs for extra information that is missing from the model weights (often hard to change after pre-training), including current information, code execution capability, access to proprietary information sources and more.\\n\\n\\n\\n\\n\\t\\n\\tOverview of a LLM-powered autonomous agent system.\\n\\nComponent One: Planning\\nA complicated task usually involves many steps. An agent needs to know what they are and plan ahead.', 'source': 'https://lilianweng.github.io/posts/2023-06-23-agent/'}, page_content='The design of generative agents combines LLM with memory, planning and reflection mechanisms to enable agents to behave conditioned on past experience, as well as to interact with other agents.')]"
      ]
     },
     "execution_count": 93,
     "metadata": {},
     "output_type": "execute_result"
    }
   ],
   "source": [
    "retriever.get_relevant_documents(\"agent memory\")"
   ]
  },
  {
   "cell_type": "code",
   "execution_count": 94,
   "id": "e9e4769b",
   "metadata": {},
   "outputs": [],
   "source": [
    "retrieve_tool = create_retriever_tool(\n",
    "    retriever,\n",
    "    name=\"retrieve_rag_tool\",\n",
    "    description=\"Search and retrun information about Lilian Weng blog posts on LLM agents, prompt engineering, and adversarial attacks on LLMs. You are a specialized assistant. \\\n",
    "        Use the 'retriever_tool' **only** when the query explicitly related to Langchain blog data. For all other queries, respond directly without using any tool.\\\n",
    "            For any simple quieries 'hi', 'hello', or 'how are you', provide a normal response.\"\n",
    ")"
   ]
  },
  {
   "cell_type": "code",
   "execution_count": 95,
   "id": "12264367",
   "metadata": {},
   "outputs": [],
   "source": [
    "llm_with_tool = llm.bind_tools([retrieve_tool])"
   ]
  },
  {
   "cell_type": "code",
   "execution_count": null,
   "id": "bd4404ef",
   "metadata": {},
   "outputs": [],
   "source": []
  },
  {
   "cell_type": "markdown",
   "id": "d435204b",
   "metadata": {},
   "source": [
    "#### RAG-Chain"
   ]
  },
  {
   "cell_type": "code",
   "execution_count": 96,
   "id": "f92984d2",
   "metadata": {},
   "outputs": [],
   "source": [
    "template = \"\"\" \n",
    "You are a helpful assistant tasked with question-answering. Provide the answer based on provided context only.\n",
    "context: {context}\n",
    "question: {question}\n",
    "\"\"\"\n",
    "\n",
    "prompt = PromptTemplate(\n",
    "    template=template,\n",
    "    input_variables=[\"context\", \"question\"]\n",
    ")\n",
    "\n",
    "rag_chain = prompt | llm"
   ]
  },
  {
   "cell_type": "markdown",
   "id": "64f65901",
   "metadata": {},
   "source": [
    "#### Retriever grade"
   ]
  },
  {
   "cell_type": "code",
   "execution_count": 97,
   "id": "cc9ad1db",
   "metadata": {},
   "outputs": [],
   "source": [
    "class GradeDocument(BaseModel):\n",
    "    binary_score: str = Field(description=\"Check the relevancy of the document with question 'yes' or 'no'\")"
   ]
  },
  {
   "cell_type": "code",
   "execution_count": 98,
   "id": "b0a5fa99",
   "metadata": {},
   "outputs": [],
   "source": [
    "structured_llm_op = llm.with_structured_output(GradeDocument)\n",
    "\n",
    "template = \"\"\"You are a ai assistant grader, check the given documents are relevant to the question or not. If the key word or semantic meaning are matching \\\n",
    "    consider it as relevant. Provide the answer in 'yes' or 'no'\\\n",
    "        content: {documents} \n",
    "        question: {question}\n",
    "        \"\"\"\n",
    "\n",
    "grader_prompt = PromptTemplate(\n",
    "    template=template,\n",
    "    input_variables=[\"documents\", \"question\"]\n",
    ")\n",
    "\n",
    "retriever_grade = grader_prompt | structured_llm_op"
   ]
  },
  {
   "cell_type": "markdown",
   "id": "ebc6eb28",
   "metadata": {},
   "source": [
    "#### Hallucination Grader"
   ]
  },
  {
   "cell_type": "code",
   "execution_count": 99,
   "id": "1d93da54",
   "metadata": {},
   "outputs": [],
   "source": [
    "class GradeHallucination(BaseModel):\n",
    "    binary_score: str = Field(description=\"Generated answer is relevancy 'yes' or 'no'\")"
   ]
  },
  {
   "cell_type": "code",
   "execution_count": 100,
   "id": "c3d03af2",
   "metadata": {},
   "outputs": [],
   "source": [
    "structured_llm_halu_op = llm.with_structured_output(GradeHallucination)\n",
    "\n",
    "hallucination_prompt = ChatPromptTemplate.from_messages(\n",
    "    [\n",
    "        (\"system\", \"You are a grader checking if an LLM generation is grounded in or supported by retrieved facts. Give a simple answer 'yes' or 'no'\"),\n",
    "        (\"user\", \"generation: {generation}, facts:{documents}\")\n",
    "    ]\n",
    ")\n",
    "\n",
    "hallucination_grader = hallucination_prompt | structured_llm_halu_op"
   ]
  },
  {
   "cell_type": "code",
   "execution_count": 101,
   "id": "ba496d57",
   "metadata": {},
   "outputs": [],
   "source": [
    "#### Answer grader"
   ]
  },
  {
   "cell_type": "code",
   "execution_count": 102,
   "id": "7c5731d2",
   "metadata": {},
   "outputs": [],
   "source": [
    "class GradeAnswer(BaseModel):\n",
    "    binary_score: str = Field(description=\"Answer addresses question, 'yes' or 'no'\")\n",
    "    \n",
    "\n",
    "structured_ans_grader = llm.with_structured_output(GradeAnswer)\n",
    "\n",
    "system = \"\"\" \n",
    "You are an helpful ai assistant tasked with identify provided answer is relevens to the question. \n",
    "Give a binary score 'yes' or 'no'\n",
    "\"\"\"\n",
    "\n",
    "answer_prompt = ChatPromptTemplate.from_messages(\n",
    "    [\n",
    "        (\"system\", system),\n",
    "        (\"user\", (\"user question: {question}, \\n\\ngeneration:{generation}\"))\n",
    "    ]\n",
    ")\n",
    "\n",
    "answer_grader = answer_prompt | structured_ans_grader"
   ]
  },
  {
   "cell_type": "markdown",
   "id": "7e167e81",
   "metadata": {},
   "source": [
    "#### Question Re-Writer"
   ]
  },
  {
   "cell_type": "code",
   "execution_count": 103,
   "id": "c2711a87",
   "metadata": {},
   "outputs": [],
   "source": [
    "system = \"\"\"You are a question re-writer that converts an input question into a better optimized version for vector store retrieval document.  \n",
    "You are given both a question and a document.  \n",
    "- First, check if the question is relevant to the document by identifying a connection or relevance between them.  \n",
    "- If there is a little relevancy, rewrite the question based on the semantic intent of the question and the context of the document.  \n",
    "- If no relevance is found, simply return this single word \"question not relevant.\" dont return the entire phrase \n",
    "Your goal is to ensure the rewritten question aligns well with the document for better retrieval.\"\"\"\n",
    "\n",
    "re_write_prompt = ChatPromptTemplate.from_messages(\n",
    "    [\n",
    "        (\"system\", system),\n",
    "        (\"user\", \"\"\"Here is the initial question: \\n\\n{question} \\n\n",
    "         Here is the document: \\n\\n{documents}\n",
    "         Formulate an improved question. if possible other return 'question not relevant'.\"\"\")\n",
    "    ]\n",
    ")\n",
    "\n",
    "question_reqriter = re_write_prompt | llm | StrOutputParser()"
   ]
  },
  {
   "cell_type": "code",
   "execution_count": 104,
   "id": "e23e3b7b",
   "metadata": {},
   "outputs": [],
   "source": [
    "class AgentState(TypedDict):\n",
    "    question: str\n",
    "    generation: str \n",
    "    documents: List[str]\n",
    "    filtered_docs: List[str]\n",
    "    unfiltered_docs: List[str]"
   ]
  },
  {
   "cell_type": "code",
   "execution_count": 105,
   "id": "8c54c8d7",
   "metadata": {},
   "outputs": [],
   "source": [
    "def retrieve(state: AgentState):\n",
    "    print(\"---RETRIEVE---\")\n",
    "    question = state['question']\n",
    "    \n",
    "    documents = retriever.get_relevant_documents(question)\n",
    "    return{\"documents\": documents, \"question\": question}"
   ]
  },
  {
   "cell_type": "code",
   "execution_count": 106,
   "id": "af72b8bb",
   "metadata": {},
   "outputs": [],
   "source": [
    "def grade_documents(state: AgentState):\n",
    "    print(\"----CHECK DOCUMENTS RELEVANCE TO THE QUESTION----\")\n",
    "    question = state['question']\n",
    "    documents = state['documents']\n",
    "    \n",
    "    filtered_documents = []\n",
    "    unfiltered_documents = []\n",
    "    \n",
    "    for doc in documents:\n",
    "        score = retriever_grade.invoke({\"question\": question, \"documents\": doc})\n",
    "        grade = score.binary_score\n",
    "    \n",
    "        if grade == 'yes':\n",
    "            print(\"---GRADE: DOCUMENTS RELEVANT---\")\n",
    "            filtered_documents.append(documents)\n",
    "        else:\n",
    "            print(\"---GRADE: dOCUMENTS NOT RELEVANT---\")\n",
    "            unfiltered_documents.append(documents)\n",
    "            \n",
    "    if len(unfiltered_documents) > 1:\n",
    "        return{\"unfiltered_docs\": unfiltered_documents, \"filtered_docs\": [], \"question\": question}\n",
    "    else:\n",
    "        return{\"filtered_docs\": filtered_documents, \"unfiltered_docs\": [], \"question\": question}\n",
    "        "
   ]
  },
  {
   "cell_type": "code",
   "execution_count": 107,
   "id": "72684bda",
   "metadata": {},
   "outputs": [],
   "source": [
    "def decide_to_generate(state: AgentState):\n",
    "    print(\"----ACCESS GRADED DOCUMENTS----\")\n",
    "    filtered_docs = state['filtered_docs']\n",
    "    unfiltered_docs = state['unfiltered_docs']\n",
    "    \n",
    "    if unfiltered_docs:\n",
    "        print(\"---ALL THE DOCUMENTS ARE NOTE RELEVANT TO QUESTION, TRANSFORM QUERY---\")\n",
    "        return \"transform_query\"\n",
    "    if filtered_docs:\n",
    "        print(\"---DECISION: GENERATE---\")\n",
    "        return \"generate\""
   ]
  },
  {
   "cell_type": "code",
   "execution_count": 108,
   "id": "dd52651d",
   "metadata": {},
   "outputs": [],
   "source": [
    "def generate(state: AgentState):\n",
    "    print(\"---GENERATE---\")\n",
    "    question = state['question']\n",
    "    documents = state['documents']\n",
    "    \n",
    "    generation = rag_chain.invoke({\"context\": documents, \"question\": question})\n",
    "    return {\"documents\": documents, \"question\": \"question\", \"generation\": generation}"
   ]
  },
  {
   "cell_type": "code",
   "execution_count": 109,
   "id": "7244e826",
   "metadata": {},
   "outputs": [],
   "source": [
    "def transform_query(state: AgentState):\n",
    "    question = state['question']\n",
    "    documents = state['documents']\n",
    "    \n",
    "    response = question_reqriter.invoke({\"question\": question, \"documents\": documents})\n",
    "    print(f\"---RESPONSE---{response}\")\n",
    "    \n",
    "    if response == \"question not relevant\":\n",
    "        print(\"---QUESTION IS NOT AT ALL RELEVANT---\")\n",
    "        return {\"documents\": documents, \"question\": question, \"generation\": \"question was not at all relevant\"}\n",
    "    else:\n",
    "        return {\"documents\": documents, \"question\": response}"
   ]
  },
  {
   "cell_type": "code",
   "execution_count": 110,
   "id": "d17279f8",
   "metadata": {},
   "outputs": [],
   "source": [
    "def decide_to_generate_after_transformation(state: AgentState):\n",
    "    question = state['question']\n",
    "    \n",
    "    if question == \"question not relevant\":\n",
    "        return \"query_not_at_all_relevant\"\n",
    "    else:\n",
    "        return \"Retriever\""
   ]
  },
  {
   "cell_type": "code",
   "execution_count": 111,
   "id": "b2694833",
   "metadata": {},
   "outputs": [],
   "source": [
    "from pprint import pprint\n",
    "\n",
    "def grade_generation_vs_documents_and_question(state: AgentState):\n",
    "    print(\"---CHECK HELLUCINATIONS---\")\n",
    "    question = state['question']\n",
    "    documents = state['documents']\n",
    "    generation = state['generation']\n",
    "    \n",
    "    score = hallucination_grader.invoke({\"documents\": documents, \"generation\": generation})\n",
    "    grade = score.binary_score \n",
    "    \n",
    "    if grade == 'yes':\n",
    "        print(\"---DECISION: GENERATION IS GROUNDED IN DOCUMENTS\")\n",
    "        print(\"---GRADE GENERATION vs QUESTION---\")\n",
    "        \n",
    "        score = answer_grader.invoke({\"question\": question, \"generation\": generation})\n",
    "        \n",
    "        grade = score.binary_score \n",
    "        \n",
    "        if grade == 'yes':\n",
    "            print(\"---DECISION: GENERATION ADDRESS THE QUESITON\")\n",
    "            return \"useful\"\n",
    "        else:\n",
    "            print(\"---DECISION: GENERATION IS NOT GROUNDED IN DOCUMENTS, RE-TRY---TRANSFORM QUERY\")\n",
    "            return \"not useful\"\n",
    "        \n",
    "    else:\n",
    "        ppinrt(\"---DECISION: GENERATION IS NOT GROUNDED IN DOCUMENTS, RE-TRY---TRANSFORM QUERY\")\n",
    "        return \"not useful\""
   ]
  },
  {
   "cell_type": "markdown",
   "id": "2b996872",
   "metadata": {},
   "source": [
    "#### From here langgraph workflow will start"
   ]
  },
  {
   "cell_type": "code",
   "execution_count": 112,
   "id": "b8705736",
   "metadata": {},
   "outputs": [
    {
     "data": {
      "text/plain": [
       "<langgraph.graph.state.StateGraph at 0x1b28bdb10d0>"
      ]
     },
     "execution_count": 112,
     "metadata": {},
     "output_type": "execute_result"
    }
   ],
   "source": [
    "workflow = StateGraph(AgentState)\n",
    "\n",
    "workflow.add_node(\"Docs_Vector_Retriever\", retrieve)\n",
    "workflow.add_node(\"Grading_Generated_Documents\", grade_documents)\n",
    "workflow.add_node(\"Content_Generator\", generate)\n",
    "workflow.add_node(\"Transform_User_Query\", transform_query)\n",
    "\n",
    "workflow.add_edge(START, \"Docs_Vector_Retriever\")\n",
    "workflow.add_edge(\"Docs_Vector_Retriever\", \"Grading_Generated_Documents\")\n",
    "\n",
    "workflow.add_conditional_edges(\n",
    "    \"Grading_Generated_Documents\",\n",
    "    decide_to_generate,\n",
    "    {\n",
    "        \"generate\": \"Content_Generator\",\n",
    "        \"transform_query\": \"Transform_User_Query\"\n",
    "    }\n",
    ")\n",
    "\n",
    "workflow.add_conditional_edges(\n",
    "    \"Content_Generator\",\n",
    "    grade_generation_vs_documents_and_question,\n",
    "    {\n",
    "        \"useful\": END,\n",
    "        \"not useful\": \"Transform_User_Query\"\n",
    "    }\n",
    ")\n",
    "\n",
    "workflow.add_conditional_edges(\n",
    "    \"Transform_User_Query\",\n",
    "    decide_to_generate_after_transformation,\n",
    "    {\n",
    "        \"Retriever\": \"Docs_Vector_Retriever\",\n",
    "        \"query_not_at_all_relevant\": END\n",
    "    }\n",
    ")"
   ]
  },
  {
   "cell_type": "code",
   "execution_count": 113,
   "id": "efe3c4db",
   "metadata": {},
   "outputs": [],
   "source": [
    "app = workflow.compile()"
   ]
  },
  {
   "cell_type": "code",
   "execution_count": 114,
   "id": "fee644ef",
   "metadata": {},
   "outputs": [
    {
     "data": {
      "image/png": "[encoded data removed]",
      "text/plain": [
       "<IPython.core.display.Image object>"
      ]
     },
     "metadata": {},
     "output_type": "display_data"
    }
   ],
   "source": [
    "from IPython.display import Image, display # type: ignore\n",
    "display(Image(app.get_graph(xray=True).draw_mermaid_png()))"
   ]
  },
  {
   "cell_type": "code",
   "execution_count": 115,
   "id": "4d58e5ea",
   "metadata": {},
   "outputs": [],
   "source": [
    "inputs = {\"question\": \"Explain how the different types of agent memory work?\"}"
   ]
  },
  {
   "cell_type": "code",
   "execution_count": 116,
   "id": "9d20294b",
   "metadata": {},
   "outputs": [
    {
     "name": "stdout",
     "output_type": "stream",
     "text": [
      "---RETRIEVE---\n",
      "----CHECK DOCUMENTS RELEVANCE TO THE QUESTION----\n",
      "---GRADE: DOCUMENTS RELEVANT---\n",
      "---GRADE: DOCUMENTS RELEVANT---\n",
      "---GRADE: DOCUMENTS RELEVANT---\n",
      "---GRADE: DOCUMENTS RELEVANT---\n",
      "----ACCESS GRADED DOCUMENTS----\n",
      "---DECISION: GENERATE---\n",
      "---GENERATE---\n",
      "---CHECK HELLUCINATIONS---\n",
      "---DECISION: GENERATION IS GROUNDED IN DOCUMENTS\n",
      "---GRADE GENERATION vs QUESTION---\n",
      "---DECISION: GENERATION ADDRESS THE QUESITON\n"
     ]
    },
    {
     "data": {
      "text/plain": [
       "AIMessage(content='In a LLM-powered autonomous agent system, there are two types of agent memory: short-term memory and long-term memory.\\n\\n1. **Short-term memory**: This type of memory is utilized through in-context learning, also known as Prompt Engineering. It allows the model to learn from the input it receives and make decisions based on that information.\\n\\n2. **Long-term memory**: This provides the agent with the capability to retain and recall information over extended periods. It often leverages an external vector store and fast retrieval, enabling the agent to store and retrieve large amounts of information. This allows the agent to remember past experiences, learn from mistakes, and improve its performance over time.', additional_kwargs={}, response_metadata={'token_usage': {'completion_tokens': 136, 'prompt_tokens': 1783, 'total_tokens': 1919, 'completion_time': 0.494545455, 'prompt_time': 0.099134482, 'queue_time': 0.063633729, 'total_time': 0.593679937}, 'model_name': 'llama-3.3-70b-versatile', 'system_fingerprint': 'fp_3f3b593e33', 'finish_reason': 'stop', 'logprobs': None}, id='run--9549262e-a9f0-458b-8658-0c95fc4bf7b4-0', usage_metadata={'input_tokens': 1783, 'output_tokens': 136, 'total_tokens': 1919})"
      ]
     },
     "execution_count": 116,
     "metadata": {},
     "output_type": "execute_result"
    }
   ],
   "source": [
    "\n",
    "app.invoke(inputs)[\"generation\"]"
   ]
  },
  {
   "cell_type": "code",
   "execution_count": null,
   "id": "053fba05",
   "metadata": {},
   "outputs": [],
   "source": []
  }
 ],
 "metadata": {
  "kernelspec": {
   "display_name": "langgraph",
   "language": "python",
   "name": "python3"
  },
  "language_info": {
   "codemirror_mode": {
    "name": "ipython",
    "version": 3
   },
   "file_extension": ".py",
   "mimetype": "text/x-python",
   "name": "python",
   "nbconvert_exporter": "python",
   "pygments_lexer": "ipython3",
   "version": "3.12.0"
  }
 },
 "nbformat": 4,
 "nbformat_minor": 5
}
