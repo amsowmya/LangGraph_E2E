{
 "cells": [
  {
   "cell_type": "code",
   "execution_count": 109,
   "id": "30cc2181",
   "metadata": {},
   "outputs": [],
   "source": [
    "import os \n",
    "from dotenv import load_dotenv\n",
    "from typing import TypedDict, Annotated, Sequence, Literal\n",
    "from pydantic import BaseModel, Field\n",
    "\n",
    "from langchain_community.document_loaders import WebBaseLoader\n",
    "from langchain_text_splitters import RecursiveCharacterTextSplitter\n",
    "from langchain_community.vectorstores import Chroma\n",
    "from langchain_huggingface.embeddings import HuggingFaceEmbeddings\n",
    "from langchain_groq.chat_models import ChatGroq\n",
    "from langchain.tools.retriever import create_retriever_tool\n",
    "from langchain_core.prompts import PromptTemplate\n",
    "from langchain import hub\n",
    "\n",
    "from langgraph.graph import StateGraph, START, END\n",
    "from langgraph.graph.message import add_messages, BaseMessage\n",
    "from langgraph.prebuilt import ToolNode, tools_condition"
   ]
  },
  {
   "cell_type": "code",
   "execution_count": 110,
   "id": "ba8f3f99",
   "metadata": {},
   "outputs": [
    {
     "data": {
      "text/plain": [
       "\"It's nice to meet you. Is there something I can help you with or would you like to chat?\""
      ]
     },
     "execution_count": 110,
     "metadata": {},
     "output_type": "execute_result"
    }
   ],
   "source": [
    "groq_api_key = os.getenv('GROQ_API_KEY')\n",
    "llm = ChatGroq(groq_api_key=groq_api_key, model=\"llama-3.3-70b-versatile\")\n",
    "\n",
    "llm.invoke(\"hi\").content"
   ]
  },
  {
   "cell_type": "code",
   "execution_count": 111,
   "id": "0c154fb9",
   "metadata": {},
   "outputs": [],
   "source": [
    "os.environ['HF_TOKEN'] = os.getenv('HF_TOKEN')\n",
    "\n",
    "embeddings = HuggingFaceEmbeddings(model_name='all-MiniLM-L6-v2')"
   ]
  },
  {
   "cell_type": "code",
   "execution_count": 112,
   "id": "d7912f9f",
   "metadata": {},
   "outputs": [],
   "source": [
    "urls = [\n",
    "    \"https://lilianweng.github.io/posts/2023-06-23-agent/\",\n",
    "    \"https://lilianweng.github.io/posts/2023-03-15-prompt-engineering/\",\n",
    "]\n",
    "\n",
    "docs = [WebBaseLoader(url).load() for url in urls]\n",
    "\n",
    "docs_list = [item for sublist in docs for item in sublist]\n",
    "\n",
    "doc_splitter = RecursiveCharacterTextSplitter.from_tiktoken_encoder(chunk_size=500, chunk_overlap=50)\n",
    "documents = doc_splitter.split_documents(docs_list)\n",
    "\n",
    "vectordb = Chroma.from_documents(\n",
    "    documents=documents, collection_name=\"agentic-rag\", embedding=embeddings\n",
    ")\n",
    "\n",
    "retriever = vectordb.as_retriever()"
   ]
  },
  {
   "cell_type": "code",
   "execution_count": 113,
   "id": "0eb166f9",
   "metadata": {},
   "outputs": [
    {
     "data": {
      "text/plain": [
       "[Document(metadata={'language': 'en', 'description': 'Prompt Engineering, also known as In-Context Prompting, refers to methods for how to communicate with LLM to steer its behavior for desired outcomes without updating the model weights. It is an empirical science and the effect of prompt engineering methods can vary a lot among models, thus requiring heavy experimentation and heuristics.\\nThis post only focuses on prompt engineering for autoregressive language models, so nothing with Cloze tests, image generation or multimodality models. At its core, the goal of prompt engineering is about alignment and model steerability. Check my previous post on controllable text generation.', 'title': \"Prompt Engineering | Lil'Log\", 'source': 'https://lilianweng.github.io/posts/2023-03-15-prompt-engineering/'}, page_content=\"Prompt Engineering | Lil'Log\\n\\n\\n\\n\\n\\n\\n\\n\\n\\n\\n\\n\\n\\n\\n\\n\\n\\n\\n\\n\\n\\n\\n\\n\\n\\n\\n\\n\\n\\n\\n\\n\\n\\n\\n\\n\\n\\n\\n\\nLil'Log\\n\\n\\n\\n\\n\\n\\n\\n\\n\\n\\n\\n\\n\\n\\n\\n\\n\\n|\\n\\n\\n\\n\\n\\n\\nPosts\\n\\n\\n\\n\\nArchive\\n\\n\\n\\n\\nSearch\\n\\n\\n\\n\\nTags\\n\\n\\n\\n\\nFAQ\\n\\n\\n\\n\\n\\n\\n\\n\\n\\n      Prompt Engineering\\n    \\nDate: March 15, 2023  |  Estimated Reading Time: 21 min  |  Author: Lilian Weng\\n\\n\\n \\n\\n\\nTable of Contents\\n\\n\\n\\nBasic Prompting\\n\\nZero-Shot\\n\\nFew-shot\\n\\nTips for Example Selection\\n\\nTips for Example Ordering\\n\\n\\n\\nInstruction Prompting\\n\\nSelf-Consistency Sampling\\n\\nChain-of-Thought (CoT)\\n\\nTypes of CoT prompts\\n\\nTips and Extensions\\n\\n\\nAutomatic Prompt Design\\n\\nAugmented Language Models\\n\\nRetrieval\\n\\nProgramming Language\\n\\nExternal APIs\\n\\n\\nCitation\\n\\nUseful Resources\\n\\nReferences\"),\n",
       " Document(metadata={'title': \"Prompt Engineering | Lil'Log\", 'source': 'https://lilianweng.github.io/posts/2023-03-15-prompt-engineering/', 'description': 'Prompt Engineering, also known as In-Context Prompting, refers to methods for how to communicate with LLM to steer its behavior for desired outcomes without updating the model weights. It is an empirical science and the effect of prompt engineering methods can vary a lot among models, thus requiring heavy experimentation and heuristics.\\nThis post only focuses on prompt engineering for autoregressive language models, so nothing with Cloze tests, image generation or multimodality models. At its core, the goal of prompt engineering is about alignment and model steerability. Check my previous post on controllable text generation.', 'language': 'en'}, page_content=\"Prompt Engineering | Lil'Log\\n\\n\\n\\n\\n\\n\\n\\n\\n\\n\\n\\n\\n\\n\\n\\n\\n\\n\\n\\n\\n\\n\\n\\n\\n\\n\\n\\n\\n\\n\\n\\n\\n\\n\\n\\n\\n\\n\\n\\nLil'Log\\n\\n\\n\\n\\n\\n\\n\\n\\n\\n\\n\\n\\n\\n\\n\\n\\n\\n|\\n\\n\\n\\n\\n\\n\\nPosts\\n\\n\\n\\n\\nArchive\\n\\n\\n\\n\\nSearch\\n\\n\\n\\n\\nTags\\n\\n\\n\\n\\nFAQ\\n\\n\\n\\n\\n\\n\\n\\n\\n\\n      Prompt Engineering\\n    \\nDate: March 15, 2023  |  Estimated Reading Time: 21 min  |  Author: Lilian Weng\\n\\n\\n \\n\\n\\nTable of Contents\\n\\n\\n\\nBasic Prompting\\n\\nZero-Shot\\n\\nFew-shot\\n\\nTips for Example Selection\\n\\nTips for Example Ordering\\n\\n\\n\\nInstruction Prompting\\n\\nSelf-Consistency Sampling\\n\\nChain-of-Thought (CoT)\\n\\nTypes of CoT prompts\\n\\nTips and Extensions\\n\\n\\nAutomatic Prompt Design\\n\\nAugmented Language Models\\n\\nRetrieval\\n\\nProgramming Language\\n\\nExternal APIs\\n\\n\\nCitation\\n\\nUseful Resources\\n\\nReferences\"),\n",
       " Document(metadata={'title': \"Prompt Engineering | Lil'Log\", 'language': 'en', 'description': 'Prompt Engineering, also known as In-Context Prompting, refers to methods for how to communicate with LLM to steer its behavior for desired outcomes without updating the model weights. It is an empirical science and the effect of prompt engineering methods can vary a lot among models, thus requiring heavy experimentation and heuristics.\\nThis post only focuses on prompt engineering for autoregressive language models, so nothing with Cloze tests, image generation or multimodality models. At its core, the goal of prompt engineering is about alignment and model steerability. Check my previous post on controllable text generation.', 'source': 'https://lilianweng.github.io/posts/2023-03-15-prompt-engineering/'}, page_content=\"Prompt Engineering | Lil'Log\\n\\n\\n\\n\\n\\n\\n\\n\\n\\n\\n\\n\\n\\n\\n\\n\\n\\n\\n\\n\\n\\n\\n\\n\\n\\n\\n\\n\\n\\n\\n\\n\\n\\n\\n\\n\\n\\n\\n\\nLil'Log\\n\\n\\n\\n\\n\\n\\n\\n\\n\\n\\n\\n\\n\\n\\n\\n\\n\\n|\\n\\n\\n\\n\\n\\n\\nPosts\\n\\n\\n\\n\\nArchive\\n\\n\\n\\n\\nSearch\\n\\n\\n\\n\\nTags\\n\\n\\n\\n\\nFAQ\\n\\n\\n\\n\\n\\n\\n\\n\\n\\n      Prompt Engineering\\n    \\nDate: March 15, 2023  |  Estimated Reading Time: 21 min  |  Author: Lilian Weng\\n\\n\\n \\n\\n\\nTable of Contents\\n\\n\\n\\nBasic Prompting\\n\\nZero-Shot\\n\\nFew-shot\\n\\nTips for Example Selection\\n\\nTips for Example Ordering\\n\\n\\n\\nInstruction Prompting\\n\\nSelf-Consistency Sampling\\n\\nChain-of-Thought (CoT)\\n\\nTypes of CoT prompts\\n\\nTips and Extensions\\n\\n\\nAutomatic Prompt Design\\n\\nAugmented Language Models\\n\\nRetrieval\\n\\nProgramming Language\\n\\nExternal APIs\\n\\n\\nCitation\\n\\nUseful Resources\\n\\nReferences\"),\n",
       " Document(metadata={'source': 'https://lilianweng.github.io/posts/2023-03-15-prompt-engineering/', 'title': \"Prompt Engineering | Lil'Log\", 'language': 'en', 'description': 'Prompt Engineering, also known as In-Context Prompting, refers to methods for how to communicate with LLM to steer its behavior for desired outcomes without updating the model weights. It is an empirical science and the effect of prompt engineering methods can vary a lot among models, thus requiring heavy experimentation and heuristics.\\nThis post only focuses on prompt engineering for autoregressive language models, so nothing with Cloze tests, image generation or multimodality models. At its core, the goal of prompt engineering is about alignment and model steerability. Check my previous post on controllable text generation.'}, page_content=\"Prompt Engineering | Lil'Log\\n\\n\\n\\n\\n\\n\\n\\n\\n\\n\\n\\n\\n\\n\\n\\n\\n\\n\\n\\n\\n\\n\\n\\n\\n\\n\\n\\n\\n\\n\\n\\n\\n\\n\\n\\n\\n\\n\\n\\nLil'Log\\n\\n\\n\\n\\n\\n\\n\\n\\n\\n\\n\\n\\n\\n\\n\\n\\n\\n|\\n\\n\\n\\n\\n\\n\\nPosts\\n\\n\\n\\n\\nArchive\\n\\n\\n\\n\\nSearch\\n\\n\\n\\n\\nTags\\n\\n\\n\\n\\nFAQ\\n\\n\\n\\n\\n\\n\\n\\n\\n\\n      Prompt Engineering\\n    \\nDate: March 15, 2023  |  Estimated Reading Time: 21 min  |  Author: Lilian Weng\\n\\n\\n \\n\\n\\nTable of Contents\\n\\n\\n\\nBasic Prompting\\n\\nZero-Shot\\n\\nFew-shot\\n\\nTips for Example Selection\\n\\nTips for Example Ordering\\n\\n\\n\\nInstruction Prompting\\n\\nSelf-Consistency Sampling\\n\\nChain-of-Thought (CoT)\\n\\nTypes of CoT prompts\\n\\nTips and Extensions\\n\\n\\nAutomatic Prompt Design\\n\\nAugmented Language Models\\n\\nRetrieval\\n\\nProgramming Language\\n\\nExternal APIs\\n\\n\\nCitation\\n\\nUseful Resources\\n\\nReferences\")]"
      ]
     },
     "execution_count": 113,
     "metadata": {},
     "output_type": "execute_result"
    }
   ],
   "source": [
    "retriever.get_relevant_documents(\"about prompt engineering\")"
   ]
  },
  {
   "cell_type": "code",
   "execution_count": 114,
   "id": "0d476cb0",
   "metadata": {},
   "outputs": [],
   "source": [
    "retriever_tool = create_retriever_tool(\n",
    "    retriever,\n",
    "    name=\"retriever-blog-tool\",\n",
    "    description=\"Search and retrun information about Lilian Weng blog posts on LLM agents, prompt engineering, and adversarial attacks on LLMs. You are a specialized assistant. \\\n",
    "        Use the 'retriever_tool' **only** when the query explicitly related to Langchain blog data. For all other queries, respond directly without using any tool.\\\n",
    "            For any simple quieries 'hi', 'hello', or 'how are you', provide a normal response.\"\n",
    ")"
   ]
  },
  {
   "cell_type": "code",
   "execution_count": 115,
   "id": "2fcb5c09",
   "metadata": {},
   "outputs": [],
   "source": [
    "tools = [retriever_tool]"
   ]
  },
  {
   "cell_type": "code",
   "execution_count": 116,
   "id": "2fafffa2",
   "metadata": {},
   "outputs": [],
   "source": [
    "retrieve = ToolNode([retriever_tool])"
   ]
  },
  {
   "cell_type": "code",
   "execution_count": 117,
   "id": "718062a4",
   "metadata": {},
   "outputs": [],
   "source": [
    "llm_with_tools = llm.bind_tools(tools)"
   ]
  },
  {
   "cell_type": "code",
   "execution_count": 118,
   "id": "ec6f9b22",
   "metadata": {},
   "outputs": [],
   "source": [
    "class AgentState(TypedDict):\n",
    "    messages: Annotated[Sequence[BaseMessage], add_messages]"
   ]
  },
  {
   "cell_type": "code",
   "execution_count": 119,
   "id": "516839ea",
   "metadata": {},
   "outputs": [],
   "source": [
    "def ai_assistant(state):\n",
    "    print(\"---CALL AGENT---\")\n",
    "    question = state['messages'][0].content\n",
    "    \n",
    "    return {\"messages\": [llm_with_tools.invoke(question)]}"
   ]
  },
  {
   "cell_type": "code",
   "execution_count": 120,
   "id": "04b96b99",
   "metadata": {},
   "outputs": [],
   "source": [
    "class Grade(BaseModel):\n",
    "    binary_score: str = Field(description=\"Relevance score 'yes' or 'no'\")"
   ]
  },
  {
   "cell_type": "code",
   "execution_count": 121,
   "id": "235c32bb",
   "metadata": {},
   "outputs": [],
   "source": [
    "def grade_documents(state: AgentState) -> Literal[\"Output_Generator\", \"Query_Rewriter\"]:\n",
    "    llm_with_structure_op = llm.with_structured_output(Grade)\n",
    "    \n",
    "    template = \"\"\" \n",
    "    You are a helpful assistant tasked with identify provided content is relevant to the question or not.\n",
    "    content: {content}\n",
    "    question: {question}\n",
    "    provide the answer in 'yes' or 'no'\n",
    "    \"\"\"\n",
    "    \n",
    "    prompt = PromptTemplate(\n",
    "        template=template,\n",
    "        input_variables=[\"context\", \"question\"]\n",
    "    )\n",
    "    \n",
    "    rag_chain = prompt | llm_with_structure_op\n",
    "    \n",
    "    question = state['messages'][0].content\n",
    "    last_message = state['messages'][-1]\n",
    "    docs = last_message.content\n",
    "    \n",
    "    scored_result = rag_chain.invoke({\"content\": docs, \"question\": question})\n",
    "    score = scored_result.binary_score \n",
    "    \n",
    "    if score == 'yes':\n",
    "        print(\"---DECISION: DOCS RELEVANT---\")\n",
    "        return \"generator\"\n",
    "    else:\n",
    "        print(\"---DECISION: DOCS NOT RELEVANT\")\n",
    "        return \"rewriter\""
   ]
  },
  {
   "cell_type": "code",
   "execution_count": 122,
   "id": "23a2aeb2",
   "metadata": {},
   "outputs": [],
   "source": [
    "def generate(state:AgentState):\n",
    "    print(\"---GENERATE---\")\n",
    "    messages = state['messages']\n",
    "    \n",
    "    question = messages[0].content \n",
    "    docs = messages[-1].content \n",
    "    \n",
    "    prompt = hub.pull(\"rlm/rag-prompt\")\n",
    "    \n",
    "    rag_chain = prompt | llm \n",
    "    \n",
    "    response = rag_chain.invoke({\"context\": docs, \"question\": question})\n",
    "    print(f\"This is my response : {response}\")\n",
    "    \n",
    "    return {\"messages\": [response]}"
   ]
  },
  {
   "cell_type": "code",
   "execution_count": 123,
   "id": "ca9af278",
   "metadata": {},
   "outputs": [],
   "source": [
    "from langchain_core.messages import HumanMessage\n",
    "\n",
    "def rewrite(state: AgentState):\n",
    "    print(\"---TRANSFORM QUERY---\")\n",
    "    \n",
    "    question = state['messages'][0].content \n",
    "    \n",
    "    message = HumanMessage(content=f\"Look at the input and try to reason about the underlying semantic intent or meaning. \\\n",
    "        Here is the initial question: {question}\\\n",
    "        Formulate an improved question.\")\n",
    "    \n",
    "    response = llm.invoke(message)\n",
    "    return {\"messages\": [response]}"
   ]
  },
  {
   "cell_type": "code",
   "execution_count": 124,
   "id": "57a21902",
   "metadata": {},
   "outputs": [],
   "source": [
    "workflow = StateGraph(AgentState)\n",
    "\n",
    "workflow.add_node(\"My_Ai_Assistant\", ai_assistant)\n",
    "workflow.add_node(\"Vector_Retriever\", retrieve)\n",
    "workflow.add_node(\"Output_Generator\", generate)\n",
    "workflow.add_node(\"Query_Rewriter\", rewrite)\n",
    "\n",
    "workflow.add_edge(START, \"My_Ai_Assistant\")\n",
    "\n",
    "workflow.add_conditional_edges(\n",
    "    \"My_Ai_Assistant\",\n",
    "    tools_condition,\n",
    "    {\n",
    "        \"tools\": \"Vector_Retriever\",\n",
    "        END: END\n",
    "    }\n",
    ")\n",
    "\n",
    "workflow.add_conditional_edges(\n",
    "    \"Vector_Retriever\",\n",
    "    grade_documents,\n",
    "    {\n",
    "        \"generator\": \"Output_Generator\",\n",
    "        \"rewriter\": \"Query_Rewriter\"\n",
    "    }\n",
    ")\n",
    "\n",
    "\n",
    "workflow.add_edge(\"Output_Generator\", END)\n",
    "workflow.add_edge(\"Query_Rewriter\", \"My_Ai_Assistant\")\n",
    "\n",
    "app = workflow.compile()"
   ]
  },
  {
   "cell_type": "code",
   "execution_count": 125,
   "id": "bc315057",
   "metadata": {},
   "outputs": [
    {
     "data": {
      "image/png": "[encoded data removed]",
      "text/plain": [
       "<IPython.core.display.Image object>"
      ]
     },
     "metadata": {},
     "output_type": "display_data"
    }
   ],
   "source": [
    "from IPython.display import Image, display\n",
    "\n",
    "try:\n",
    "    display(Image(app.get_graph(xray=True).draw_mermaid_png()))\n",
    "except Exception:\n",
    "    # This requires some extra dependencies and is optional\n",
    "    pass"
   ]
  },
  {
   "cell_type": "code",
   "execution_count": 126,
   "id": "2d35de72",
   "metadata": {},
   "outputs": [
    {
     "name": "stdout",
     "output_type": "stream",
     "text": [
      "---CALL AGENT---\n"
     ]
    },
    {
     "data": {
      "text/plain": [
       "{'messages': [HumanMessage(content='What is a Autonomous Agent?', additional_kwargs={}, response_metadata={}, id='c8f61f24-29b2-4a27-9d8e-be8a6a7f5c90'),\n",
       "  AIMessage(content=\"An autonomous agent is a system or entity that can perform tasks independently without human intervention. It has the ability to perceive its environment, make decisions, and take actions based on its own goals and objectives. Autonomous agents can be found in various fields, including robotics, artificial intelligence, and computer science.\\n\\nAutonomous agents typically have the following characteristics:\\n\\n1. Autonomy: They can operate independently without human control.\\n2. Reactivity: They can respond to changes in their environment.\\n3. Proactivity: They can take initiative to achieve their goals.\\n4. Social ability: They can interact with other agents or systems.\\n\\nExamples of autonomous agents include:\\n\\n1. Self-driving cars\\n2. Drones\\n3. Robots\\n4. Chatbots\\n5. Virtual assistants\\n\\nIn the context of artificial intelligence, autonomous agents are often used to refer to software programs that can perform tasks such as data processing, decision-making, and problem-solving without human intervention. These agents can learn from experience, adapt to new situations, and improve their performance over time.\\n\\nIn the context of Lilian Weng's blog posts, autonomous agents are often discussed in relation to LLM (Large Language Model) agents, which are a type of autonomous agent that can process and generate human-like language. These agents can be used for a variety of applications, including language translation, text summarization, and conversation generation.\", additional_kwargs={}, response_metadata={'token_usage': {'completion_tokens': 278, 'prompt_tokens': 408, 'total_tokens': 686, 'completion_time': 1.010909091, 'prompt_time': 0.032654244, 'queue_time': 0.054402285999999994, 'total_time': 1.043563335}, 'model_name': 'llama-3.3-70b-versatile', 'system_fingerprint': 'fp_2ddfbb0da0', 'finish_reason': 'stop', 'logprobs': None}, id='run--652c6741-d61a-4290-8aa6-3a34f6bde3dd-0', usage_metadata={'input_tokens': 408, 'output_tokens': 278, 'total_tokens': 686})]}"
      ]
     },
     "execution_count": 126,
     "metadata": {},
     "output_type": "execute_result"
    }
   ],
   "source": [
    "app.invoke({\"messages\": [\"What is a Autonomous Agent?\"]})"
   ]
  },
  {
   "cell_type": "code",
   "execution_count": null,
   "id": "eed6f652",
   "metadata": {},
   "outputs": [],
   "source": []
  }
 ],
 "metadata": {
  "kernelspec": {
   "display_name": "langgraph",
   "language": "python",
   "name": "python3"
  },
  "language_info": {
   "codemirror_mode": {
    "name": "ipython",
    "version": 3
   },
   "file_extension": ".py",
   "mimetype": "text/x-python",
   "name": "python",
   "nbconvert_exporter": "python",
   "pygments_lexer": "ipython3",
   "version": "3.12.0"
  }
 },
 "nbformat": 4,
 "nbformat_minor": 5
}
