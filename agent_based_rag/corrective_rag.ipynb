{
 "cells": [
  {
   "cell_type": "code",
   "execution_count": 24,
   "id": "c2a28794",
   "metadata": {},
   "outputs": [],
   "source": [
    "import os\n",
    "from dotenv import load_dotenv\n",
    "from typing import TypedDict, List\n",
    "\n",
    "from langchain_community.document_loaders import WebBaseLoader\n",
    "from langchain_text_splitters import RecursiveCharacterTextSplitter\n",
    "from langchain_community.vectorstores import Chroma\n",
    "from langchain_groq.chat_models import ChatGroq\n",
    "from langchain_google_genai.embeddings import GoogleGenerativeAIEmbeddings\n",
    "from langchain_core.prompts import ChatPromptTemplate, PromptTemplate\n",
    "from langchain_core.output_parsers import StrOutputParser\n",
    "from pydantic import BaseModel, Field\n",
    "\n",
    "from langgraph.graph import StateGraph, MessagesState, START, END\n",
    "from langgraph.prebuilt import ToolNode, tools_condition"
   ]
  },
  {
   "cell_type": "code",
   "execution_count": 2,
   "id": "42394ae0",
   "metadata": {},
   "outputs": [
    {
     "data": {
      "text/plain": [
       "\"It's nice to meet you. Is there something I can help you with or would you like to chat?\""
      ]
     },
     "execution_count": 2,
     "metadata": {},
     "output_type": "execute_result"
    }
   ],
   "source": [
    "groq_api_key = os.getenv('GROQ_API_KEY')\n",
    "llm = ChatGroq(groq_api_key=groq_api_key, model=\"llama-3.3-70b-versatile\")\n",
    "\n",
    "llm.invoke(\"hi\").content"
   ]
  },
  {
   "cell_type": "code",
   "execution_count": 3,
   "id": "3c3b1cc6",
   "metadata": {},
   "outputs": [],
   "source": [
    "embeddings = GoogleGenerativeAIEmbeddings(model=\"models/embedding-001\")"
   ]
  },
  {
   "cell_type": "code",
   "execution_count": 4,
   "id": "2c66ab5e",
   "metadata": {},
   "outputs": [],
   "source": [
    "urls = [\n",
    "    \"https://lilianweng.github.io/posts/2023-06-23-agent/\",\n",
    "    \"https://lilianweng.github.io/posts/2023-03-15-prompt-engineering/\",\n",
    "    \"https://lilianweng.github.io/posts/2023-10-25-adv-attack-llm/\",\n",
    "]\n",
    "\n",
    "docs = [WebBaseLoader(url).load() for url in urls]\n",
    "\n",
    "docs_list = [item for sublist in docs for item in sublist]\n",
    "\n",
    "text_splitter = RecursiveCharacterTextSplitter(chunk_size=1000, chunk_overlap=100)\n",
    "doc_splitter = text_splitter.split_documents(docs_list)\n",
    "\n",
    "vectorstore = Chroma.from_documents(\n",
    "    documents=doc_splitter,\n",
    "    collection_name=\"rag\",\n",
    "    embedding=embeddings\n",
    ")\n",
    "\n",
    "retriever = vectorstore.as_retriever(search_kwargs={\"k\": 2})"
   ]
  },
  {
   "cell_type": "markdown",
   "id": "78274359",
   "metadata": {},
   "source": [
    "#### Let's create a RAG chain now"
   ]
  },
  {
   "cell_type": "code",
   "execution_count": 5,
   "id": "f0acbe49",
   "metadata": {},
   "outputs": [],
   "source": [
    "template = \"\"\" \n",
    "You are an assistant for question-answering task. Use the following pieces of retrieved context to answer the question.\n",
    "If you don't know the answer, just say that you don't know. Use three sentences maximun and keep the answer concise.\n",
    "\\nQuestion: {question} \\nContext: {context} \\nAnswer:\n",
    "\"\"\"\n",
    "\n",
    "prompt = PromptTemplate(\n",
    "    template=template,\n",
    "    input_variables=[\"context\", \"question\"]\n",
    ")\n",
    "\n",
    "def format_docs(docs):\n",
    "    return \"\\n\\n\".join(doc.page_content for doc in docs)\n",
    "\n",
    "rag_chain = prompt | llm | StrOutputParser()"
   ]
  },
  {
   "cell_type": "code",
   "execution_count": 6,
   "id": "d06c258f",
   "metadata": {},
   "outputs": [
    {
     "data": {
      "text/plain": [
       "'In the context of LLM-powered autonomous agents, memory refers to the processes used to acquire, store, retain, and retrieve information. There are two types of memory: short-term memory, which utilizes in-context learning and has a limited capacity, and long-term memory, which provides the capability to retain and recall information over extended periods using an external vector store and fast retrieval.'"
      ]
     },
     "execution_count": 6,
     "metadata": {},
     "output_type": "execute_result"
    }
   ],
   "source": [
    "question = \"tell me about agent memory\"\n",
    "rag_chain.invoke({\"context\": docs[0], \"question\": question})"
   ]
  },
  {
   "cell_type": "markdown",
   "id": "d2eeb1c4",
   "metadata": {},
   "source": [
    "#### Now lets create grade document class"
   ]
  },
  {
   "cell_type": "code",
   "execution_count": 7,
   "id": "bb6b343c",
   "metadata": {},
   "outputs": [],
   "source": [
    "class GradeDocuments(BaseModel):\n",
    "    \"\"\"Binary score for relevance check on retrieved documents.\"\"\"\n",
    "    \n",
    "    binary_score: str = Field(\n",
    "        description=\"Documents are relevant to the question 'yes' or 'no'\"\n",
    "    )"
   ]
  },
  {
   "cell_type": "code",
   "execution_count": 8,
   "id": "cdd85e45",
   "metadata": {},
   "outputs": [],
   "source": [
    "structured_llm_grader = llm.with_structured_output(GradeDocuments)\n",
    "\n",
    "system_msg = \"\"\" You are a grader accessing relevance of a retrieved document to a user question. \\n\n",
    "If the document contains keyword(s) or semantic meaning related to question, grade it as relevant. \\n\n",
    "Give binary score 'yes' or 'no' score to indicate whether the document is relevant to the question.\"\"\"\n",
    "\n",
    "grade_prompt = ChatPromptTemplate.from_messages(\n",
    "    [\n",
    "        (\"system\", system_msg),\n",
    "        (\"user\", \"Retrieved document: \\n\\n{document} \\n\\n User question: {question}\")\n",
    "    ]\n",
    ")\n",
    "\n",
    "retrieval_grader = grade_prompt | structured_llm_grader"
   ]
  },
  {
   "cell_type": "code",
   "execution_count": 9,
   "id": "fd85a5c3",
   "metadata": {},
   "outputs": [
    {
     "name": "stderr",
     "output_type": "stream",
     "text": [
      "C:\\Users\\sowmy\\AppData\\Local\\Temp\\ipykernel_30076\\3694875819.py:2: LangChainDeprecationWarning: The method `BaseRetriever.get_relevant_documents` was deprecated in langchain-core 0.1.46 and will be removed in 1.0. Use :meth:`~invoke` instead.\n",
      "  docs = retriever.get_relevant_documents(question)\n"
     ]
    },
    {
     "name": "stdout",
     "output_type": "stream",
     "text": [
      "binary_score='yes'\n"
     ]
    }
   ],
   "source": [
    "question = \"tell me about agent memory\"\n",
    "docs = retriever.get_relevant_documents(question)\n",
    "\n",
    "doc_txt = docs[1].page_content\n",
    "print(retrieval_grader.invoke({\"question\": question, \"document\": doc_txt}))"
   ]
  },
  {
   "cell_type": "code",
   "execution_count": 10,
   "id": "f4e83109",
   "metadata": {},
   "outputs": [
    {
     "name": "stdout",
     "output_type": "stream",
     "text": [
      "binary_score='no'\n"
     ]
    }
   ],
   "source": [
    "question = \"Who built taj Mahal\"\n",
    "docs = retriever.get_relevant_documents(question)\n",
    "\n",
    "doc_txt = docs[1].page_content\n",
    "print(retrieval_grader.invoke({\"question\": question, \"document\": doc_txt}))"
   ]
  },
  {
   "cell_type": "markdown",
   "id": "0f9df404",
   "metadata": {},
   "source": [
    "#### Let's create Question Re-Writer"
   ]
  },
  {
   "cell_type": "code",
   "execution_count": 11,
   "id": "723be6c4",
   "metadata": {},
   "outputs": [],
   "source": [
    "system_msg = \"\"\"You are a question re-writer that converts an input question to better version that is optimized \\n\n",
    "for web search. Look at the input and try to reason about the underlying semantic intent / meaning.\"\"\"\n",
    "\n",
    "re_write_prompt = ChatPromptTemplate.from_messages(\n",
    "    [\n",
    "        (\"system\", system_msg),\n",
    "        (\"user\", \n",
    "         \"Here is the initial question: \\n\\n {question} \\n Formulate an improved quesiton.\")\n",
    "    ]\n",
    ")\n",
    "\n",
    "question_rewriter = re_write_prompt | llm | StrOutputParser()"
   ]
  },
  {
   "cell_type": "code",
   "execution_count": 12,
   "id": "b5c0a70f",
   "metadata": {},
   "outputs": [
    {
     "data": {
      "text/plain": [
       "'Here\\'s a reformulated version of the question that\\'s more optimized for web search:\\n\\n\"Who was the architect and builder of the Taj Mahal in India?\"\\n\\nAlternatively, you could also try:\\n\\n* \"Taj Mahal construction: Who was the main architect and builder?\"\\n* \"History of the Taj Mahal: Who designed and built the monument?\"\\n* \"Taj Mahal builders: Who was responsible for constructing the Taj Mahal in Agra, India?\"\\n\\nThese revised questions are more specific and include relevant keywords like \"architect\", \"builder\", \"India\", and \"Agra\", which can help search engines provide more accurate and relevant results.'"
      ]
     },
     "execution_count": 12,
     "metadata": {},
     "output_type": "execute_result"
    }
   ],
   "source": [
    "question_rewriter.invoke({\"question\": question})"
   ]
  },
  {
   "cell_type": "markdown",
   "id": "f01d857c",
   "metadata": {},
   "source": [
    "#### Let's create required function"
   ]
  },
  {
   "cell_type": "code",
   "execution_count": 13,
   "id": "4defddb3",
   "metadata": {},
   "outputs": [],
   "source": [
    "def retrieve(state):\n",
    "    \"\"\" \n",
    "    Retrieve documents \n",
    "    \n",
    "    Args: \n",
    "        state (dict): The current graph state \n",
    "        \n",
    "    Returns:\n",
    "    \"\"\"\n",
    "    print(\"---RETRIEVE---\")\n",
    "    \n",
    "    question = state['question']\n",
    "    documents = retriever.get_relevant_documents(question)\n",
    "    \n",
    "    return {\"documents\": documents, \"question\": question}"
   ]
  },
  {
   "cell_type": "code",
   "execution_count": 14,
   "id": "c7307905",
   "metadata": {},
   "outputs": [],
   "source": [
    "def grade_document(state):\n",
    "    \"\"\" \n",
    "    Determines whether the retrieved documents are relevant to the question.\n",
    "    \n",
    "    Args:\n",
    "        state (dict): The current graph state \n",
    "        \n",
    "    Returns:\n",
    "        state (dict): Updates documents key with only filtered relevant documents\n",
    "    \"\"\"\n",
    "    print(\"---CHECKING DOCUMENT RELEVANT IS TO QUESTION OR NOT\")\n",
    "    \n",
    "    question = state['question']\n",
    "    documents = state['documents']\n",
    "    \n",
    "    filtered_docs = [] \n",
    "    web_search = \"No\"\n",
    "    \n",
    "    for d in documents:\n",
    "        score = retrieval_grader.invoke(\n",
    "            {\"question\": question, \"document\": d.page_content}\n",
    "        )\n",
    "        grade = score.binary_score \n",
    "        if grade == \"yes\":\n",
    "            print(\"---GRADE: DOCUMENT RELEVANT---\")\n",
    "            filtered_docs.append(d)\n",
    "        else:\n",
    "            print(\"---GRADE: DOCUMENTS NOT RELEVANT\")\n",
    "            web_search = \"Yes\"\n",
    "            continue \n",
    "    return {\"documents\": filtered_docs, \"question\": question, \"web_search\": web_search}"
   ]
  },
  {
   "cell_type": "code",
   "execution_count": 15,
   "id": "39df75e8",
   "metadata": {},
   "outputs": [],
   "source": [
    "def generate(state):\n",
    "    \"\"\" \n",
    "    Generate answer\n",
    "    \n",
    "    Args: \n",
    "        state (dict): The current graph state \n",
    "        \n",
    "    Returns:\n",
    "        state (dict): new key added to state, generation, that contains LLM generation\n",
    "    \"\"\"\n",
    "    print(\"---GENERATE---\")\n",
    "    \n",
    "    question = state['question']\n",
    "    documents = state['documents']\n",
    "    \n",
    "    generation = rag_chain.invoke({\"context\": documents, \"question\": question})\n",
    "    \n",
    "    return {\"documents\": documents, \"question\": question, \"generation\": generation}"
   ]
  },
  {
   "cell_type": "code",
   "execution_count": 16,
   "id": "dd6e1733",
   "metadata": {},
   "outputs": [],
   "source": [
    "def transform_query(state):\n",
    "    \"\"\" \n",
    "    Transform the query to produce a better question.\n",
    "    \n",
    "    Args:\n",
    "        state (dict): The current graph state \n",
    "        \n",
    "    Returns:\n",
    "        state (dict): Updates question key with a re-phrased question\n",
    "    \"\"\"\n",
    "    print(\"---TRANSFORM QUERY---\")\n",
    "    \n",
    "    question = state['question']\n",
    "    documents = state['documents']\n",
    "    \n",
    "    better_question = question_rewriter.invoke({\"question\": question})\n",
    "    \n",
    "    return {\"documents\": documents, \"question\": better_question}"
   ]
  },
  {
   "cell_type": "markdown",
   "id": "4cbf08be",
   "metadata": {},
   "source": [
    "#### Web crawling we gonna perform using Tavily"
   ]
  },
  {
   "cell_type": "code",
   "execution_count": 17,
   "id": "6e396b96",
   "metadata": {},
   "outputs": [],
   "source": [
    "from langchain_community.tools.tavily_search import TavilySearchResults\n",
    "\n",
    "web_search_tool = TavilySearchResults()"
   ]
  },
  {
   "cell_type": "code",
   "execution_count": 18,
   "id": "02093a4c",
   "metadata": {},
   "outputs": [],
   "source": [
    "from langchain.schema import Document\n",
    "\n",
    "def web_search(state):\n",
    "    \"\"\" \n",
    "    Web search based on the re-phrased question.\n",
    "    \n",
    "    Args:\n",
    "        state (dict): The current graph state \n",
    "        \n",
    "    Returns:\n",
    "        state (dict): Updates documents key with appended web results\n",
    "    \"\"\"\n",
    "    print(\"---WEB SEARCH---\")\n",
    "    \n",
    "    question = state['question']\n",
    "    documents = state['documents']\n",
    "    \n",
    "    docs = web_search_tool.invoke({\"query\": question})\n",
    "    \n",
    "    web_results = \"\\n\".join([d['content'] for d in docs])\n",
    "    \n",
    "    web_results = Document(page_content=web_results)\n",
    "    documents.append(web_results)\n",
    "    \n",
    "    return {\"documents\": documents, \"question\": question}"
   ]
  },
  {
   "cell_type": "code",
   "execution_count": 19,
   "id": "804ebe07",
   "metadata": {},
   "outputs": [],
   "source": [
    "def decide_to_generate(state):\n",
    "    \"\"\" \n",
    "    Determine whether to generate an answer, or re-generate a question.\n",
    "    \n",
    "    Args:\n",
    "        state (dict): The current graph state \n",
    "        \n",
    "    Returns:\n",
    "        str: Binary dicision for next node to call\n",
    "    \"\"\"\n",
    "    print(\"---ACCESS GRADED DOCUMENTS---\")\n",
    "    \n",
    "    web_search = state['web_search']\n",
    "    \n",
    "    if web_search == \"Yes\":\n",
    "        print(\"---DECISION: ALL DOCUMENTS ARE NOT RELEVANT TO QUESTION, TRANSFORM QUERY---\")\n",
    "        \n",
    "        return \"transform_query\"\n",
    "    \n",
    "    else:\n",
    "        print(\"---DECISION: GENERATE---\")\n",
    "        return \"generate\""
   ]
  },
  {
   "cell_type": "code",
   "execution_count": 22,
   "id": "3b85db89",
   "metadata": {},
   "outputs": [],
   "source": [
    "class State(TypedDict):\n",
    "    \"\"\" \n",
    "    Represents the state of our graph.\n",
    "    \n",
    "    Attributes:\n",
    "        question: question\n",
    "        genration: LLM generation\n",
    "        web_search: whether to add search \n",
    "        documents: list of documents\n",
    "    \"\"\"\n",
    "    \n",
    "    question: str \n",
    "    generation: str\n",
    "    web_search: str \n",
    "    documents: List[str]\n",
    "    \n",
    "    \n",
    "workflow = StateGraph(State)"
   ]
  },
  {
   "cell_type": "code",
   "execution_count": 23,
   "id": "ff7fd71a",
   "metadata": {},
   "outputs": [
    {
     "data": {
      "text/plain": [
       "<langgraph.graph.state.StateGraph at 0x18b804ea900>"
      ]
     },
     "execution_count": 23,
     "metadata": {},
     "output_type": "execute_result"
    }
   ],
   "source": [
    "workflow.add_node(\"retrieve\", retrieve)\n",
    "workflow.add_node(\"grade_documents\", grade_document)\n",
    "workflow.add_node(\"generate\", generate)\n",
    "workflow.add_node(\"transform_query\", transform_query)\n",
    "workflow.add_node(\"web_search_node\", web_search)"
   ]
  },
  {
   "cell_type": "code",
   "execution_count": 25,
   "id": "1d465c60",
   "metadata": {},
   "outputs": [
    {
     "data": {
      "text/plain": [
       "<langgraph.graph.state.StateGraph at 0x18b804ea900>"
      ]
     },
     "execution_count": 25,
     "metadata": {},
     "output_type": "execute_result"
    }
   ],
   "source": [
    "workflow.add_edge(START, \"retrieve\")\n",
    "workflow.add_edge(\"retrieve\", \"grade_documents\")\n",
    "\n",
    "workflow.add_conditional_edges(\n",
    "    \"grade_documents\",\n",
    "    decide_to_generate,\n",
    "    {\n",
    "        \"transform_query\": \"transform_query\",\n",
    "        \"generate\": \"generate\"\n",
    "    }\n",
    ")\n",
    "\n",
    "workflow.add_edge(\"transform_query\", \"web_search_node\")\n",
    "workflow.add_edge(\"web_search_node\", \"generate\")\n",
    "\n",
    "workflow.add_edge(\"generate\", END)"
   ]
  },
  {
   "cell_type": "code",
   "execution_count": 26,
   "id": "7790bf02",
   "metadata": {},
   "outputs": [],
   "source": [
    "app = workflow.compile()"
   ]
  },
  {
   "cell_type": "code",
   "execution_count": 27,
   "id": "510ec4aa",
   "metadata": {},
   "outputs": [
    {
     "data": {
      "image/png": "[encoded data removed]",
      "text/plain": [
       "<IPython.core.display.Image object>"
      ]
     },
     "metadata": {},
     "output_type": "display_data"
    }
   ],
   "source": [
    "from IPython.display import display, Image\n",
    "\n",
    "display(Image(app.get_graph().draw_mermaid_png()))"
   ]
  },
  {
   "cell_type": "code",
   "execution_count": 28,
   "id": "5b115789",
   "metadata": {},
   "outputs": [],
   "source": [
    "from pprint import pprint\n",
    "\n",
    "inputs = {\"question\": \"tell me about the agent memory.\"}"
   ]
  },
  {
   "cell_type": "code",
   "execution_count": 29,
   "id": "1859d265",
   "metadata": {},
   "outputs": [
    {
     "name": "stdout",
     "output_type": "stream",
     "text": [
      "---RETRIEVE---\n",
      "'Node retrieve :'\n",
      "'\\n---\\n'\n",
      "---CHECKING DOCUMENT RELEVANT IS TO QUESTION OR NOT\n",
      "---GRADE: DOCUMENT RELEVANT---\n",
      "---GRADE: DOCUMENT RELEVANT---\n",
      "---ACCESS GRADED DOCUMENTS---\n",
      "---DECISION: GENERATE---\n",
      "'Node grade_documents :'\n",
      "'\\n---\\n'\n",
      "---GENERATE---\n",
      "'Node generate :'\n",
      "'\\n---\\n'\n",
      "('The agent memory consists of two types: short-term memory and long-term '\n",
      " 'memory. Short-term memory utilizes in-context learning, while long-term '\n",
      " 'memory retains and recalls information over extended periods using an '\n",
      " 'external vector store. This allows the agent to learn and recall '\n",
      " 'information, with long-term memory providing the capability to retain '\n",
      " 'infinite information.')\n"
     ]
    }
   ],
   "source": [
    "for output in app.stream(inputs):\n",
    "    for key, value in output.items():\n",
    "        pprint(f\"Node {key} :\")\n",
    "        \n",
    "    pprint(\"\\n---\\n\")\n",
    "    \n",
    "pprint(value[\"generation\"])"
   ]
  }
 ],
 "metadata": {
  "kernelspec": {
   "display_name": "langgraph",
   "language": "python",
   "name": "python3"
  },
  "language_info": {
   "codemirror_mode": {
    "name": "ipython",
    "version": 3
   },
   "file_extension": ".py",
   "mimetype": "text/x-python",
   "name": "python",
   "nbconvert_exporter": "python",
   "pygments_lexer": "ipython3",
   "version": "3.12.0"
  }
 },
 "nbformat": 4,
 "nbformat_minor": 5
}
