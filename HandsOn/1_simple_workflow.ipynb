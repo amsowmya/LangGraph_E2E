{
 "cells": [
  {
   "cell_type": "code",
   "execution_count": 1,
   "id": "11da3722",
   "metadata": {},
   "outputs": [],
   "source": [
    "import os\n",
    "from dotenv import load_dotenv\n",
    "from typing import TypedDict, Sequence, List, Literal, Annotated, cast\n",
    "from pydantic import BaseModel, Field\n",
    "\n",
    "from langchain_community.document_loaders import PyPDFLoader\n",
    "from langchain_text_splitters import RecursiveCharacterTextSplitter\n",
    "from langchain_community.vectorstores import Chroma\n",
    "from langchain_core.prompts import ChatPromptTemplate, PromptTemplate\n",
    "from langchain_core.output_parsers import PydanticOutputParser, StrOutputParser\n",
    "from langchain_groq.chat_models import ChatGroq\n",
    "from langchain_google_genai.embeddings import GoogleGenerativeAIEmbeddings\n",
    "from langchain_core.tools.retriever import create_retriever_tool\n",
    "from langchain_community.tools.tavily_search import TavilySearchResults\n",
    "\n",
    "from  langgraph.graph import StateGraph, START, END\n",
    "from langgraph.graph.message import add_messages, MessagesState, BaseMessage\n",
    "from langgraph.prebuilt import tools_condition, ToolNode"
   ]
  },
  {
   "cell_type": "code",
   "execution_count": 2,
   "id": "dffc0baf",
   "metadata": {},
   "outputs": [
    {
     "data": {
      "text/plain": [
       "'Hi there! 👋 What can I do for you today?\\n'"
      ]
     },
     "execution_count": 2,
     "metadata": {},
     "output_type": "execute_result"
    }
   ],
   "source": [
    "groq_api_key = os.environ['GROQ_API_KEY'] = os.getenv('GROQ_API_KEY')\n",
    "\n",
    "llm = ChatGroq(groq_api_key=groq_api_key, model=\"gemma2-9b-it\")\n",
    "llm.invoke(\"hi\").content"
   ]
  },
  {
   "cell_type": "code",
   "execution_count": 3,
   "id": "d1dbc950",
   "metadata": {},
   "outputs": [],
   "source": [
    "os.environ['GOOGLE_API_KEY'] = os.getenv('GOOGLE_API_KEY')\n",
    "\n",
    "embeddings = GoogleGenerativeAIEmbeddings(model=\"models/embedding-001\")"
   ]
  },
  {
   "cell_type": "code",
   "execution_count": 4,
   "id": "77ed5f48",
   "metadata": {},
   "outputs": [],
   "source": [
    "file_path = r\"E:\\2025\\Generative_AI\\LangGraph\\LangGraph_E2E\\data\\Gujrat_accident.pdf\"\n",
    "\n",
    "docs = PyPDFLoader(file_path).load()\n",
    "text_splitter = RecursiveCharacterTextSplitter(chunk_size=500, chunk_overlap=50)\n",
    "documents = text_splitter.split_documents(docs)\n",
    "\n",
    "vectordb = Chroma.from_documents(documents=documents,\n",
    "                                 collection_name=\"rag\",\n",
    "                                 embedding=embeddings)\n",
    "\n",
    "retriever = vectordb.as_retriever()"
   ]
  },
  {
   "cell_type": "code",
   "execution_count": 5,
   "id": "dfd9cee6",
   "metadata": {},
   "outputs": [
    {
     "name": "stderr",
     "output_type": "stream",
     "text": [
      "C:\\Users\\sowmy\\AppData\\Local\\Temp\\ipykernel_29460\\3813989304.py:1: LangChainDeprecationWarning: The method `BaseRetriever.get_relevant_documents` was deprecated in langchain-core 0.1.46 and will be removed in 1.0. Use :meth:`~invoke` instead.\n",
      "  retriever.get_relevant_documents(\"main cause of air crash?\")\n"
     ]
    },
    {
     "data": {
      "text/plain": [
       "[Document(metadata={'source': 'E:\\\\2025\\\\Generative_AI\\\\LangGraph\\\\LangGraph_E2E\\\\data\\\\Gujrat_accident.pdf', 'page_label': '2', 'producer': 'xdvipdfmx (20220710)', 'creator': 'LaTeX with hyperref', 'creationdate': '2025-06-17T17:22:18+00:00', 'total_pages': 3, 'page': 1}, page_content='cient thrust. Unverified claims on X mention fuel contamination, but no\\nevidence supports this. Weather was clear (visibility 6 km, light winds 3–6\\nknots), ruling out meteorological factors.\\n• Investigating Bodies: Aircraft Accident Investigation Bureau (AAIB) India,\\nDGCA, US NTSB, FAA, UK AAIB, and a high-level committee led by Union\\nHome Secretary Govind Mohan. Final report expected by June 2026.\\nFigure 3: Recovered black box of Flight AI171, critical for determining the cause\\nof the crash.'),\n",
       " Document(metadata={'creationdate': '2025-06-17T17:22:18+00:00', 'producer': 'xdvipdfmx (20220710)', 'total_pages': 3, 'page': 2, 'creator': 'LaTeX with hyperref', 'page_label': '3', 'source': 'E:\\\\2025\\\\Generative_AI\\\\LangGraph\\\\LangGraph_E2E\\\\data\\\\Gujrat_accident.pdf'}, page_content='crash site in Ahmedabad, June 12, 2025.\\n7 Conclusion\\nThe Air India Flight AI171 crash is India’s deadliest aviation disaster since 1996\\nand the first fatal incident involving a Boeing 787 Dreamliner. The ongoing in-\\nvestigation, supported by the black box, aims to uncover the cause, with engine\\nfailure as a leading hypothesis. The tragedy has prompted global condolences\\nfrom leaders like PM Narendra Modi, UK PM Keir Starmer, and US President\\nDonald Trump.\\nReferences'),\n",
       " Document(metadata={'creationdate': '2025-06-17T17:22:18+00:00', 'creator': 'LaTeX with hyperref', 'producer': 'xdvipdfmx (20220710)', 'total_pages': 3, 'page_label': '2', 'source': 'E:\\\\2025\\\\Generative_AI\\\\LangGraph\\\\LangGraph_E2E\\\\data\\\\Gujrat_accident.pdf', 'page': 1}, page_content='bodies released to families by June 15, 2025.\\nFigure 2: Forensic teams conducting DNA testing at Ahmedabad Civil Hospital\\nto identify victims of the AI171 crash.\\n4 Investigation\\n• Black Box: Flight data recorder and cockpit voice recorder recovered from\\na rooftop at the crash site. The pilot’s last message was, “Mayday, Mayday,\\nthrust not achieved, falling.”\\n• Suspected Causes: Initial reports suggest dual engine failure or insuffi-'),\n",
       " Document(metadata={'source': 'E:\\\\2025\\\\Generative_AI\\\\LangGraph\\\\LangGraph_E2E\\\\data\\\\Gujrat_accident.pdf', 'producer': 'xdvipdfmx (20220710)', 'total_pages': 3, 'page_label': '3', 'creationdate': '2025-06-17T17:22:18+00:00', 'creator': 'LaTeX with hyperref', 'page': 2}, page_content='Donald Trump.\\nReferences\\n[1] Wikipedia, “Air India Flight 171,” June 17, 2025.https://en.wikipedia.\\norg/wiki/Air_India_Flight_171\\n[2] The Times of India, “Ahmedabad Air India Plane Crash Live,” June 16, 2025.\\nhttps://timesofindia.indiatimes.com\\n[3] ABC News, “Air India jet crash kills 246 people,” June 13, 2025.https://\\nabcnews.go.com\\n[4] India Today, X Post, June 15, 2025.https://t.co/u2fm3g0AXG\\n3')]"
      ]
     },
     "execution_count": 5,
     "metadata": {},
     "output_type": "execute_result"
    }
   ],
   "source": [
    "retriever.get_relevant_documents(\"main cause of air crash?\")"
   ]
  },
  {
   "cell_type": "code",
   "execution_count": 6,
   "id": "86a7aa49",
   "metadata": {},
   "outputs": [],
   "source": [
    "class Analyser(BaseModel):\n",
    "    Topic: str = Field(description=\"Select the related topic based on question. 'Retriever call', 'LLM call', 'Internet call'\")\n",
    "    Reason: str = Field(description=\"Reason for topic selection\")"
   ]
  },
  {
   "cell_type": "code",
   "execution_count": 7,
   "id": "b150e318",
   "metadata": {},
   "outputs": [],
   "source": [
    "def supervisor(state: MessagesState):\n",
    "    print(\"-- SUPERVISOR ---\")\n",
    "    question = state['messages']\n",
    "    \n",
    "    llm_with_structured = llm.with_structured_output(Analyser)\n",
    "    \n",
    "    template = \"\"\"You are an analyser to identify the below specific topic based on the user question {question}.\n",
    "    The topics are:\n",
    "    1. Retriever call: If the question is related to Ahamadabad air crash\n",
    "    2. LLM call: If the question is related to old news\n",
    "    3. Internet call: If the question is related to current news\n",
    "    Note: Provide only these topics 'Retriever call', 'LLM call', 'Internet call'\n",
    "    \"\"\"  \n",
    "    \n",
    "    prompt = PromptTemplate(\n",
    "        template=template,\n",
    "        input_variables=[\"question\"]\n",
    "    )\n",
    "    \n",
    "    chain = cast(Analyser, prompt | llm_with_structured)\n",
    "    response = chain.invoke(question)\n",
    "    print(response)\n",
    "    \n",
    "    return {\"messages\": [response.Topic]}\n",
    "    "
   ]
  },
  {
   "cell_type": "code",
   "execution_count": 8,
   "id": "6e11a88a",
   "metadata": {},
   "outputs": [
    {
     "name": "stdout",
     "output_type": "stream",
     "text": [
      "-- SUPERVISOR ---\n",
      "Topic='LLM call' Reason='Cause of air crash'\n"
     ]
    },
    {
     "data": {
      "text/plain": [
       "{'messages': ['LLM call']}"
      ]
     },
     "execution_count": 8,
     "metadata": {},
     "output_type": "execute_result"
    }
   ],
   "source": [
    "response = supervisor({\"messages\": [\"cause for the air crash\"]})\n",
    "response"
   ]
  },
  {
   "cell_type": "code",
   "execution_count": 9,
   "id": "f0898fd2",
   "metadata": {},
   "outputs": [],
   "source": [
    "def router(state: MessagesState):\n",
    "    print(\"--- ROUTER ---\")\n",
    "    last_message = state['messages'][-1].content\n",
    "    \n",
    "    if \"Retriever call\" in last_message:\n",
    "        return \"RAG\"\n",
    "    elif \"LLM call\" in last_message:\n",
    "        return \"LLM\"\n",
    "    elif \"Internet call\" in last_message:\n",
    "        return \"Internet\"\n",
    "    else:\n",
    "        return \"None\""
   ]
  },
  {
   "cell_type": "code",
   "execution_count": 10,
   "id": "25b62c73",
   "metadata": {},
   "outputs": [],
   "source": [
    "class AnswerParser(BaseModel):\n",
    "    answer: str = Field(description=\"Answer to the given question\")"
   ]
  },
  {
   "cell_type": "code",
   "execution_count": 11,
   "id": "6dfdd25c",
   "metadata": {},
   "outputs": [],
   "source": [
    "# def tool_call(state: MessagesState):\n",
    "#     print(\"--- TOOL CALL ---\")\n",
    "#     question = state['messages'][0].content\n",
    "#     print(question)\n",
    "    \n",
    "#     tavily_tool = TavilySearchResults()\n",
    "    \n",
    "#     result = tavily_tool.invoke(question)\n",
    "    \n",
    "#     parser = PydanticOutputParser(pydantic_object=AnswerParser)\n",
    "#     llm_with_strcture_ans_op = llm.with_structured_output(AnswerParser)\n",
    "    \n",
    "#     prompt = PromptTemplate(\n",
    "#         template=\"You are an ai assistant provide the consise answer based on the provided context {context}\\nQuestion{question}\\n{format_instructions}\",\n",
    "#         input_variables=[\"context\", \"question\"],\n",
    "#         partial_variables={\"format_instructions\": parser.get_format_instructions()}\n",
    "#     )\n",
    "    \n",
    "#     chain = prompt | llm | parser\n",
    "    \n",
    "#     response = chain.invoke({\"context\": result, \"question\": question})\n",
    "#     print(response.answer)\n",
    "    \n",
    "#     return {\"messages\": [response.answer]}"
   ]
  },
  {
   "cell_type": "code",
   "execution_count": 12,
   "id": "e36a13e0",
   "metadata": {},
   "outputs": [],
   "source": [
    "def tool_call(state: MessagesState):\n",
    "    print(\"--- TOOL CALL ---\")\n",
    "    question = state['messages'][0].content\n",
    "    print(question)\n",
    "    \n",
    "    tavily_tool = TavilySearchResults()\n",
    "    \n",
    "    result = tavily_tool.invoke(question)\n",
    "    \n",
    "    prompt = PromptTemplate(\n",
    "        template=\"You are an ai assistant provide the consise answer based on the provided context {context}\\nQuestion{question}\",\n",
    "        input_variables=[\"context\", \"question\"]\n",
    "    )\n",
    "    \n",
    "    chain = prompt | llm | StrOutputParser()\n",
    "    \n",
    "    response = chain.invoke({\"context\": result, \"question\": question})\n",
    "    \n",
    "    return {\"messages\": [response]}"
   ]
  },
  {
   "cell_type": "code",
   "execution_count": 13,
   "id": "3962c91c",
   "metadata": {},
   "outputs": [],
   "source": [
    "# tool_call({\"messages\": [\"cause for the air crash\"]})"
   ]
  },
  {
   "cell_type": "code",
   "execution_count": 14,
   "id": "9d5901ba",
   "metadata": {},
   "outputs": [],
   "source": [
    "def validator(state: MessagesState):\n",
    "    print(\"---VALIDATOR---\")\n",
    "    question = state['messages'][0].content\n",
    "    last_message = state['messages'][-1].content\n",
    "    \n",
    "    parser = PydanticOutputParser(pydantic_object=AnswerParser)\n",
    "    \n",
    "    prompt = PromptTemplate(\n",
    "        template=\"\"\"\n",
    "    You are an intelligent assistant. You MUST reply ONLY in the following JSON format and nothing else.\n",
    "\n",
    "    {format_instructions}\n",
    "\n",
    "    Answer this question based on the context:\n",
    "    Context: {context}\n",
    "    Question: {question}\n",
    "    \"\"\",\n",
    "        input_variables=[\"context\", \"question\"],\n",
    "        partial_variables={\"format_instructions\": parser.get_format_instructions()}\n",
    "    )\n",
    "\n",
    "    chain = prompt | llm | parser\n",
    "    \n",
    "    response = chain.invoke({\"context\": last_message, \"question\": question})\n",
    "    \n",
    "    \n",
    "    print(\"-----------\")\n",
    "    print(response)\n",
    "    \n",
    "    # return {\"messages\": [{\"role\": \"assistant\", \"content\": response.dict()}]}\n",
    "\n",
    "    return {\n",
    "        \"messages\": [\n",
    "            {\n",
    "                \"role\": \"assistant\",\n",
    "                \"content\": response.answer\n",
    "            }\n",
    "        ]\n",
    "    }"
   ]
  },
  {
   "cell_type": "code",
   "execution_count": 15,
   "id": "6bf3b91f",
   "metadata": {},
   "outputs": [],
   "source": [
    "# validator({\"messages\": [\"cause for air crash\"]})"
   ]
  },
  {
   "cell_type": "code",
   "execution_count": null,
   "id": "facb0046",
   "metadata": {},
   "outputs": [],
   "source": []
  },
  {
   "cell_type": "code",
   "execution_count": 16,
   "id": "da29c55a",
   "metadata": {},
   "outputs": [],
   "source": [
    "workflow = StateGraph(MessagesState)\n",
    "\n",
    "workflow.add_node(\"Supervisor\", supervisor)\n",
    "workflow.add_node(\"Tool_CALL\", tool_call)\n",
    "workflow.add_node(\"Validator\", validator)\n",
    "\n",
    "workflow.set_entry_point(\"Supervisor\")\n",
    "workflow.add_conditional_edges(\n",
    "    \"Supervisor\",\n",
    "    router,\n",
    "    {\n",
    "        \"RAG\": \"Tool_CALL\",\n",
    "        \"LLM\": \"Tool_CALL\",\n",
    "        \"Internet\": \"Tool_CALL\"\n",
    "    }\n",
    ")\n",
    "\n",
    "workflow.add_edge(\"Tool_CALL\", \"Validator\")\n",
    "workflow.add_edge(\"Validator\", END)\n",
    "\n",
    "# workflow.add_edge(\"Tool_CALL\", END)\n",
    "\n",
    "\n",
    "\n",
    "app = workflow.compile()"
   ]
  },
  {
   "cell_type": "code",
   "execution_count": 17,
   "id": "cb10e6f4",
   "metadata": {},
   "outputs": [
    {
     "data": {
      "image/png": "[encoded data removed]",
      "text/plain": [
       "<IPython.core.display.Image object>"
      ]
     },
     "metadata": {},
     "output_type": "display_data"
    }
   ],
   "source": [
    "from IPython.display import display, Image\n",
    "display(Image(app.get_graph().draw_mermaid_png()))"
   ]
  },
  {
   "cell_type": "code",
   "execution_count": 18,
   "id": "887b2a4a",
   "metadata": {},
   "outputs": [
    {
     "name": "stdout",
     "output_type": "stream",
     "text": [
      "-- SUPERVISOR ---\n",
      "Topic='Retriever call' Reason='Identifying the topic based on user question'\n",
      "--- ROUTER ---\n",
      "--- TOOL CALL ---\n",
      "cause for the air crash\n",
      "---VALIDATOR---\n",
      "-----------\n",
      "answer='Possible causes for air crashes include pilot error, engine failure, system errors, weather, and other human error.'\n"
     ]
    },
    {
     "data": {
      "text/plain": [
       "{'messages': [HumanMessage(content='cause for the air crash', additional_kwargs={}, response_metadata={}, id='24ba4c69-b198-4f83-a761-aa307428037e'),\n",
       "  HumanMessage(content='Retriever call', additional_kwargs={}, response_metadata={}, id='ccd0ee9b-cf58-4346-b488-13f7cc5c1f28'),\n",
       "  HumanMessage(content=\"Based on the provided context, possible causes for air crashes include:\\n\\n* **Pilot error:** This can encompass various factors like inadequate preflight preparation, failure to maintain proper speed or altitude, misjudgment of fuel, and improper handling of controls.\\n* **Engine failure:** Mechanical issues with the engine can lead to loss of power and control, causing a rapid descent.\\n* **System errors:** Malfunctions in the aircraft's control systems can prevent pilots from effectively controlling the plane.\\n* **Weather:** Adverse weather conditions can significantly impact flight safety and contribute to accidents.\\n* **Other human error:** This can include air traffic controller mistakes, improper loading of the aircraft, fuel contamination, and inadequate maintenance procedures.\\n\\n\\nIt's important to note that air crash investigations are complex and multifaceted. Determining the definitive cause often requires a thorough analysis of all contributing factors. \\n\", additional_kwargs={}, response_metadata={}, id='8012dca7-b070-421c-8bd6-c8542690af37'),\n",
       "  AIMessage(content='Possible causes for air crashes include pilot error, engine failure, system errors, weather, and other human error.', additional_kwargs={}, response_metadata={}, id='70a994a3-71cf-4af8-8e6c-c9db77c17956')]}"
      ]
     },
     "execution_count": 18,
     "metadata": {},
     "output_type": "execute_result"
    }
   ],
   "source": [
    "app.invoke({\"messages\": [\"cause for the air crash\"]})"
   ]
  },
  {
   "cell_type": "code",
   "execution_count": 19,
   "id": "e9d68063",
   "metadata": {},
   "outputs": [
    {
     "name": "stdout",
     "output_type": "stream",
     "text": [
      "-- SUPERVISOR ---\n",
      "Topic='Retriever call' Reason='Identifying the cause of an air crash'\n",
      "--- ROUTER ---\n",
      "Node name: {key}\n",
      "{'messages': ['Retriever call']}\n",
      "----\n",
      "--- TOOL CALL ---\n",
      "cause for the air crash\n",
      "Node name: {key}\n",
      "{'messages': ['The provided context lists several common causes of air crashes:\\n\\n* **Pilot error:** This can include inadequate preparation, failure to maintain speed or direction, improper level off, and mismanaging fuel. \\n* **Engine failure:** This can lead to a loss of control and altitude.\\n* **System errors:** Malfunctions in aircraft controls can prevent pilots from controlling the aircraft properly.\\n* **Weather:**  Not mentioned in the context, but weather is a significant factor in many air crashes.\\n* **Other human error:** This includes air traffic controller errors, improper loading of aircraft, and maintenance issues. \\n\\n\\nThe specific cause of the air crash in the BBC article is still under investigation. \\n\\n\\nLet me know if you have a specific crash in mind and I can try to find more information about it. \\n\\n']}\n",
      "----\n",
      "---VALIDATOR---\n",
      "-----------\n",
      "answer='The specific cause of the air crash in the BBC article is still under investigation.'\n",
      "Node name: {key}\n",
      "{'messages': [{'role': 'assistant', 'content': 'The specific cause of the air crash in the BBC article is still under investigation.'}]}\n",
      "----\n"
     ]
    }
   ],
   "source": [
    "for events in app.stream({\"messages\": [\"cause for the air crash\"]}):\n",
    "    for key, value in events.items():\n",
    "        print(\"Node name: {key}\")\n",
    "        print(value)\n",
    "        print(\"----\")"
   ]
  },
  {
   "cell_type": "code",
   "execution_count": null,
   "id": "fc8d7e23",
   "metadata": {},
   "outputs": [],
   "source": []
  }
 ],
 "metadata": {
  "kernelspec": {
   "display_name": "langgraph",
   "language": "python",
   "name": "python3"
  },
  "language_info": {
   "codemirror_mode": {
    "name": "ipython",
    "version": 3
   },
   "file_extension": ".py",
   "mimetype": "text/x-python",
   "name": "python",
   "nbconvert_exporter": "python",
   "pygments_lexer": "ipython3",
   "version": "3.12.0"
  }
 },
 "nbformat": 4,
 "nbformat_minor": 5
}
