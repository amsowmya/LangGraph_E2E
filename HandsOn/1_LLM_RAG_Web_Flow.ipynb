{
 "cells": [
  {
   "cell_type": "code",
   "execution_count": 27,
   "id": "951d9434",
   "metadata": {},
   "outputs": [],
   "source": [
    "import os\n",
    "from dotenv import load_dotenv\n",
    "from typing import TypedDict, Sequence, List, Literal, Annotated, cast\n",
    "from pydantic import BaseModel, Field\n",
    "\n",
    "from langchain_community.document_loaders import PyPDFLoader\n",
    "from langchain_text_splitters import RecursiveCharacterTextSplitter\n",
    "from langchain_community.vectorstores import Chroma\n",
    "from langchain_core.prompts import ChatPromptTemplate, PromptTemplate\n",
    "from langchain_core.output_parsers import PydanticOutputParser, StrOutputParser\n",
    "from langchain_groq.chat_models import ChatGroq\n",
    "from langchain_google_genai.embeddings import GoogleGenerativeAIEmbeddings\n",
    "from langchain_core.tools.retriever import create_retriever_tool\n",
    "from langchain_community.tools.tavily_search import TavilySearchResults\n",
    "\n",
    "from  langgraph.graph import StateGraph, START, END\n",
    "from langgraph.graph.message import add_messages, MessagesState, BaseMessage\n",
    "from langgraph.prebuilt import tools_condition, ToolNode"
   ]
  },
  {
   "cell_type": "code",
   "execution_count": 2,
   "id": "55ae80d5",
   "metadata": {},
   "outputs": [
    {
     "data": {
      "text/plain": [
       "'Hello! 👋 \\n\\nHow can I help you today? 😊\\n'"
      ]
     },
     "execution_count": 2,
     "metadata": {},
     "output_type": "execute_result"
    }
   ],
   "source": [
    "groq_api_key = os.environ['GROQ_API_KEY'] = os.getenv('GROQ_API_KEY')\n",
    "\n",
    "llm = ChatGroq(groq_api_key=groq_api_key, model=\"gemma2-9b-it\")\n",
    "llm.invoke(\"hi\").content"
   ]
  },
  {
   "cell_type": "code",
   "execution_count": 3,
   "id": "a363c1fd",
   "metadata": {},
   "outputs": [],
   "source": [
    "os.environ['GOOGLE_API_KEY'] = os.getenv('GOOGLE_API_KEY')\n",
    "\n",
    "embeddings = GoogleGenerativeAIEmbeddings(model=\"models/embedding-001\")"
   ]
  },
  {
   "cell_type": "code",
   "execution_count": 4,
   "id": "152ef46b",
   "metadata": {},
   "outputs": [],
   "source": [
    "file_path = r\"E:\\2025\\Generative_AI\\LangGraph\\LangGraph_E2E\\data\\Gujrat_accident.pdf\"\n",
    "\n",
    "docs = PyPDFLoader(file_path).load()\n",
    "text_splitter = RecursiveCharacterTextSplitter(chunk_size=500, chunk_overlap=50)\n",
    "documents = text_splitter.split_documents(docs)\n",
    "\n",
    "vectordb = Chroma.from_documents(documents=documents,\n",
    "                                 collection_name=\"rag\",\n",
    "                                 embedding=embeddings)\n",
    "\n",
    "retriever = vectordb.as_retriever()"
   ]
  },
  {
   "cell_type": "code",
   "execution_count": 5,
   "id": "56c984ca",
   "metadata": {},
   "outputs": [
    {
     "name": "stderr",
     "output_type": "stream",
     "text": [
      "C:\\Users\\sowmy\\AppData\\Local\\Temp\\ipykernel_17948\\3813989304.py:1: LangChainDeprecationWarning: The method `BaseRetriever.get_relevant_documents` was deprecated in langchain-core 0.1.46 and will be removed in 1.0. Use :meth:`~invoke` instead.\n",
      "  retriever.get_relevant_documents(\"main cause of air crash?\")\n"
     ]
    },
    {
     "data": {
      "text/plain": [
       "[Document(metadata={'total_pages': 3, 'creator': 'LaTeX with hyperref', 'page_label': '2', 'source': 'E:\\\\2025\\\\Generative_AI\\\\LangGraph\\\\LangGraph_E2E\\\\data\\\\Gujrat_accident.pdf', 'producer': 'xdvipdfmx (20220710)', 'page': 1, 'creationdate': '2025-06-17T17:22:18+00:00'}, page_content='cient thrust. Unverified claims on X mention fuel contamination, but no\\nevidence supports this. Weather was clear (visibility 6 km, light winds 3–6\\nknots), ruling out meteorological factors.\\n• Investigating Bodies: Aircraft Accident Investigation Bureau (AAIB) India,\\nDGCA, US NTSB, FAA, UK AAIB, and a high-level committee led by Union\\nHome Secretary Govind Mohan. Final report expected by June 2026.\\nFigure 3: Recovered black box of Flight AI171, critical for determining the cause\\nof the crash.'),\n",
       " Document(metadata={'page': 2, 'creationdate': '2025-06-17T17:22:18+00:00', 'source': 'E:\\\\2025\\\\Generative_AI\\\\LangGraph\\\\LangGraph_E2E\\\\data\\\\Gujrat_accident.pdf', 'creator': 'LaTeX with hyperref', 'producer': 'xdvipdfmx (20220710)', 'page_label': '3', 'total_pages': 3}, page_content='crash site in Ahmedabad, June 12, 2025.\\n7 Conclusion\\nThe Air India Flight AI171 crash is India’s deadliest aviation disaster since 1996\\nand the first fatal incident involving a Boeing 787 Dreamliner. The ongoing in-\\nvestigation, supported by the black box, aims to uncover the cause, with engine\\nfailure as a leading hypothesis. The tragedy has prompted global condolences\\nfrom leaders like PM Narendra Modi, UK PM Keir Starmer, and US President\\nDonald Trump.\\nReferences'),\n",
       " Document(metadata={'page_label': '2', 'creationdate': '2025-06-17T17:22:18+00:00', 'page': 1, 'total_pages': 3, 'source': 'E:\\\\2025\\\\Generative_AI\\\\LangGraph\\\\LangGraph_E2E\\\\data\\\\Gujrat_accident.pdf', 'creator': 'LaTeX with hyperref', 'producer': 'xdvipdfmx (20220710)'}, page_content='bodies released to families by June 15, 2025.\\nFigure 2: Forensic teams conducting DNA testing at Ahmedabad Civil Hospital\\nto identify victims of the AI171 crash.\\n4 Investigation\\n• Black Box: Flight data recorder and cockpit voice recorder recovered from\\na rooftop at the crash site. The pilot’s last message was, “Mayday, Mayday,\\nthrust not achieved, falling.”\\n• Suspected Causes: Initial reports suggest dual engine failure or insuffi-'),\n",
       " Document(metadata={'total_pages': 3, 'creationdate': '2025-06-17T17:22:18+00:00', 'page': 2, 'source': 'E:\\\\2025\\\\Generative_AI\\\\LangGraph\\\\LangGraph_E2E\\\\data\\\\Gujrat_accident.pdf', 'producer': 'xdvipdfmx (20220710)', 'creator': 'LaTeX with hyperref', 'page_label': '3'}, page_content='Donald Trump.\\nReferences\\n[1] Wikipedia, “Air India Flight 171,” June 17, 2025.https://en.wikipedia.\\norg/wiki/Air_India_Flight_171\\n[2] The Times of India, “Ahmedabad Air India Plane Crash Live,” June 16, 2025.\\nhttps://timesofindia.indiatimes.com\\n[3] ABC News, “Air India jet crash kills 246 people,” June 13, 2025.https://\\nabcnews.go.com\\n[4] India Today, X Post, June 15, 2025.https://t.co/u2fm3g0AXG\\n3')]"
      ]
     },
     "execution_count": 5,
     "metadata": {},
     "output_type": "execute_result"
    }
   ],
   "source": [
    "retriever.get_relevant_documents(\"main cause of air crash?\")"
   ]
  },
  {
   "cell_type": "code",
   "execution_count": 6,
   "id": "51474959",
   "metadata": {},
   "outputs": [],
   "source": [
    "retrieve_tool = create_retriever_tool(\n",
    "    retriever=retriever,\n",
    "    name=\"rag-tool\",\n",
    "    description=\"If the question is related to Ahamadabad air crash use this tool\"\n",
    ")"
   ]
  },
  {
   "cell_type": "code",
   "execution_count": 7,
   "id": "caccad38",
   "metadata": {},
   "outputs": [],
   "source": [
    "class AgentState(TypedDict):\n",
    "    messages: Annotated[Sequence[BaseMessage], add_messages]"
   ]
  },
  {
   "cell_type": "code",
   "execution_count": 8,
   "id": "309b10a8",
   "metadata": {},
   "outputs": [],
   "source": [
    "class Analyser(BaseModel):\n",
    "    Topic: str = Field(description=\"Selected topic 'Retriever call', 'LLM call', 'Internet call'\")\n",
    "    Reason: str = Field(description=\"Reason for selected topic\")"
   ]
  },
  {
   "cell_type": "code",
   "execution_count": 9,
   "id": "a22ac6cd",
   "metadata": {},
   "outputs": [],
   "source": [
    "def supervisor(state: AgentState):\n",
    "    print(\"--- SUPERVISOR ---\")\n",
    "    question = state['messages'][0]\n",
    "    \n",
    "    parser = PydanticOutputParser(pydantic_object=Analyser)\n",
    "    \n",
    "    template = \"\"\"You are an ai assistant tasked with identify proper topic based on the question.\n",
    "    1. Retriever call: If the question is related to Ahamadabad air crash\n",
    "    2. LLM call: If the question is related to old news\n",
    "    3. Internet call: If the question is related to current news\n",
    "    Note: Provide only these topics 'Retriever call', 'LLM call', 'Internet call'\n",
    "    Question: {question}\\n{format_instructions}\n",
    "    \"\"\"\n",
    "    \n",
    "    prompt = PromptTemplate(\n",
    "        template=template,\n",
    "        input_variables=[\"question\"],\n",
    "        partial_variables={\"format_instructions\": parser.get_format_instructions()}\n",
    "    )\n",
    "    \n",
    "    chain = prompt | llm | parser\n",
    "    \n",
    "    response = chain.invoke({\"question\": question})\n",
    "    print(response.Topic)\n",
    "    return {\"messages\": [response.Topic]}"
   ]
  },
  {
   "cell_type": "code",
   "execution_count": 10,
   "id": "531f1f54",
   "metadata": {},
   "outputs": [
    {
     "name": "stdout",
     "output_type": "stream",
     "text": [
      "--- SUPERVISOR ---\n",
      "Retriever call\n"
     ]
    },
    {
     "data": {
      "text/plain": [
       "{'messages': ['Retriever call']}"
      ]
     },
     "execution_count": 10,
     "metadata": {},
     "output_type": "execute_result"
    }
   ],
   "source": [
    "supervisor({\"messages\": [\"what is the cause of air crash\"]})"
   ]
  },
  {
   "cell_type": "code",
   "execution_count": 11,
   "id": "e7e0e7a0",
   "metadata": {},
   "outputs": [],
   "source": [
    "def router(state: AgentState):\n",
    "    print(\"--- ROUTER ---\")\n",
    "    last_message = state['messages'][-1].content\n",
    "    print(last_message)\n",
    "    \n",
    "    if \"Retriever call\" in last_message:\n",
    "        return \"RAG\"\n",
    "    elif \"LLM call\" in last_message:\n",
    "        return \"LLM\"\n",
    "    elif \"Internet call\" in last_message:\n",
    "        return \"Internet\""
   ]
  },
  {
   "cell_type": "code",
   "execution_count": 12,
   "id": "a4a93c3a",
   "metadata": {},
   "outputs": [],
   "source": [
    "def retrieve(state: AgentState):\n",
    "    question = state['messages'][0]\n",
    "    return {\"messages\": [retrieve_tool.invoke(question)]}"
   ]
  },
  {
   "cell_type": "code",
   "execution_count": 13,
   "id": "637ab4f3",
   "metadata": {},
   "outputs": [
    {
     "data": {
      "text/plain": [
       "{'messages': ['cient thrust. Unverified claims on X mention fuel contamination, but no\\nevidence supports this. Weather was clear (visibility 6 km, light winds 3–6\\nknots), ruling out meteorological factors.\\n• Investigating Bodies: Aircraft Accident Investigation Bureau (AAIB) India,\\nDGCA, US NTSB, FAA, UK AAIB, and a high-level committee led by Union\\nHome Secretary Govind Mohan. Final report expected by June 2026.\\nFigure 3: Recovered black box of Flight AI171, critical for determining the cause\\nof the crash.\\n\\ncrash site in Ahmedabad, June 12, 2025.\\n7 Conclusion\\nThe Air India Flight AI171 crash is India’s deadliest aviation disaster since 1996\\nand the first fatal incident involving a Boeing 787 Dreamliner. The ongoing in-\\nvestigation, supported by the black box, aims to uncover the cause, with engine\\nfailure as a leading hypothesis. The tragedy has prompted global condolences\\nfrom leaders like PM Narendra Modi, UK PM Keir Starmer, and US President\\nDonald Trump.\\nReferences\\n\\nbodies released to families by June 15, 2025.\\nFigure 2: Forensic teams conducting DNA testing at Ahmedabad Civil Hospital\\nto identify victims of the AI171 crash.\\n4 Investigation\\n• Black Box: Flight data recorder and cockpit voice recorder recovered from\\na rooftop at the crash site. The pilot’s last message was, “Mayday, Mayday,\\nthrust not achieved, falling.”\\n• Suspected Causes: Initial reports suggest dual engine failure or insuffi-\\n\\nDonald Trump.\\nReferences\\n[1] Wikipedia, “Air India Flight 171,” June 17, 2025.https://en.wikipedia.\\norg/wiki/Air_India_Flight_171\\n[2] The Times of India, “Ahmedabad Air India Plane Crash Live,” June 16, 2025.\\nhttps://timesofindia.indiatimes.com\\n[3] ABC News, “Air India jet crash kills 246 people,” June 13, 2025.https://\\nabcnews.go.com\\n[4] India Today, X Post, June 15, 2025.https://t.co/u2fm3g0AXG\\n3']}"
      ]
     },
     "execution_count": 13,
     "metadata": {},
     "output_type": "execute_result"
    }
   ],
   "source": [
    "retrieve({\"messages\": [\"cause of air crash\"]})"
   ]
  },
  {
   "cell_type": "code",
   "execution_count": 14,
   "id": "165904ed",
   "metadata": {},
   "outputs": [],
   "source": [
    "class AnswerParser(BaseModel):\n",
    "    Answer: str = Field(description=\"The final answer to the user question\")\n",
    "    Source: str = Field(description=\"Origin of this answer (RAG, LLM, Internet)\")\n",
    "    \n",
    "answer_parser = PydanticOutputParser(pydantic_object=AnswerParser)"
   ]
  },
  {
   "cell_type": "code",
   "execution_count": 15,
   "id": "8816a74e",
   "metadata": {},
   "outputs": [],
   "source": [
    "def call_llm(state: AgentState):\n",
    "    print(\"--- CALL LLM ---\")\n",
    "    # question = state['messages']\n",
    "        \n",
    "    # template = \"\"\"You are a helpful assistant answer the following question with accurate \n",
    "    # Question: {question}\n",
    "    # {format_instructions}\n",
    "    # \"\"\"\n",
    "    \n",
    "    # prompt = PromptTemplate(\n",
    "    #     template=template,\n",
    "    #     input_variables=[\"question\"],\n",
    "    #     partial_variables={\"format_instructions\": answer_parser.get_format_instructions()}\n",
    "    # )\n",
    "    \n",
    "    # chain = prompt | llm | answer_parser\n",
    "    \n",
    "    # return {\"messages\": [chain.invoke(question)]}\n",
    "    \n",
    "    question = state['messages'][0]\n",
    "    print(question)\n",
    "    \n",
    "    llm_with_structured_op = llm.with_structured_output(AnswerParser)\n",
    "    \n",
    "    return {\"messages\": [llm_with_structured_op.invoke(question)]}"
   ]
  },
  {
   "cell_type": "code",
   "execution_count": 16,
   "id": "c58c91c4",
   "metadata": {},
   "outputs": [
    {
     "name": "stdout",
     "output_type": "stream",
     "text": [
      "--- CALL LLM ---\n",
      "first prime minister of india?\n"
     ]
    },
    {
     "data": {
      "text/plain": [
       "{'messages': [AnswerParser(Answer='Jawaharlal Nehru', Source='LLM')]}"
      ]
     },
     "execution_count": 16,
     "metadata": {},
     "output_type": "execute_result"
    }
   ],
   "source": [
    "call_llm({\"messages\": [\"first prime minister of india?\"]})"
   ]
  },
  {
   "cell_type": "code",
   "execution_count": 17,
   "id": "5c0e1227",
   "metadata": {},
   "outputs": [],
   "source": [
    "def call_interner(state: AgentState):\n",
    "    print(\"--- CALL INTERNET ---\")\n",
    "    question = state['messages'][0]\n",
    "    print(question)\n",
    "    \n",
    "    tavily_tool = TavilySearchResults()\n",
    "    response = tavily_tool.invoke(question.content)\n",
    "    print(response)\n",
    "    \n",
    "    return {\"messages\": [response]}"
   ]
  },
  {
   "cell_type": "code",
   "execution_count": 26,
   "id": "3f1ccdfa",
   "metadata": {},
   "outputs": [
    {
     "data": {
      "text/plain": [
       "[{'url': 'https://en.wikipedia.org/wiki/President_of_India',\n",
       "  'content': 'The **president of India** ([ISO](https://en.wikipedia.org/wiki/ISO_15919 \"ISO 15919\"): _Bhārata kē Rāṣṭrapati_) is the [head of state](https://en.wikipedia.org/wiki/Head_of_state \"Head of state\") of the [Republic of India](https://en.wikipedia.org/wiki/Republic_of_India \"Republic of India\"). The president is the nominal head of the executive,[[a]](https://en.wikipedia.org/wiki/President_of_India#cite_note-3) the first citizen of the country, and the [supreme [...] *   **President of India**\\n\\n*   [Droupadi Murmu](https://en.wikipedia.org/wiki/Droupadi_Murmu \"Droupadi Murmu\") ([15th](https://en.wikipedia.org/wiki/List_of_Presidents_of_India \"List of Presidents of India\"))\\n\\n* * *\\n\\n*   **[Vice President of India](https://en.wikipedia.org/wiki/Vice_President_of_India \"Vice President of India\")** [...] | President of India |\\n| --- |\\n| _Bhārata kē Rāṣṭrapati_ |\\n| [![Image 5](https://upload.wikimedia.org/wikipedia/commons/thumb/f/fa/President_of_India_Logo.png/330px-President_of_India_Logo.png)](https://en.wikipedia.org/wiki/File:President_of_India_Logo.png) Logo of the President of India |'},\n",
       " {'url': 'http://www.presidentofindia.gov.in/Profile',\n",
       "  'content': '[![Image 2: emblem-logo](http://www.presidentofindia.gov.in/themes/presidentofindia/images/logo.png) #### Smt. Droupadi Murmu The President of India](http://www.presidentofindia.gov.in/)\\n\\n![Image 3: building-logo](http://www.presidentofindia.gov.in/themes/presidentofindia/images/header-bg.png)'},\n",
       " {'url': 'http://www.presidentofindia.gov.in/',\n",
       "  'content': '[![Image 2: emblem-logo](http://www.presidentofindia.gov.in/themes/presidentofindia/images/logo.png) #### Smt. Droupadi Murmu The President of India](http://www.presidentofindia.gov.in/)\\n\\n![Image 3: building-logo](http://www.presidentofindia.gov.in/themes/presidentofindia/images/header-bg.png) [...] [Click here to Download](https://presidentofindia.gov.in/president-india-smt-droupadi-murmu)\\n\\n#### Profile\\n\\n##### Hon’ble President of India , Smt. Droupadi Murmu\\n\\nSmt. Droupadi Murmu was sworn in as the 15th President of India on 25 July, 2022. Previously, she was the Governor of Jharkhand from 2015 to 2021.\\n\\nShe has devoted her life to empowering the downtrodden as well as the marginalised sections of society and deepening the democratic values. [...] ![Image 9: H.E. Mr Abdenor Khelifi, Ambassador of the People’s Democratic Republic of Algeria presenting credentials to the President of India, Smt Droupadi Murmu at a ceremony held at Rashtrapati Bhavan on May 30, 2025.](http://www.presidentofindia.gov.in/sites/default/files/h.e._mr_abdenor_khelifi_ambassador_of_the_people_s_democratic_republic_of_algeria.jpg)'}]"
      ]
     },
     "execution_count": 26,
     "metadata": {},
     "output_type": "execute_result"
    }
   ],
   "source": [
    "tavily_tool = TavilySearchResults()\n",
    "tavily_tool.invoke(\"president of inida?\")"
   ]
  },
  {
   "cell_type": "code",
   "execution_count": 18,
   "id": "02ae488e",
   "metadata": {},
   "outputs": [],
   "source": [
    "def validator(state: AgentState):\n",
    "    print(\"--- VALIDATOR ---\")\n",
    "    last_message = state['messages'][-1]\n",
    "    \n",
    "    parser = PydanticOutputParser(pydantic_object=AnswerParser)\n",
    "    \n",
    "    try:\n",
    "        validated = parser.parse(last_message.content) \n",
    "        print(\"VALIDATED: \", validated)\n",
    "        print(\"Validation PASSED\")\n",
    "        return{\"messages\": ['Success']}\n",
    "    except Exception as e:\n",
    "        print(\"Validation FAILED\", e)\n",
    "        return{\"messages\": ['Supervisor']}\n",
    "        "
   ]
  },
  {
   "cell_type": "code",
   "execution_count": 19,
   "id": "e1ae2333",
   "metadata": {},
   "outputs": [],
   "source": [
    "workflow = StateGraph(AgentState)\n",
    "\n",
    "workflow.add_node(\"Supervisor\", supervisor)\n",
    "# workflow.add_node(\"RAG\", retrieve)\n",
    "workflow.add_node(\"RAG\", ToolNode([retrieve_tool]))\n",
    "workflow.add_node(\"LLM\", call_llm)\n",
    "workflow.add_node(\"Internet\", call_interner)\n",
    "# workflow.add_node(\"Validator\", validator)\n",
    "\n",
    "workflow.add_edge(START, \"Supervisor\")\n",
    "workflow.add_conditional_edges(\n",
    "    \"Supervisor\",\n",
    "    router,\n",
    "    {\n",
    "        \"RAG\": \"RAG\",\n",
    "        \"LLM\": \"LLM\",\n",
    "        \"Internet\": \"Internet\"\n",
    "    }\n",
    ")\n",
    "\n",
    "workflow.add_edge(\"RAG\", END)\n",
    "workflow.add_edge(\"LLM\", END)\n",
    "workflow.add_edge(\"Internet\", END)\n",
    "\n",
    "# workflow.add_edge(\"RAG\", \"Validator\")\n",
    "# workflow.add_edge(\"LLM\", \"Validator\")\n",
    "# workflow.add_edge(\"Internet\", \"Validator\")\n",
    "\n",
    "# workflow.add_conditional_edges(\n",
    "#     validator,\n",
    "#     lambda state: \"Supervisor\" if not state['valid'] else \"Feedback\",\n",
    "#     {\n",
    "#         \"Supervisor\": \"Supervisor\",\n",
    "#         \"Feedback\": END\n",
    "#     }\n",
    "# )\n",
    "\n",
    "# workflow.add_edge(\"Validator\", END)\n",
    "\n",
    "app = workflow.compile()\n"
   ]
  },
  {
   "cell_type": "code",
   "execution_count": 20,
   "id": "2c02604c",
   "metadata": {},
   "outputs": [
    {
     "name": "stdout",
     "output_type": "stream",
     "text": [
      "--- SUPERVISOR ---\n",
      "Internet call\n",
      "--- ROUTER ---\n",
      "Internet call\n",
      "--- CALL INTERNET ---\n",
      "content='current president of india?' additional_kwargs={} response_metadata={} id='edf5965d-7e9e-4213-bfdb-22b5c124af03'\n",
      "[{'url': 'https://en.wikipedia.org/wiki/President_of_India', 'content': 'Murmu](/wiki/Droupadi_Murmu \"Droupadi Murmu\") is the 15th and current president, having taken office on 25 July 2022. [...] | President of the Republic of India | |\\n| --- | --- |\\n| *Bhārata kē Rāṣṭrapati* | |\\n| Logo of the President of India | |\\n| [f](/wiki/File:Flag_of_India.svg) [Flag of India](/wiki/Flag_of_India \"Flag of India\") | |\\n| Incumbent [Droupadi Murmu](/wiki/Droupadi_Murmu \"Droupadi Murmu\") since\\xa025 July 2022 | | [...] The **president of India** ([ISO](/wiki/ISO_15919 \"ISO 15919\"): *Bhārata kē Rāṣṭrapati*) is the [head of state](/wiki/Head_of_state \"Head of state\") of the [Republic of India](/wiki/Republic_of_India \"Republic of India\"). The president is the nominal head of the executive,[[a]](#cite_note-3) the first citizen of the country, and the [supreme commander](/wiki/Commander-in-chief \"Commander-in-chief\") of the [Indian Armed Forces](/wiki/Indian_Armed_Forces \"Indian Armed Forces\"). [Droupadi'}, {'url': 'http://www.rashtrapatibhavan.gov.in/about-us', 'content': 'Smt. Droupadi Murmu is the 15th and current President, having taken office from 25 July 2022. Rashtrapati Bhavan. The President of'}, {'url': 'https://www.jagranjosh.com/general-knowledge/list-of-all-presidents-of-india-from1947-to-2017-with-tenure-1500293855-1', 'content': '**[Ram Nath Kovind](https://www.jagranjosh.com/general-knowledge/amazing-facts-about-new-president-of-india-ramnath-kovind-1500549853-1)** was born on 1 October 1945 in Uttar Pradesh, India. He is an Indian lawyer and politician. He was the 14th and current President of India. He became the President on 25 July 2017 and is a member of the Bhartiya Janata Party. He is the former Governor of Bihar. His approach towards political problems earned him praise across the political spectrum. As a [...] | 13 | Pranab Mukherjee | 25 July – 25 July 2017 |\\n| 14 | Ram Nath Kovind | 25 July 2017 – 25 July 2022 |\\n| 15 | Droupadi Murmu | 25 July 2022 – Incumbent | [...] # List of all Presidents of India from 1950-2025\\n\\n## List of all Presidents of India from 1950 to 2025: Check the list of presidents of India who have been elected so far. Droupadi Murmu became the 15th President of India on July 25, 2022.'}, {'url': 'https://en.wikipedia.org/wiki/Droupadi_Murmu', 'content': '| Political offices | | |\\n| --- | --- | --- |\\n| Preceded\\xa0by [Ram Nath Kovind](/wiki/Ram_Nath_Kovind \"Ram Nath Kovind\") | **[President of India](/wiki/President_of_India \"President of India\")**  2022–present | **Incumbent** |\\n| [Odisha Legislative Assembly](/wiki/Odisha_Legislative_Assembly \"Odisha Legislative Assembly\") | | | [...] | [Vice President](/wiki/Vice_President_of_India \"Vice President of India\") | [Venkaiah Naidu](/wiki/Venkaiah_Naidu \"Venkaiah Naidu\") [Jagdeep Dhankhar](/wiki/Jagdeep_Dhankhar \"Jagdeep Dhankhar\") |\\n| Preceded by | [Ram Nath Kovind](/wiki/Ram_Nath_Kovind \"Ram Nath Kovind\") |\\n| [Governor of Jharkhand](/wiki/Governor_of_Jharkhand \"Governor of Jharkhand\") | |\\n| **In office** 18 May 2015\\xa0– 15 July 2021 | |\\n| President | [Pranab Mukherjee](/wiki/Pranab_Mukherjee \"Pranab Mukherjee\") Ram Nath Kovind | [...] | Droupadi Murmu | |\\n| --- | --- |\\n| Official portrait, 2025 | |\\n|  | |\\n| [President of India](/wiki/President_of_India \"President of India\") | |\\n| **[Incumbent](/wiki/Incumbent \"Incumbent\")** | |\\n| **Assumed office**  25 July 2022 | |\\n| Prime Minister | [Narendra Modi](/wiki/Narendra_Modi \"Narendra Modi\") |'}, {'url': 'http://www.presidentofindia.gov.in/', 'content': 'Facebook\\n\\n![Twitter](/sites/default/files/2023-08/twiit.png)\\n\\nTwitter\\n\\nInstagram\\n\\nYoutube\\n\\n![Smt. Droupadi Murmu](/sites/default/files/2025-04/president_of_india.jpg)\\n\\n[Click here to Download](https://presidentofindia.gov.in/president-india-smt-droupadi-murmu)\\n\\n#### Profile\\n\\n##### Hon’ble President of India , Smt. Droupadi Murmu\\n\\nSmt. Droupadi Murmu was sworn in as the 15th President of India on 25 July, 2022. Previously, she was the Governor of Jharkhand from 2015 to 2021. [...] ![india-flag](/themes/presidentofindia/images/india-flag.gif)\\n![emblem-logo](/themes/presidentofindia/images/logo.png)\\n\\n#### Smt. Droupadi MurmuThe President of India\\n\\n![building-logo](/themes/presidentofindia/images/header-bg.png)\\n![The probationers of the Central Labour Service called on the President of India, Smt Droupadi Murmu at Rashtrapati Bhavan on June 18, 2025.](/sites/default/files/hnm_4336.jpg) [...] ###### The President of India, Smt Droupadi Murmu received H.E. Mr Santiago Peña Palacios, President of the Republic of Paraguay at Rashtrapati Bhavan on June 2, 2025.\\n\\n![H.E. Mr Zada Seidou, Ambassador of the Republic of Niger presenting credentials to the President of India, Smt Droupadi Murmu at a ceremony held at Rashtrapati Bhavan on May 30, 2025.](/sites/default/files/h.e._mr_zada_seidou_ambassador_of_the_republic_of_niger.jpg)'}]\n"
     ]
    },
    {
     "ename": "NotImplementedError",
     "evalue": "Unsupported message type: <class 'list'>\nFor troubleshooting, visit: https://python.langchain.com/docs/troubleshooting/errors/MESSAGE_COERCION_FAILURE ",
     "output_type": "error",
     "traceback": [
      "\u001b[31m---------------------------------------------------------------------------\u001b[39m",
      "\u001b[31mNotImplementedError\u001b[39m                       Traceback (most recent call last)",
      "\u001b[36mCell\u001b[39m\u001b[36m \u001b[39m\u001b[32mIn[20]\u001b[39m\u001b[32m, line 5\u001b[39m\n\u001b[32m      1\u001b[39m \u001b[38;5;28;01mfrom\u001b[39;00m\u001b[38;5;250m \u001b[39m\u001b[34;01mlangchain_core\u001b[39;00m\u001b[34;01m.\u001b[39;00m\u001b[34;01mmessages\u001b[39;00m\u001b[38;5;250m \u001b[39m\u001b[38;5;28;01mimport\u001b[39;00m HumanMessage\n\u001b[32m      3\u001b[39m \u001b[38;5;66;03m# app.invoke({\"messages\": [\"cause for air crash\"]})\u001b[39;00m\n\u001b[32m----> \u001b[39m\u001b[32m5\u001b[39m \u001b[43mapp\u001b[49m\u001b[43m.\u001b[49m\u001b[43minvoke\u001b[49m\u001b[43m(\u001b[49m\u001b[43m{\u001b[49m\u001b[33;43m\"\u001b[39;49m\u001b[33;43mmessages\u001b[39;49m\u001b[33;43m\"\u001b[39;49m\u001b[43m:\u001b[49m\u001b[43m \u001b[49m\u001b[43m[\u001b[49m\u001b[33;43m\"\u001b[39;49m\u001b[33;43mcurrent president of india?\u001b[39;49m\u001b[33;43m\"\u001b[39;49m\u001b[43m]\u001b[49m\u001b[43m}\u001b[49m\u001b[43m)\u001b[49m\n",
      "\u001b[36mFile \u001b[39m\u001b[32mc:\\Users\\sowmy\\anaconda3\\envs\\langgraph\\Lib\\site-packages\\langgraph\\pregel\\__init__.py:2336\u001b[39m, in \u001b[36mPregel.invoke\u001b[39m\u001b[34m(self, input, config, stream_mode, output_keys, interrupt_before, interrupt_after, debug, **kwargs)\u001b[39m\n\u001b[32m   2334\u001b[39m \u001b[38;5;28;01melse\u001b[39;00m:\n\u001b[32m   2335\u001b[39m     chunks = []\n\u001b[32m-> \u001b[39m\u001b[32m2336\u001b[39m \u001b[43m\u001b[49m\u001b[38;5;28;43;01mfor\u001b[39;49;00m\u001b[43m \u001b[49m\u001b[43mchunk\u001b[49m\u001b[43m \u001b[49m\u001b[38;5;129;43;01min\u001b[39;49;00m\u001b[43m \u001b[49m\u001b[38;5;28;43mself\u001b[39;49m\u001b[43m.\u001b[49m\u001b[43mstream\u001b[49m\u001b[43m(\u001b[49m\n\u001b[32m   2337\u001b[39m \u001b[43m    \u001b[49m\u001b[38;5;28;43minput\u001b[39;49m\u001b[43m,\u001b[49m\n\u001b[32m   2338\u001b[39m \u001b[43m    \u001b[49m\u001b[43mconfig\u001b[49m\u001b[43m,\u001b[49m\n\u001b[32m   2339\u001b[39m \u001b[43m    \u001b[49m\u001b[43mstream_mode\u001b[49m\u001b[43m=\u001b[49m\u001b[43mstream_mode\u001b[49m\u001b[43m,\u001b[49m\n\u001b[32m   2340\u001b[39m \u001b[43m    \u001b[49m\u001b[43moutput_keys\u001b[49m\u001b[43m=\u001b[49m\u001b[43moutput_keys\u001b[49m\u001b[43m,\u001b[49m\n\u001b[32m   2341\u001b[39m \u001b[43m    \u001b[49m\u001b[43minterrupt_before\u001b[49m\u001b[43m=\u001b[49m\u001b[43minterrupt_before\u001b[49m\u001b[43m,\u001b[49m\n\u001b[32m   2342\u001b[39m \u001b[43m    \u001b[49m\u001b[43minterrupt_after\u001b[49m\u001b[43m=\u001b[49m\u001b[43minterrupt_after\u001b[49m\u001b[43m,\u001b[49m\n\u001b[32m   2343\u001b[39m \u001b[43m    \u001b[49m\u001b[43mdebug\u001b[49m\u001b[43m=\u001b[49m\u001b[43mdebug\u001b[49m\u001b[43m,\u001b[49m\n\u001b[32m   2344\u001b[39m \u001b[43m    \u001b[49m\u001b[43m*\u001b[49m\u001b[43m*\u001b[49m\u001b[43mkwargs\u001b[49m\u001b[43m,\u001b[49m\n\u001b[32m   2345\u001b[39m \u001b[43m\u001b[49m\u001b[43m)\u001b[49m\u001b[43m:\u001b[49m\n\u001b[32m   2346\u001b[39m \u001b[43m    \u001b[49m\u001b[38;5;28;43;01mif\u001b[39;49;00m\u001b[43m \u001b[49m\u001b[43mstream_mode\u001b[49m\u001b[43m \u001b[49m\u001b[43m==\u001b[49m\u001b[43m \u001b[49m\u001b[33;43m\"\u001b[39;49m\u001b[33;43mvalues\u001b[39;49m\u001b[33;43m\"\u001b[39;49m\u001b[43m:\u001b[49m\n\u001b[32m   2347\u001b[39m \u001b[43m        \u001b[49m\u001b[43mlatest\u001b[49m\u001b[43m \u001b[49m\u001b[43m=\u001b[49m\u001b[43m \u001b[49m\u001b[43mchunk\u001b[49m\n",
      "\u001b[36mFile \u001b[39m\u001b[32mc:\\Users\\sowmy\\anaconda3\\envs\\langgraph\\Lib\\site-packages\\langgraph\\pregel\\__init__.py:1992\u001b[39m, in \u001b[36mPregel.stream\u001b[39m\u001b[34m(self, input, config, stream_mode, output_keys, interrupt_before, interrupt_after, debug, subgraphs)\u001b[39m\n\u001b[32m   1986\u001b[39m     get_waiter = \u001b[38;5;28;01mNone\u001b[39;00m  \u001b[38;5;66;03m# type: ignore[assignment]\u001b[39;00m\n\u001b[32m   1987\u001b[39m \u001b[38;5;66;03m# Similarly to Bulk Synchronous Parallel / Pregel model\u001b[39;00m\n\u001b[32m   1988\u001b[39m \u001b[38;5;66;03m# computation proceeds in steps, while there are channel updates.\u001b[39;00m\n\u001b[32m   1989\u001b[39m \u001b[38;5;66;03m# Channel updates from step N are only visible in step N+1\u001b[39;00m\n\u001b[32m   1990\u001b[39m \u001b[38;5;66;03m# channels are guaranteed to be immutable for the duration of the step,\u001b[39;00m\n\u001b[32m   1991\u001b[39m \u001b[38;5;66;03m# with channel updates applied only at the transition between steps.\u001b[39;00m\n\u001b[32m-> \u001b[39m\u001b[32m1992\u001b[39m \u001b[38;5;28;01mwhile\u001b[39;00m \u001b[43mloop\u001b[49m\u001b[43m.\u001b[49m\u001b[43mtick\u001b[49m\u001b[43m(\u001b[49m\u001b[43minput_keys\u001b[49m\u001b[43m=\u001b[49m\u001b[38;5;28;43mself\u001b[39;49m\u001b[43m.\u001b[49m\u001b[43minput_channels\u001b[49m\u001b[43m)\u001b[49m:\n\u001b[32m   1993\u001b[39m     \u001b[38;5;28;01mfor\u001b[39;00m _ \u001b[38;5;129;01min\u001b[39;00m runner.tick(\n\u001b[32m   1994\u001b[39m         loop.tasks.values(),\n\u001b[32m   1995\u001b[39m         timeout=\u001b[38;5;28mself\u001b[39m.step_timeout,\n\u001b[32m   (...)\u001b[39m\u001b[32m   1998\u001b[39m     ):\n\u001b[32m   1999\u001b[39m         \u001b[38;5;66;03m# emit output\u001b[39;00m\n\u001b[32m   2000\u001b[39m         \u001b[38;5;28;01myield from\u001b[39;00m output()\n",
      "\u001b[36mFile \u001b[39m\u001b[32mc:\\Users\\sowmy\\anaconda3\\envs\\langgraph\\Lib\\site-packages\\langgraph\\pregel\\loop.py:420\u001b[39m, in \u001b[36mPregelLoop.tick\u001b[39m\u001b[34m(self, input_keys)\u001b[39m\n\u001b[32m    410\u001b[39m     print_step_writes(\n\u001b[32m    411\u001b[39m         \u001b[38;5;28mself\u001b[39m.step,\n\u001b[32m    412\u001b[39m         writes,\n\u001b[32m   (...)\u001b[39m\u001b[32m    417\u001b[39m         ),\n\u001b[32m    418\u001b[39m     )\n\u001b[32m    419\u001b[39m \u001b[38;5;66;03m# all tasks have finished\u001b[39;00m\n\u001b[32m--> \u001b[39m\u001b[32m420\u001b[39m mv_writes = \u001b[43mapply_writes\u001b[49m\u001b[43m(\u001b[49m\n\u001b[32m    421\u001b[39m \u001b[43m    \u001b[49m\u001b[38;5;28;43mself\u001b[39;49m\u001b[43m.\u001b[49m\u001b[43mcheckpoint\u001b[49m\u001b[43m,\u001b[49m\n\u001b[32m    422\u001b[39m \u001b[43m    \u001b[49m\u001b[38;5;28;43mself\u001b[39;49m\u001b[43m.\u001b[49m\u001b[43mchannels\u001b[49m\u001b[43m,\u001b[49m\n\u001b[32m    423\u001b[39m \u001b[43m    \u001b[49m\u001b[38;5;28;43mself\u001b[39;49m\u001b[43m.\u001b[49m\u001b[43mtasks\u001b[49m\u001b[43m.\u001b[49m\u001b[43mvalues\u001b[49m\u001b[43m(\u001b[49m\u001b[43m)\u001b[49m\u001b[43m,\u001b[49m\n\u001b[32m    424\u001b[39m \u001b[43m    \u001b[49m\u001b[38;5;28;43mself\u001b[39;49m\u001b[43m.\u001b[49m\u001b[43mcheckpointer_get_next_version\u001b[49m\u001b[43m,\u001b[49m\n\u001b[32m    425\u001b[39m \u001b[43m\u001b[49m\u001b[43m)\u001b[49m\n\u001b[32m    426\u001b[39m \u001b[38;5;66;03m# apply writes to managed values\u001b[39;00m\n\u001b[32m    427\u001b[39m \u001b[38;5;28;01mfor\u001b[39;00m key, values \u001b[38;5;129;01min\u001b[39;00m mv_writes.items():\n",
      "\u001b[36mFile \u001b[39m\u001b[32mc:\\Users\\sowmy\\anaconda3\\envs\\langgraph\\Lib\\site-packages\\langgraph\\pregel\\algo.py:305\u001b[39m, in \u001b[36mapply_writes\u001b[39m\u001b[34m(checkpoint, channels, tasks, get_next_version)\u001b[39m\n\u001b[32m    303\u001b[39m \u001b[38;5;28;01mfor\u001b[39;00m chan, vals \u001b[38;5;129;01min\u001b[39;00m pending_writes_by_channel.items():\n\u001b[32m    304\u001b[39m     \u001b[38;5;28;01mif\u001b[39;00m chan \u001b[38;5;129;01min\u001b[39;00m channels:\n\u001b[32m--> \u001b[39m\u001b[32m305\u001b[39m         \u001b[38;5;28;01mif\u001b[39;00m \u001b[43mchannels\u001b[49m\u001b[43m[\u001b[49m\u001b[43mchan\u001b[49m\u001b[43m]\u001b[49m\u001b[43m.\u001b[49m\u001b[43mupdate\u001b[49m\u001b[43m(\u001b[49m\u001b[43mvals\u001b[49m\u001b[43m)\u001b[49m \u001b[38;5;129;01mand\u001b[39;00m get_next_version \u001b[38;5;129;01mis\u001b[39;00m \u001b[38;5;129;01mnot\u001b[39;00m \u001b[38;5;28;01mNone\u001b[39;00m:\n\u001b[32m    306\u001b[39m             checkpoint[\u001b[33m\"\u001b[39m\u001b[33mchannel_versions\u001b[39m\u001b[33m\"\u001b[39m][chan] = get_next_version(\n\u001b[32m    307\u001b[39m                 max_version,\n\u001b[32m    308\u001b[39m                 channels[chan],\n\u001b[32m    309\u001b[39m             )\n\u001b[32m    310\u001b[39m         updated_channels.add(chan)\n",
      "\u001b[36mFile \u001b[39m\u001b[32mc:\\Users\\sowmy\\anaconda3\\envs\\langgraph\\Lib\\site-packages\\langgraph\\channels\\binop.py:88\u001b[39m, in \u001b[36mBinaryOperatorAggregate.update\u001b[39m\u001b[34m(self, values)\u001b[39m\n\u001b[32m     86\u001b[39m     values = values[\u001b[32m1\u001b[39m:]\n\u001b[32m     87\u001b[39m \u001b[38;5;28;01mfor\u001b[39;00m value \u001b[38;5;129;01min\u001b[39;00m values:\n\u001b[32m---> \u001b[39m\u001b[32m88\u001b[39m     \u001b[38;5;28mself\u001b[39m.value = \u001b[38;5;28;43mself\u001b[39;49m\u001b[43m.\u001b[49m\u001b[43moperator\u001b[49m\u001b[43m(\u001b[49m\u001b[38;5;28;43mself\u001b[39;49m\u001b[43m.\u001b[49m\u001b[43mvalue\u001b[49m\u001b[43m,\u001b[49m\u001b[43m \u001b[49m\u001b[43mvalue\u001b[49m\u001b[43m)\u001b[49m\n\u001b[32m     89\u001b[39m \u001b[38;5;28;01mreturn\u001b[39;00m \u001b[38;5;28;01mTrue\u001b[39;00m\n",
      "\u001b[36mFile \u001b[39m\u001b[32mc:\\Users\\sowmy\\anaconda3\\envs\\langgraph\\Lib\\site-packages\\langgraph\\graph\\message.py:36\u001b[39m, in \u001b[36m_add_messages_wrapper.<locals>._add_messages\u001b[39m\u001b[34m(left, right, **kwargs)\u001b[39m\n\u001b[32m     32\u001b[39m \u001b[38;5;28;01mdef\u001b[39;00m\u001b[38;5;250m \u001b[39m\u001b[34m_add_messages\u001b[39m(\n\u001b[32m     33\u001b[39m     left: Optional[Messages] = \u001b[38;5;28;01mNone\u001b[39;00m, right: Optional[Messages] = \u001b[38;5;28;01mNone\u001b[39;00m, **kwargs: Any\n\u001b[32m     34\u001b[39m ) -> Union[Messages, Callable[[Messages, Messages], Messages]]:\n\u001b[32m     35\u001b[39m     \u001b[38;5;28;01mif\u001b[39;00m left \u001b[38;5;129;01mis\u001b[39;00m \u001b[38;5;129;01mnot\u001b[39;00m \u001b[38;5;28;01mNone\u001b[39;00m \u001b[38;5;129;01mand\u001b[39;00m right \u001b[38;5;129;01mis\u001b[39;00m \u001b[38;5;129;01mnot\u001b[39;00m \u001b[38;5;28;01mNone\u001b[39;00m:\n\u001b[32m---> \u001b[39m\u001b[32m36\u001b[39m         \u001b[38;5;28;01mreturn\u001b[39;00m \u001b[43mfunc\u001b[49m\u001b[43m(\u001b[49m\u001b[43mleft\u001b[49m\u001b[43m,\u001b[49m\u001b[43m \u001b[49m\u001b[43mright\u001b[49m\u001b[43m,\u001b[49m\u001b[43m \u001b[49m\u001b[43m*\u001b[49m\u001b[43m*\u001b[49m\u001b[43mkwargs\u001b[49m\u001b[43m)\u001b[49m\n\u001b[32m     37\u001b[39m     \u001b[38;5;28;01melif\u001b[39;00m left \u001b[38;5;129;01mis\u001b[39;00m \u001b[38;5;129;01mnot\u001b[39;00m \u001b[38;5;28;01mNone\u001b[39;00m \u001b[38;5;129;01mor\u001b[39;00m right \u001b[38;5;129;01mis\u001b[39;00m \u001b[38;5;129;01mnot\u001b[39;00m \u001b[38;5;28;01mNone\u001b[39;00m:\n\u001b[32m     38\u001b[39m         msg = (\n\u001b[32m     39\u001b[39m             \u001b[33mf\u001b[39m\u001b[33m\"\u001b[39m\u001b[33mMust specify non-null arguments for both \u001b[39m\u001b[33m'\u001b[39m\u001b[33mleft\u001b[39m\u001b[33m'\u001b[39m\u001b[33m and \u001b[39m\u001b[33m'\u001b[39m\u001b[33mright\u001b[39m\u001b[33m'\u001b[39m\u001b[33m. Only \u001b[39m\u001b[33m\"\u001b[39m\n\u001b[32m     40\u001b[39m             \u001b[33mf\u001b[39m\u001b[33m\"\u001b[39m\u001b[33mreceived: \u001b[39m\u001b[33m'\u001b[39m\u001b[38;5;132;01m{\u001b[39;00m\u001b[33m'\u001b[39m\u001b[33mleft\u001b[39m\u001b[33m'\u001b[39m\u001b[38;5;250m \u001b[39m\u001b[38;5;28;01mif\u001b[39;00m\u001b[38;5;250m \u001b[39mleft\u001b[38;5;250m \u001b[39m\u001b[38;5;28;01melse\u001b[39;00m\u001b[38;5;250m \u001b[39m\u001b[33m'\u001b[39m\u001b[33mright\u001b[39m\u001b[33m'\u001b[39m\u001b[38;5;132;01m}\u001b[39;00m\u001b[33m'\u001b[39m\u001b[33m.\u001b[39m\u001b[33m\"\u001b[39m\n\u001b[32m     41\u001b[39m         )\n",
      "\u001b[36mFile \u001b[39m\u001b[32mc:\\Users\\sowmy\\anaconda3\\envs\\langgraph\\Lib\\site-packages\\langgraph\\graph\\message.py:173\u001b[39m, in \u001b[36madd_messages\u001b[39m\u001b[34m(left, right, format)\u001b[39m\n\u001b[32m    166\u001b[39m \u001b[38;5;66;03m# coerce to message\u001b[39;00m\n\u001b[32m    167\u001b[39m left = [\n\u001b[32m    168\u001b[39m     message_chunk_to_message(cast(BaseMessageChunk, m))\n\u001b[32m    169\u001b[39m     \u001b[38;5;28;01mfor\u001b[39;00m m \u001b[38;5;129;01min\u001b[39;00m convert_to_messages(left)\n\u001b[32m    170\u001b[39m ]\n\u001b[32m    171\u001b[39m right = [\n\u001b[32m    172\u001b[39m     message_chunk_to_message(cast(BaseMessageChunk, m))\n\u001b[32m--> \u001b[39m\u001b[32m173\u001b[39m     \u001b[38;5;28;01mfor\u001b[39;00m m \u001b[38;5;129;01min\u001b[39;00m \u001b[43mconvert_to_messages\u001b[49m\u001b[43m(\u001b[49m\u001b[43mright\u001b[49m\u001b[43m)\u001b[49m\n\u001b[32m    174\u001b[39m ]\n\u001b[32m    175\u001b[39m \u001b[38;5;66;03m# assign missing ids\u001b[39;00m\n\u001b[32m    176\u001b[39m \u001b[38;5;28;01mfor\u001b[39;00m m \u001b[38;5;129;01min\u001b[39;00m left:\n",
      "\u001b[36mFile \u001b[39m\u001b[32mc:\\Users\\sowmy\\anaconda3\\envs\\langgraph\\Lib\\site-packages\\langchain_core\\messages\\utils.py:367\u001b[39m, in \u001b[36mconvert_to_messages\u001b[39m\u001b[34m(messages)\u001b[39m\n\u001b[32m    365\u001b[39m \u001b[38;5;28;01mif\u001b[39;00m \u001b[38;5;28misinstance\u001b[39m(messages, PromptValue):\n\u001b[32m    366\u001b[39m     \u001b[38;5;28;01mreturn\u001b[39;00m messages.to_messages()\n\u001b[32m--> \u001b[39m\u001b[32m367\u001b[39m \u001b[38;5;28;01mreturn\u001b[39;00m [\u001b[43m_convert_to_message\u001b[49m\u001b[43m(\u001b[49m\u001b[43mm\u001b[49m\u001b[43m)\u001b[49m \u001b[38;5;28;01mfor\u001b[39;00m m \u001b[38;5;129;01min\u001b[39;00m messages]\n",
      "\u001b[36mFile \u001b[39m\u001b[32mc:\\Users\\sowmy\\anaconda3\\envs\\langgraph\\Lib\\site-packages\\langchain_core\\messages\\utils.py:346\u001b[39m, in \u001b[36m_convert_to_message\u001b[39m\u001b[34m(message)\u001b[39m\n\u001b[32m    344\u001b[39m     msg = \u001b[33mf\u001b[39m\u001b[33m\"\u001b[39m\u001b[33mUnsupported message type: \u001b[39m\u001b[38;5;132;01m{\u001b[39;00m\u001b[38;5;28mtype\u001b[39m(message)\u001b[38;5;132;01m}\u001b[39;00m\u001b[33m\"\u001b[39m\n\u001b[32m    345\u001b[39m     msg = create_message(message=msg, error_code=ErrorCode.MESSAGE_COERCION_FAILURE)\n\u001b[32m--> \u001b[39m\u001b[32m346\u001b[39m     \u001b[38;5;28;01mraise\u001b[39;00m \u001b[38;5;167;01mNotImplementedError\u001b[39;00m(msg)\n\u001b[32m    348\u001b[39m \u001b[38;5;28;01mreturn\u001b[39;00m _message\n",
      "\u001b[31mNotImplementedError\u001b[39m: Unsupported message type: <class 'list'>\nFor troubleshooting, visit: https://python.langchain.com/docs/troubleshooting/errors/MESSAGE_COERCION_FAILURE "
     ]
    }
   ],
   "source": [
    "from langchain_core.messages import HumanMessage\n",
    "\n",
    "# app.invoke({\"messages\": [\"cause for air crash\"]})\n",
    "\n",
    "app.invoke({\"messages\": [\"current president of india?\"]})"
   ]
  },
  {
   "cell_type": "code",
   "execution_count": null,
   "id": "fc5d4572",
   "metadata": {},
   "outputs": [],
   "source": []
  },
  {
   "cell_type": "code",
   "execution_count": null,
   "id": "609e7c10",
   "metadata": {},
   "outputs": [],
   "source": []
  }
 ],
 "metadata": {
  "kernelspec": {
   "display_name": "langgraph",
   "language": "python",
   "name": "python3"
  },
  "language_info": {
   "codemirror_mode": {
    "name": "ipython",
    "version": 3
   },
   "file_extension": ".py",
   "mimetype": "text/x-python",
   "name": "python",
   "nbconvert_exporter": "python",
   "pygments_lexer": "ipython3",
   "version": "3.12.0"
  }
 },
 "nbformat": 4,
 "nbformat_minor": 5
}
