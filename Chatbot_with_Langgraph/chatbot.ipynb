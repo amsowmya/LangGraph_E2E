{
 "cells": [
  {
   "cell_type": "code",
   "execution_count": 1,
   "id": "f25c23ea",
   "metadata": {},
   "outputs": [],
   "source": [
    "import os \n",
    "from dotenv import load_dotenv\n",
    "from langchain_groq.chat_models import ChatGroq\n",
    "from langgraph.graph import StateGraph, START, END\n",
    "from langgraph.checkpoint.memory import MemorySaver\n",
    "from langgraph.graph.message import MessagesState\n",
    "from langchain_core.tools import tool\n",
    "from langgraph.prebuilt import ToolNode"
   ]
  },
  {
   "cell_type": "code",
   "execution_count": 2,
   "id": "560e4e51",
   "metadata": {},
   "outputs": [],
   "source": [
    "groq_api_key = os.getenv('GROQ_API_KEY')\n",
    "\n",
    "llm = ChatGroq(groq_api_key=groq_api_key, model=\"llama-3.3-70b-versatile\")"
   ]
  },
  {
   "cell_type": "code",
   "execution_count": 3,
   "id": "9d084291",
   "metadata": {},
   "outputs": [],
   "source": [
    "@tool \n",
    "def search(query: str):\n",
    "    \"\"\"This method will give the weather details\"\"\"\n",
    "    if \"sf\" in query.lower() or \"san francisco\" in query.lower():\n",
    "        return \"it's cool with -10 degree\"\n",
    "    else:\n",
    "        return \"it' hot with 90 degree\""
   ]
  },
  {
   "cell_type": "code",
   "execution_count": 4,
   "id": "c9e2534c",
   "metadata": {},
   "outputs": [
    {
     "data": {
      "text/plain": [
       "\"it' hot with 90 degree\""
      ]
     },
     "execution_count": 4,
     "metadata": {},
     "output_type": "execute_result"
    }
   ],
   "source": [
    "search.invoke(\"hi\")"
   ]
  },
  {
   "cell_type": "code",
   "execution_count": 5,
   "id": "6c43be31",
   "metadata": {},
   "outputs": [],
   "source": [
    "tools = [search]"
   ]
  },
  {
   "cell_type": "code",
   "execution_count": 6,
   "id": "37e6769d",
   "metadata": {},
   "outputs": [],
   "source": [
    "llm_with_tool = llm.bind_tools(tools)"
   ]
  },
  {
   "cell_type": "code",
   "execution_count": 7,
   "id": "eaeec81c",
   "metadata": {},
   "outputs": [],
   "source": [
    "def call_model(state: MessagesState):\n",
    "    messages = state['messages']\n",
    "    response = llm_with_tool.invoke(messages)\n",
    "    return {\"messages\": [response]}"
   ]
  },
  {
   "cell_type": "code",
   "execution_count": 8,
   "id": "e9eef8b3",
   "metadata": {},
   "outputs": [],
   "source": [
    "response = call_model({\"messages\": [\"hi\"]})"
   ]
  },
  {
   "cell_type": "code",
   "execution_count": 9,
   "id": "e9519c90",
   "metadata": {},
   "outputs": [],
   "source": [
    "messages = response['messages']"
   ]
  },
  {
   "cell_type": "code",
   "execution_count": 10,
   "id": "f63a9fb9",
   "metadata": {},
   "outputs": [
    {
     "data": {
      "text/plain": [
       "[AIMessage(content=\"I'm here to help. Is there something I can help you with, or would you like to know more about the available functions, such as the 'search' function for weather details?\", additional_kwargs={}, response_metadata={'token_usage': {'completion_tokens': 39, 'prompt_tokens': 213, 'total_tokens': 252, 'completion_time': 0.141818182, 'prompt_time': 0.0132784, 'queue_time': 0.04919313, 'total_time': 0.155096582}, 'model_name': 'llama-3.3-70b-versatile', 'system_fingerprint': 'fp_2ddfbb0da0', 'finish_reason': 'stop', 'logprobs': None}, id='run--8c16451d-4f31-4a68-b6e4-240e97eecfdc-0', usage_metadata={'input_tokens': 213, 'output_tokens': 39, 'total_tokens': 252})]"
      ]
     },
     "execution_count": 10,
     "metadata": {},
     "output_type": "execute_result"
    }
   ],
   "source": [
    "messages"
   ]
  },
  {
   "cell_type": "code",
   "execution_count": 11,
   "id": "da0ffd05",
   "metadata": {},
   "outputs": [
    {
     "data": {
      "text/plain": [
       "[]"
      ]
     },
     "execution_count": 11,
     "metadata": {},
     "output_type": "execute_result"
    }
   ],
   "source": [
    "last_message = messages[-1]\n",
    "last_message.tool_calls"
   ]
  },
  {
   "cell_type": "code",
   "execution_count": 12,
   "id": "4b8af7ce",
   "metadata": {},
   "outputs": [
    {
     "data": {
      "text/plain": [
       "{'messages': [AIMessage(content='<function=search {\"query\": \"India weather\"} </function>', additional_kwargs={}, response_metadata={'token_usage': {'completion_tokens': 14, 'prompt_tokens': 219, 'total_tokens': 233, 'completion_time': 0.050909091, 'prompt_time': 0.014340327, 'queue_time': 0.056709279, 'total_time': 0.065249418}, 'model_name': 'llama-3.3-70b-versatile', 'system_fingerprint': 'fp_e8c9074fa2', 'finish_reason': 'stop', 'logprobs': None}, id='run--4455ad11-8fae-4987-b78b-9733d0df0e69-0', usage_metadata={'input_tokens': 219, 'output_tokens': 14, 'total_tokens': 233})]}"
      ]
     },
     "execution_count": 12,
     "metadata": {},
     "output_type": "execute_result"
    }
   ],
   "source": [
    "call_model({\"messages\": [\"what's the weather in India?\"]})"
   ]
  },
  {
   "cell_type": "code",
   "execution_count": 13,
   "id": "c68ed64f",
   "metadata": {},
   "outputs": [],
   "source": [
    "from typing import Literal\n",
    "\n",
    "def router(state: MessagesState) -> Literal[\"tool\", END]:\n",
    "    messages = state['messages']\n",
    "    last_message = messages[-1]\n",
    "    if last_message.tool_calls:\n",
    "        return \"tools\"\n",
    "    else:\n",
    "        return END"
   ]
  },
  {
   "cell_type": "code",
   "execution_count": 14,
   "id": "1da983c1",
   "metadata": {},
   "outputs": [],
   "source": [
    "workflow = StateGraph(MessagesState)\n",
    "\n",
    "workflow.add_node(\"agent\", call_model)\n",
    "workflow.add_node(\"tools\", ToolNode(tools))\n",
    "\n",
    "workflow.add_edge(START, \"agent\")\n",
    "\n",
    "workflow.add_conditional_edges(\n",
    "    \"agent\",\n",
    "    router,\n",
    "    {\n",
    "        \"tools\": \"tools\",\n",
    "        END: END\n",
    "    }\n",
    ")\n",
    "\n",
    "app = workflow.compile()"
   ]
  },
  {
   "cell_type": "code",
   "execution_count": 15,
   "id": "7b7c5dd6",
   "metadata": {},
   "outputs": [
    {
     "data": {
      "image/png": "[encoded data removed]",
      "text/plain": [
       "<IPython.core.display.Image object>"
      ]
     },
     "metadata": {},
     "output_type": "display_data"
    }
   ],
   "source": [
    "from IPython.display import Image, display\n",
    "display(Image(app.get_graph().draw_mermaid_png()))"
   ]
  },
  {
   "cell_type": "code",
   "execution_count": 16,
   "id": "1110b4f7",
   "metadata": {},
   "outputs": [
    {
     "data": {
      "text/plain": [
       "{'messages': [HumanMessage(content='hi', additional_kwargs={}, response_metadata={}, id='246684e3-96e6-48b5-ae54-bf1007c8611d'),\n",
       "  AIMessage(content='Hello, how can I help you today?', additional_kwargs={}, response_metadata={'token_usage': {'completion_tokens': 10, 'prompt_tokens': 213, 'total_tokens': 223, 'completion_time': 0.038344936, 'prompt_time': 0.012990493, 'queue_time': 0.049170815, 'total_time': 0.051335429}, 'model_name': 'llama-3.3-70b-versatile', 'system_fingerprint': 'fp_2ddfbb0da0', 'finish_reason': 'stop', 'logprobs': None}, id='run--c5746f29-507d-438a-9005-cbb5ae9e97a5-0', usage_metadata={'input_tokens': 213, 'output_tokens': 10, 'total_tokens': 223})]}"
      ]
     },
     "execution_count": 16,
     "metadata": {},
     "output_type": "execute_result"
    }
   ],
   "source": [
    "app.invoke({\"messages\": [\"hi\"]})"
   ]
  },
  {
   "cell_type": "code",
   "execution_count": 17,
   "id": "34d4d0f2",
   "metadata": {},
   "outputs": [
    {
     "name": "stdout",
     "output_type": "stream",
     "text": [
      "Node: agent\n",
      "{'messages': [AIMessage(content='', additional_kwargs={'tool_calls': [{'id': 'call_spae', 'function': {'arguments': '{\"query\":\"San Francisco weather\"}', 'name': 'search'}, 'type': 'function'}]}, response_metadata={'token_usage': {'completion_tokens': 15, 'prompt_tokens': 218, 'total_tokens': 233, 'completion_time': 0.054545455, 'prompt_time': 0.013213268, 'queue_time': 0.04973267000000001, 'total_time': 0.067758723}, 'model_name': 'llama-3.3-70b-versatile', 'system_fingerprint': 'fp_3f3b593e33', 'finish_reason': 'tool_calls', 'logprobs': None}, id='run--cebf3f22-7e20-40cf-961e-da95a58449f9-0', tool_calls=[{'name': 'search', 'args': {'query': 'San Francisco weather'}, 'id': 'call_spae', 'type': 'tool_call'}], usage_metadata={'input_tokens': 218, 'output_tokens': 15, 'total_tokens': 233})]}\n",
      "--\n",
      "Node: tools\n",
      "{'messages': [ToolMessage(content=\"it's cool with -10 degree\", name='search', id='807b066a-8199-4502-b7ca-9bb2feab9ea2', tool_call_id='call_spae')]}\n",
      "--\n"
     ]
    }
   ],
   "source": [
    "for events in app.stream({\"messages\": [\"what the weather in sf?\"]}):\n",
    "    for key, value in events.items():\n",
    "        print(f\"Node: {key}\")\n",
    "        print(value)\n",
    "        print(\"--\")"
   ]
  },
  {
   "cell_type": "code",
   "execution_count": 28,
   "id": "5929c367",
   "metadata": {},
   "outputs": [],
   "source": [
    "events = app.stream({\"messages\": [\"what the weather in india?\"]}, stream_mode=\"values\")"
   ]
  },
  {
   "cell_type": "code",
   "execution_count": 29,
   "id": "a452c2a6",
   "metadata": {},
   "outputs": [
    {
     "name": "stdout",
     "output_type": "stream",
     "text": [
      "================================\u001b[1m Human Message \u001b[0m=================================\n",
      "\n",
      "what the weather in india?\n",
      "==================================\u001b[1m Ai Message \u001b[0m==================================\n",
      "Tool Calls:\n",
      "  search (call_w89j)\n",
      " Call ID: call_w89j\n",
      "  Args:\n",
      "    query: India weather\n",
      "=================================\u001b[1m Tool Message \u001b[0m=================================\n",
      "Name: search\n",
      "\n",
      "it' hot with 90 degree\n"
     ]
    }
   ],
   "source": [
    "for event in events:\n",
    "    event['messages'][-1].pretty_print()"
   ]
  },
  {
   "cell_type": "code",
   "execution_count": 36,
   "id": "ba960528",
   "metadata": {},
   "outputs": [],
   "source": [
    "workflow = StateGraph(MessagesState)\n",
    "\n",
    "workflow.add_node(\"agent\", call_model)\n",
    "workflow.add_node(\"tools\", ToolNode(tools))\n",
    "\n",
    "workflow.add_edge(START, \"agent\")\n",
    "workflow.add_edge(\"tools\", \"agent\")\n",
    "\n",
    "workflow.add_conditional_edges(\n",
    "    \"agent\",\n",
    "    router,\n",
    "    {\n",
    "        \"tools\": \"tools\",\n",
    "        END: END\n",
    "    }\n",
    ")\n",
    "\n",
    "app = workflow.compile()"
   ]
  },
  {
   "cell_type": "code",
   "execution_count": 37,
   "id": "743d5f24",
   "metadata": {},
   "outputs": [
    {
     "data": {
      "image/png": "[encoded data removed]",
      "text/plain": [
       "<IPython.core.display.Image object>"
      ]
     },
     "metadata": {},
     "output_type": "display_data"
    }
   ],
   "source": [
    "from IPython.display import Image, display\n",
    "display(Image(app.get_graph().draw_mermaid_png()))"
   ]
  },
  {
   "cell_type": "code",
   "execution_count": 38,
   "id": "79e09951",
   "metadata": {},
   "outputs": [
    {
     "data": {
      "text/plain": [
       "{'messages': [HumanMessage(content='hi, this is sam', additional_kwargs={}, response_metadata={}, id='d864a648-1dbf-4833-8d95-b4a51c4bc6a9'),\n",
       "  AIMessage(content=\"Hello Sam, it's nice to meet you. Is there something I can help you with or would you like to chat?\", additional_kwargs={}, response_metadata={'token_usage': {'completion_tokens': 26, 'prompt_tokens': 217, 'total_tokens': 243, 'completion_time': 0.094545455, 'prompt_time': 0.013697771, 'queue_time': 0.049795037, 'total_time': 0.108243226}, 'model_name': 'llama-3.3-70b-versatile', 'system_fingerprint': 'fp_3f3b593e33', 'finish_reason': 'stop', 'logprobs': None}, id='run--7ddc0756-158f-41b1-99c3-4e93866634f5-0', usage_metadata={'input_tokens': 217, 'output_tokens': 26, 'total_tokens': 243})]}"
      ]
     },
     "execution_count": 38,
     "metadata": {},
     "output_type": "execute_result"
    }
   ],
   "source": [
    "app.invoke({\"messages\": [\"hi, this is sam\"]})"
   ]
  },
  {
   "cell_type": "code",
   "execution_count": 39,
   "id": "f78bf2e0",
   "metadata": {},
   "outputs": [
    {
     "name": "stdout",
     "output_type": "stream",
     "text": [
      "Node: agent\n",
      "{'messages': [AIMessage(content='', additional_kwargs={'tool_calls': [{'id': 'call_xc9e', 'function': {'arguments': '{\"query\":\"prime minister of Russia\"}', 'name': 'search'}, 'type': 'function'}]}, response_metadata={'token_usage': {'completion_tokens': 16, 'prompt_tokens': 441, 'total_tokens': 457, 'completion_time': 0.088098034, 'prompt_time': 0.035581832, 'queue_time': -0.087184994, 'total_time': 0.123679866}, 'model_name': 'llama-3.3-70b-versatile', 'system_fingerprint': 'fp_2ddfbb0da0', 'finish_reason': 'tool_calls', 'logprobs': None}, id='run--036a0441-0fe8-432f-bee5-e3f2645f79ec-0', tool_calls=[{'name': 'search', 'args': {'query': 'prime minister of Russia'}, 'id': 'call_xc9e', 'type': 'tool_call'}], usage_metadata={'input_tokens': 441, 'output_tokens': 16, 'total_tokens': 457})]}\n",
      "---\n",
      "Node: tools\n",
      "{'messages': [ToolMessage(content=\"it' hot with 90 degree\", name='search', id='f5002f1d-4bee-4374-a7c2-b6a0db720e66', tool_call_id='call_xc9e')]}\n",
      "---\n",
      "Node: agent\n",
      "{'messages': [AIMessage(content='', additional_kwargs={'tool_calls': [{'id': 'call_9x13', 'function': {'arguments': '{\"query\":\"weather 90 degrees\"}', 'name': 'search'}, 'type': 'function'}]}, response_metadata={'token_usage': {'completion_tokens': 16, 'prompt_tokens': 507, 'total_tokens': 523, 'completion_time': 0.058181818, 'prompt_time': 0.032959321, 'queue_time': -0.071184158, 'total_time': 0.091141139}, 'model_name': 'llama-3.3-70b-versatile', 'system_fingerprint': 'fp_2ddfbb0da0', 'finish_reason': 'tool_calls', 'logprobs': None}, id='run--c37970ec-713a-4669-a99b-867c16f63adc-0', tool_calls=[{'name': 'search', 'args': {'query': 'weather 90 degrees'}, 'id': 'call_9x13', 'type': 'tool_call'}], usage_metadata={'input_tokens': 507, 'output_tokens': 16, 'total_tokens': 523})]}\n",
      "---\n",
      "Node: tools\n",
      "{'messages': [ToolMessage(content=\"it' hot with 90 degree\", name='search', id='c8f5d9dd-6ee7-4435-9a74-e680906ed044', tool_call_id='call_9x13')]}\n",
      "---\n",
      "Node: agent\n",
      "{'messages': [AIMessage(content='', additional_kwargs={'tool_calls': [{'id': 'call_xk2f', 'function': {'arguments': '{\"query\":\"weather forecast for today\"}', 'name': 'search'}, 'type': 'function'}]}, response_metadata={'token_usage': {'completion_tokens': 16, 'prompt_tokens': 287, 'total_tokens': 303, 'completion_time': 0.058181818, 'prompt_time': 0.020248634, 'queue_time': 0.050437116000000004, 'total_time': 0.078430452}, 'model_name': 'llama-3.3-70b-versatile', 'system_fingerprint': 'fp_2ddfbb0da0', 'finish_reason': 'tool_calls', 'logprobs': None}, id='run--d83f9a9d-92d8-4eb7-a58f-7b90472904ec-0', tool_calls=[{'name': 'search', 'args': {'query': 'weather forecast for today'}, 'id': 'call_xk2f', 'type': 'tool_call'}], usage_metadata={'input_tokens': 287, 'output_tokens': 16, 'total_tokens': 303})]}\n",
      "---\n",
      "Node: tools\n",
      "{'messages': [ToolMessage(content=\"it' hot with 90 degree\", name='search', id='8bfa4cd8-37e3-4915-92f1-2a64671bbc0e', tool_call_id='call_xk2f')]}\n",
      "---\n",
      "Node: agent\n",
      "{'messages': [AIMessage(content='', additional_kwargs={'tool_calls': [{'id': 'call_7pbs', 'function': {'arguments': '{\"query\":\"current weather\"}', 'name': 'search'}, 'type': 'function'}]}, response_metadata={'token_usage': {'completion_tokens': 14, 'prompt_tokens': 320, 'total_tokens': 334, 'completion_time': 0.050909091, 'prompt_time': 0.02003656, 'queue_time': 0.050558825, 'total_time': 0.070945651}, 'model_name': 'llama-3.3-70b-versatile', 'system_fingerprint': 'fp_3f3b593e33', 'finish_reason': 'tool_calls', 'logprobs': None}, id='run--ca73b59b-c6c1-42f9-b95f-ee7f239e4dbd-0', tool_calls=[{'name': 'search', 'args': {'query': 'current weather'}, 'id': 'call_7pbs', 'type': 'tool_call'}], usage_metadata={'input_tokens': 320, 'output_tokens': 14, 'total_tokens': 334})]}\n",
      "---\n",
      "Node: tools\n",
      "{'messages': [ToolMessage(content=\"it' hot with 90 degree\", name='search', id='79a828b4-4d13-42bb-a1d8-37dd4f5be83b', tool_call_id='call_7pbs')]}\n",
      "---\n",
      "Node: agent\n",
      "{'messages': [AIMessage(content='', additional_kwargs={'tool_calls': [{'id': 'call_wp3m', 'function': {'arguments': '{\"query\":\"temperature over 90 degrees\"}', 'name': 'search'}, 'type': 'function'}]}, response_metadata={'token_usage': {'completion_tokens': 17, 'prompt_tokens': 351, 'total_tokens': 368, 'completion_time': 0.061818182, 'prompt_time': 0.029461211, 'queue_time': 0.04984076899999999, 'total_time': 0.091279393}, 'model_name': 'llama-3.3-70b-versatile', 'system_fingerprint': 'fp_2ddfbb0da0', 'finish_reason': 'tool_calls', 'logprobs': None}, id='run--65d4b6c9-cf6f-4c6d-9df1-f9f49601f534-0', tool_calls=[{'name': 'search', 'args': {'query': 'temperature over 90 degrees'}, 'id': 'call_wp3m', 'type': 'tool_call'}], usage_metadata={'input_tokens': 351, 'output_tokens': 17, 'total_tokens': 368})]}\n",
      "---\n",
      "Node: tools\n",
      "{'messages': [ToolMessage(content=\"it' hot with 90 degree\", name='search', id='a7ba6f34-d360-4e5d-a8bf-f40b9c2ec50a', tool_call_id='call_wp3m')]}\n",
      "---\n",
      "Node: agent\n",
      "{'messages': [AIMessage(content='', additional_kwargs={'tool_calls': [{'id': 'call_zwnf', 'function': {'arguments': '{\"query\":\"heat wave\"}', 'name': 'search'}, 'type': 'function'}]}, response_metadata={'token_usage': {'completion_tokens': 14, 'prompt_tokens': 385, 'total_tokens': 399, 'completion_time': 0.056163391, 'prompt_time': 0.024742063, 'queue_time': 0.050409341, 'total_time': 0.080905454}, 'model_name': 'llama-3.3-70b-versatile', 'system_fingerprint': 'fp_2ddfbb0da0', 'finish_reason': 'tool_calls', 'logprobs': None}, id='run--6e86221a-c784-41da-94ff-8e7a77d352c3-0', tool_calls=[{'name': 'search', 'args': {'query': 'heat wave'}, 'id': 'call_zwnf', 'type': 'tool_call'}], usage_metadata={'input_tokens': 385, 'output_tokens': 14, 'total_tokens': 399})]}\n",
      "---\n",
      "Node: tools\n",
      "{'messages': [ToolMessage(content=\"it' hot with 90 degree\", name='search', id='d01c13a6-7481-4f7d-aa85-598922061da2', tool_call_id='call_zwnf')]}\n",
      "---\n",
      "Node: agent\n",
      "{'messages': [AIMessage(content='', additional_kwargs={'tool_calls': [{'id': 'call_5eyj', 'function': {'arguments': '{\"query\":\"weather above 90 degrees\"}', 'name': 'search'}, 'type': 'function'}]}, response_metadata={'token_usage': {'completion_tokens': 17, 'prompt_tokens': 416, 'total_tokens': 433, 'completion_time': 0.061818182, 'prompt_time': 0.052769889, 'queue_time': 0.049433925000000004, 'total_time': 0.114588071}, 'model_name': 'llama-3.3-70b-versatile', 'system_fingerprint': 'fp_2ddfbb0da0', 'finish_reason': 'tool_calls', 'logprobs': None}, id='run--7cf49d0a-7395-431b-a641-6d8bacb07549-0', tool_calls=[{'name': 'search', 'args': {'query': 'weather above 90 degrees'}, 'id': 'call_5eyj', 'type': 'tool_call'}], usage_metadata={'input_tokens': 416, 'output_tokens': 17, 'total_tokens': 433})]}\n",
      "---\n",
      "Node: tools\n",
      "{'messages': [ToolMessage(content=\"it' hot with 90 degree\", name='search', id='6263454e-3976-40e2-b9ad-a18599340ce3', tool_call_id='call_5eyj')]}\n",
      "---\n",
      "Node: agent\n",
      "{'messages': [AIMessage(content='', additional_kwargs={'tool_calls': [{'id': 'call_5zq5', 'function': {'arguments': '{\"query\":\"high temperature\"}', 'name': 'search'}, 'type': 'function'}]}, response_metadata={'token_usage': {'completion_tokens': 14, 'prompt_tokens': 450, 'total_tokens': 464, 'completion_time': 0.050909091, 'prompt_time': 0.029457842, 'queue_time': 0.049908388, 'total_time': 0.080366933}, 'model_name': 'llama-3.3-70b-versatile', 'system_fingerprint': 'fp_3f3b593e33', 'finish_reason': 'tool_calls', 'logprobs': None}, id='run--f23f466e-ad84-41c5-9940-8b92745961f2-0', tool_calls=[{'name': 'search', 'args': {'query': 'high temperature'}, 'id': 'call_5zq5', 'type': 'tool_call'}], usage_metadata={'input_tokens': 450, 'output_tokens': 14, 'total_tokens': 464})]}\n",
      "---\n",
      "Node: tools\n",
      "{'messages': [ToolMessage(content=\"it' hot with 90 degree\", name='search', id='15dfc3f2-a9c4-468e-9dba-af8ae2b14d4c', tool_call_id='call_5zq5')]}\n",
      "---\n",
      "Node: agent\n",
      "{'messages': [AIMessage(content='', additional_kwargs={'tool_calls': [{'id': 'call_kzea', 'function': {'arguments': '{\"query\":\"weather forecast extreme heat\"}', 'name': 'search'}, 'type': 'function'}]}, response_metadata={'token_usage': {'completion_tokens': 16, 'prompt_tokens': 481, 'total_tokens': 497, 'completion_time': 0.058181818, 'prompt_time': 0.06940282, 'queue_time': 0.05103204, 'total_time': 0.127584638}, 'model_name': 'llama-3.3-70b-versatile', 'system_fingerprint': 'fp_3f3b593e33', 'finish_reason': 'tool_calls', 'logprobs': None}, id='run--82ca3d71-acb0-4679-958b-7dfc594563cf-0', tool_calls=[{'name': 'search', 'args': {'query': 'weather forecast extreme heat'}, 'id': 'call_kzea', 'type': 'tool_call'}], usage_metadata={'input_tokens': 481, 'output_tokens': 16, 'total_tokens': 497})]}\n",
      "---\n",
      "Node: tools\n",
      "{'messages': [ToolMessage(content=\"it' hot with 90 degree\", name='search', id='3eba5e11-fe97-4eb9-a660-202f80ca2c0a', tool_call_id='call_kzea')]}\n",
      "---\n",
      "Node: agent\n",
      "{'messages': [AIMessage(content='', additional_kwargs={'tool_calls': [{'id': 'call_v9f9', 'function': {'arguments': '{\"query\":\"heat index over 90\"}', 'name': 'search'}, 'type': 'function'}]}, response_metadata={'token_usage': {'completion_tokens': 17, 'prompt_tokens': 514, 'total_tokens': 531, 'completion_time': 0.061818182, 'prompt_time': 0.034047418, 'queue_time': 0.05005833099999999, 'total_time': 0.0958656}, 'model_name': 'llama-3.3-70b-versatile', 'system_fingerprint': 'fp_3f3b593e33', 'finish_reason': 'tool_calls', 'logprobs': None}, id='run--5c772d6e-309a-46e8-b0a4-2cfc2b278c80-0', tool_calls=[{'name': 'search', 'args': {'query': 'heat index over 90'}, 'id': 'call_v9f9', 'type': 'tool_call'}], usage_metadata={'input_tokens': 514, 'output_tokens': 17, 'total_tokens': 531})]}\n",
      "---\n",
      "Node: tools\n",
      "{'messages': [ToolMessage(content=\"it' hot with 90 degree\", name='search', id='818ee2ba-a004-4652-8bac-180601a2d702', tool_call_id='call_v9f9')]}\n",
      "---\n",
      "Node: agent\n",
      "{'messages': [AIMessage(content='', additional_kwargs={'tool_calls': [{'id': 'call_2r6d', 'function': {'arguments': '{\"query\":\"temperature over 90\"}', 'name': 'search'}, 'type': 'function'}]}, response_metadata={'token_usage': {'completion_tokens': 16, 'prompt_tokens': 548, 'total_tokens': 564, 'completion_time': 0.058181818, 'prompt_time': 0.035181423, 'queue_time': 0.050398337, 'total_time': 0.093363241}, 'model_name': 'llama-3.3-70b-versatile', 'system_fingerprint': 'fp_3f3b593e33', 'finish_reason': 'tool_calls', 'logprobs': None}, id='run--38efd407-cc61-469d-a773-0af85375e388-0', tool_calls=[{'name': 'search', 'args': {'query': 'temperature over 90'}, 'id': 'call_2r6d', 'type': 'tool_call'}], usage_metadata={'input_tokens': 548, 'output_tokens': 16, 'total_tokens': 564})]}\n",
      "---\n",
      "Node: tools\n",
      "{'messages': [ToolMessage(content=\"it' hot with 90 degree\", name='search', id='233208b9-415f-4de9-8889-83012de0707a', tool_call_id='call_2r6d')]}\n",
      "---\n",
      "Node: agent\n",
      "{'messages': [AIMessage(content='', additional_kwargs={'tool_calls': [{'id': 'call_ynwq', 'function': {'arguments': '{\"query\":\"current weather conditions\"}', 'name': 'search'}, 'type': 'function'}]}, response_metadata={'token_usage': {'completion_tokens': 15, 'prompt_tokens': 581, 'total_tokens': 596, 'completion_time': 0.054545455, 'prompt_time': 0.070704584, 'queue_time': 0.049301583999999996, 'total_time': 0.125250039}, 'model_name': 'llama-3.3-70b-versatile', 'system_fingerprint': 'fp_3f3b593e33', 'finish_reason': 'tool_calls', 'logprobs': None}, id='run--ee387a7a-872d-42fc-b333-a5dc7b6dd228-0', tool_calls=[{'name': 'search', 'args': {'query': 'current weather conditions'}, 'id': 'call_ynwq', 'type': 'tool_call'}], usage_metadata={'input_tokens': 581, 'output_tokens': 15, 'total_tokens': 596})]}\n",
      "---\n",
      "Node: tools\n",
      "{'messages': [ToolMessage(content=\"it' hot with 90 degree\", name='search', id='2c289235-9d99-4284-b915-7f5b804e2059', tool_call_id='call_ynwq')]}\n",
      "---\n",
      "Node: agent\n",
      "{'messages': [AIMessage(content='', additional_kwargs={'tool_calls': [{'id': 'call_bq8h', 'function': {'arguments': '{\"query\":\"weather updates\"}', 'name': 'search'}, 'type': 'function'}]}, response_metadata={'token_usage': {'completion_tokens': 14, 'prompt_tokens': 613, 'total_tokens': 627, 'completion_time': 0.050909091, 'prompt_time': 0.047364011, 'queue_time': 0.051090355000000004, 'total_time': 0.098273102}, 'model_name': 'llama-3.3-70b-versatile', 'system_fingerprint': 'fp_3f3b593e33', 'finish_reason': 'tool_calls', 'logprobs': None}, id='run--37a99cdc-c9ab-4bfc-9f22-e712f678a3d1-0', tool_calls=[{'name': 'search', 'args': {'query': 'weather updates'}, 'id': 'call_bq8h', 'type': 'tool_call'}], usage_metadata={'input_tokens': 613, 'output_tokens': 14, 'total_tokens': 627})]}\n",
      "---\n"
     ]
    },
    {
     "ename": "GraphRecursionError",
     "evalue": "Recursion limit of 25 reached without hitting a stop condition. You can increase the limit by setting the `recursion_limit` config key.\nFor troubleshooting, visit: https://python.langchain.com/docs/troubleshooting/errors/GRAPH_RECURSION_LIMIT",
     "output_type": "error",
     "traceback": [
      "\u001b[31m---------------------------------------------------------------------------\u001b[39m",
      "\u001b[31mGraphRecursionError\u001b[39m                       Traceback (most recent call last)",
      "\u001b[36mCell\u001b[39m\u001b[36m \u001b[39m\u001b[32mIn[39]\u001b[39m\u001b[32m, line 1\u001b[39m\n\u001b[32m----> \u001b[39m\u001b[32m1\u001b[39m \u001b[38;5;28;43;01mfor\u001b[39;49;00m\u001b[43m \u001b[49m\u001b[43mevents\u001b[49m\u001b[43m \u001b[49m\u001b[38;5;129;43;01min\u001b[39;49;00m\u001b[43m \u001b[49m\u001b[43mapp\u001b[49m\u001b[43m.\u001b[49m\u001b[43mstream\u001b[49m\u001b[43m(\u001b[49m\u001b[43m{\u001b[49m\u001b[33;43m\"\u001b[39;49m\u001b[33;43mmessages\u001b[39;49m\u001b[33;43m\"\u001b[39;49m\u001b[43m:\u001b[49m\u001b[43m \u001b[49m\u001b[43m[\u001b[49m\u001b[33;43m\"\u001b[39;49m\u001b[33;43mwho is the prime minister of rasia?\u001b[39;49m\u001b[33;43m\"\u001b[39;49m\u001b[43m]\u001b[49m\u001b[43m}\u001b[49m\u001b[43m)\u001b[49m\u001b[43m:\u001b[49m\n\u001b[32m      2\u001b[39m \u001b[43m    \u001b[49m\u001b[38;5;28;43;01mfor\u001b[39;49;00m\u001b[43m \u001b[49m\u001b[43mkey\u001b[49m\u001b[43m,\u001b[49m\u001b[43m \u001b[49m\u001b[43mvalue\u001b[49m\u001b[43m \u001b[49m\u001b[38;5;129;43;01min\u001b[39;49;00m\u001b[43m \u001b[49m\u001b[43mevents\u001b[49m\u001b[43m.\u001b[49m\u001b[43mitems\u001b[49m\u001b[43m(\u001b[49m\u001b[43m)\u001b[49m\u001b[43m:\u001b[49m\n\u001b[32m      3\u001b[39m \u001b[43m        \u001b[49m\u001b[38;5;28;43mprint\u001b[39;49m\u001b[43m(\u001b[49m\u001b[33;43mf\u001b[39;49m\u001b[33;43m\"\u001b[39;49m\u001b[33;43mNode: \u001b[39;49m\u001b[38;5;132;43;01m{\u001b[39;49;00m\u001b[43mkey\u001b[49m\u001b[38;5;132;43;01m}\u001b[39;49;00m\u001b[33;43m\"\u001b[39;49m\u001b[43m)\u001b[49m\n",
      "\u001b[36mFile \u001b[39m\u001b[32mc:\\Users\\sowmy\\anaconda3\\envs\\langgraph\\Lib\\site-packages\\langgraph\\pregel\\__init__.py:2013\u001b[39m, in \u001b[36mPregel.stream\u001b[39m\u001b[34m(self, input, config, stream_mode, output_keys, interrupt_before, interrupt_after, debug, subgraphs)\u001b[39m\n\u001b[32m   2004\u001b[39m \u001b[38;5;28;01mif\u001b[39;00m loop.status == \u001b[33m\"\u001b[39m\u001b[33mout_of_steps\u001b[39m\u001b[33m\"\u001b[39m:\n\u001b[32m   2005\u001b[39m     msg = create_error_message(\n\u001b[32m   2006\u001b[39m         message=(\n\u001b[32m   2007\u001b[39m             \u001b[33mf\u001b[39m\u001b[33m\"\u001b[39m\u001b[33mRecursion limit of \u001b[39m\u001b[38;5;132;01m{\u001b[39;00mconfig[\u001b[33m'\u001b[39m\u001b[33mrecursion_limit\u001b[39m\u001b[33m'\u001b[39m]\u001b[38;5;132;01m}\u001b[39;00m\u001b[33m reached \u001b[39m\u001b[33m\"\u001b[39m\n\u001b[32m   (...)\u001b[39m\u001b[32m   2011\u001b[39m         error_code=ErrorCode.GRAPH_RECURSION_LIMIT,\n\u001b[32m   2012\u001b[39m     )\n\u001b[32m-> \u001b[39m\u001b[32m2013\u001b[39m     \u001b[38;5;28;01mraise\u001b[39;00m GraphRecursionError(msg)\n\u001b[32m   2014\u001b[39m \u001b[38;5;66;03m# set final channel values as run output\u001b[39;00m\n\u001b[32m   2015\u001b[39m run_manager.on_chain_end(loop.output)\n",
      "\u001b[31mGraphRecursionError\u001b[39m: Recursion limit of 25 reached without hitting a stop condition. You can increase the limit by setting the `recursion_limit` config key.\nFor troubleshooting, visit: https://python.langchain.com/docs/troubleshooting/errors/GRAPH_RECURSION_LIMIT"
     ]
    }
   ],
   "source": [
    "for events in app.stream({\"messages\": [\"who is the prime minister of rasia?\"]}):\n",
    "    for key, value in events.items():\n",
    "        print(f\"Node: {key}\")\n",
    "        print(value)\n",
    "        print(\"---\")"
   ]
  },
  {
   "cell_type": "code",
   "execution_count": 40,
   "id": "56557580",
   "metadata": {},
   "outputs": [
    {
     "name": "stdout",
     "output_type": "stream",
     "text": [
      "================================\u001b[1m Human Message \u001b[0m=================================\n",
      "\n",
      "who is the prime minister of india?\n",
      "==================================\u001b[1m Ai Message \u001b[0m==================================\n",
      "Tool Calls:\n",
      "  search (call_1brt)\n",
      " Call ID: call_1brt\n",
      "  Args:\n",
      "    query: Prime Minister of India\n",
      "=================================\u001b[1m Tool Message \u001b[0m=================================\n",
      "Name: search\n",
      "\n",
      "it' hot with 90 degree\n",
      "==================================\u001b[1m Ai Message \u001b[0m==================================\n",
      "Tool Calls:\n",
      "  search (call_q9w2)\n",
      " Call ID: call_q9w2\n",
      "  Args:\n",
      "    query: weather details for 90 degree temperature\n",
      "=================================\u001b[1m Tool Message \u001b[0m=================================\n",
      "Name: search\n",
      "\n",
      "it' hot with 90 degree\n",
      "==================================\u001b[1m Ai Message \u001b[0m==================================\n",
      "Tool Calls:\n",
      "  search (call_4sh2)\n",
      " Call ID: call_4sh2\n",
      "  Args:\n",
      "    query: weather forecast for hot temperature\n",
      "=================================\u001b[1m Tool Message \u001b[0m=================================\n",
      "Name: search\n",
      "\n",
      "it' hot with 90 degree\n",
      "==================================\u001b[1m Ai Message \u001b[0m==================================\n",
      "Tool Calls:\n",
      "  search (call_bh89)\n",
      " Call ID: call_bh89\n",
      "  Args:\n",
      "    query: current weather for 90 degree temperature\n",
      "=================================\u001b[1m Tool Message \u001b[0m=================================\n",
      "Name: search\n",
      "\n",
      "it' hot with 90 degree\n",
      "==================================\u001b[1m Ai Message \u001b[0m==================================\n",
      "Tool Calls:\n",
      "  search (call_95h1)\n",
      " Call ID: call_95h1\n",
      "  Args:\n",
      "    query: weather update for hot temperature\n",
      "=================================\u001b[1m Tool Message \u001b[0m=================================\n",
      "Name: search\n",
      "\n",
      "it' hot with 90 degree\n",
      "==================================\u001b[1m Ai Message \u001b[0m==================================\n",
      "Tool Calls:\n",
      "  search (call_pmzr)\n",
      " Call ID: call_pmzr\n",
      "  Args:\n",
      "    query: temperature above 90 degree weather\n",
      "=================================\u001b[1m Tool Message \u001b[0m=================================\n",
      "Name: search\n",
      "\n",
      "it' hot with 90 degree\n",
      "==================================\u001b[1m Ai Message \u001b[0m==================================\n",
      "Tool Calls:\n",
      "  search (call_dde6)\n",
      " Call ID: call_dde6\n",
      "  Args:\n",
      "    query: weather when it is 90 degrees outside\n",
      "=================================\u001b[1m Tool Message \u001b[0m=================================\n",
      "Name: search\n",
      "\n",
      "it' hot with 90 degree\n",
      "==================================\u001b[1m Ai Message \u001b[0m==================================\n",
      "Tool Calls:\n",
      "  search (call_a5zd)\n",
      " Call ID: call_a5zd\n",
      "  Args:\n",
      "    query: current weather at 90 degrees\n",
      "=================================\u001b[1m Tool Message \u001b[0m=================================\n",
      "Name: search\n",
      "\n",
      "it' hot with 90 degree\n",
      "==================================\u001b[1m Ai Message \u001b[0m==================================\n",
      "Tool Calls:\n",
      "  search (call_eq78)\n",
      " Call ID: call_eq78\n",
      "  Args:\n",
      "    query: weather forecast for temperature above 90 degrees\n",
      "=================================\u001b[1m Tool Message \u001b[0m=================================\n",
      "Name: search\n",
      "\n",
      "it' hot with 90 degree\n",
      "==================================\u001b[1m Ai Message \u001b[0m==================================\n",
      "Tool Calls:\n",
      "  search (call_4kys)\n",
      " Call ID: call_4kys\n",
      "  Args:\n",
      "    query: 90 degree weather conditions\n",
      "=================================\u001b[1m Tool Message \u001b[0m=================================\n",
      "Name: search\n",
      "\n",
      "it' hot with 90 degree\n",
      "==================================\u001b[1m Ai Message \u001b[0m==================================\n",
      "Tool Calls:\n",
      "  search (call_jegc)\n",
      " Call ID: call_jegc\n",
      "  Args:\n",
      "    query: weather details when temperature is 90 degrees\n",
      "=================================\u001b[1m Tool Message \u001b[0m=================================\n",
      "Name: search\n",
      "\n",
      "it' hot with 90 degree\n",
      "==================================\u001b[1m Ai Message \u001b[0m==================================\n",
      "Tool Calls:\n",
      "  search (call_bsnm)\n",
      " Call ID: call_bsnm\n",
      "  Args:\n",
      "    query: current weather for temperature above 90 degrees\n",
      "=================================\u001b[1m Tool Message \u001b[0m=================================\n",
      "Name: search\n",
      "\n",
      "it' hot with 90 degree\n",
      "==================================\u001b[1m Ai Message \u001b[0m==================================\n",
      "Tool Calls:\n",
      "  search (call_ndwc)\n",
      " Call ID: call_ndwc\n",
      "  Args:\n",
      "    query: weather update for hot temperature above 90 degrees\n"
     ]
    },
    {
     "ename": "GraphRecursionError",
     "evalue": "Recursion limit of 25 reached without hitting a stop condition. You can increase the limit by setting the `recursion_limit` config key.\nFor troubleshooting, visit: https://python.langchain.com/docs/troubleshooting/errors/GRAPH_RECURSION_LIMIT",
     "output_type": "error",
     "traceback": [
      "\u001b[31m---------------------------------------------------------------------------\u001b[39m",
      "\u001b[31mGraphRecursionError\u001b[39m                       Traceback (most recent call last)",
      "\u001b[36mCell\u001b[39m\u001b[36m \u001b[39m\u001b[32mIn[40]\u001b[39m\u001b[32m, line 3\u001b[39m\n\u001b[32m      1\u001b[39m events = app.stream({\u001b[33m\"\u001b[39m\u001b[33mmessages\u001b[39m\u001b[33m\"\u001b[39m: [\u001b[33m\"\u001b[39m\u001b[33mwho is the prime minister of india?\u001b[39m\u001b[33m\"\u001b[39m]}, stream_mode=\u001b[33m\"\u001b[39m\u001b[33mvalues\u001b[39m\u001b[33m\"\u001b[39m)\n\u001b[32m----> \u001b[39m\u001b[32m3\u001b[39m \u001b[38;5;28;43;01mfor\u001b[39;49;00m\u001b[43m \u001b[49m\u001b[43mevent\u001b[49m\u001b[43m \u001b[49m\u001b[38;5;129;43;01min\u001b[39;49;00m\u001b[43m \u001b[49m\u001b[43mevents\u001b[49m\u001b[43m:\u001b[49m\n\u001b[32m      4\u001b[39m \u001b[43m    \u001b[49m\u001b[43mevent\u001b[49m\u001b[43m[\u001b[49m\u001b[33;43m'\u001b[39;49m\u001b[33;43mmessages\u001b[39;49m\u001b[33;43m'\u001b[39;49m\u001b[43m]\u001b[49m\u001b[43m[\u001b[49m\u001b[43m-\u001b[49m\u001b[32;43m1\u001b[39;49m\u001b[43m]\u001b[49m\u001b[43m.\u001b[49m\u001b[43mpretty_print\u001b[49m\u001b[43m(\u001b[49m\u001b[43m)\u001b[49m\n",
      "\u001b[36mFile \u001b[39m\u001b[32mc:\\Users\\sowmy\\anaconda3\\envs\\langgraph\\Lib\\site-packages\\langgraph\\pregel\\__init__.py:2013\u001b[39m, in \u001b[36mPregel.stream\u001b[39m\u001b[34m(self, input, config, stream_mode, output_keys, interrupt_before, interrupt_after, debug, subgraphs)\u001b[39m\n\u001b[32m   2004\u001b[39m \u001b[38;5;28;01mif\u001b[39;00m loop.status == \u001b[33m\"\u001b[39m\u001b[33mout_of_steps\u001b[39m\u001b[33m\"\u001b[39m:\n\u001b[32m   2005\u001b[39m     msg = create_error_message(\n\u001b[32m   2006\u001b[39m         message=(\n\u001b[32m   2007\u001b[39m             \u001b[33mf\u001b[39m\u001b[33m\"\u001b[39m\u001b[33mRecursion limit of \u001b[39m\u001b[38;5;132;01m{\u001b[39;00mconfig[\u001b[33m'\u001b[39m\u001b[33mrecursion_limit\u001b[39m\u001b[33m'\u001b[39m]\u001b[38;5;132;01m}\u001b[39;00m\u001b[33m reached \u001b[39m\u001b[33m\"\u001b[39m\n\u001b[32m   (...)\u001b[39m\u001b[32m   2011\u001b[39m         error_code=ErrorCode.GRAPH_RECURSION_LIMIT,\n\u001b[32m   2012\u001b[39m     )\n\u001b[32m-> \u001b[39m\u001b[32m2013\u001b[39m     \u001b[38;5;28;01mraise\u001b[39;00m GraphRecursionError(msg)\n\u001b[32m   2014\u001b[39m \u001b[38;5;66;03m# set final channel values as run output\u001b[39;00m\n\u001b[32m   2015\u001b[39m run_manager.on_chain_end(loop.output)\n",
      "\u001b[31mGraphRecursionError\u001b[39m: Recursion limit of 25 reached without hitting a stop condition. You can increase the limit by setting the `recursion_limit` config key.\nFor troubleshooting, visit: https://python.langchain.com/docs/troubleshooting/errors/GRAPH_RECURSION_LIMIT"
     ]
    }
   ],
   "source": [
    "events = app.stream({\"messages\": [\"who is the prime minister of india?\"]}, stream_mode=\"values\")\n",
    "\n",
    "for event in events:\n",
    "    event['messages'][-1].pretty_print()"
   ]
  },
  {
   "cell_type": "code",
   "execution_count": null,
   "id": "b4bb5c38",
   "metadata": {},
   "outputs": [],
   "source": []
  },
  {
   "cell_type": "markdown",
   "id": "8fd961e0",
   "metadata": {},
   "source": [
    "#### Adding memory"
   ]
  },
  {
   "cell_type": "code",
   "execution_count": 42,
   "id": "e5d79fc0",
   "metadata": {},
   "outputs": [],
   "source": [
    "memory = MemorySaver()"
   ]
  },
  {
   "cell_type": "code",
   "execution_count": 43,
   "id": "fae03ae8",
   "metadata": {},
   "outputs": [],
   "source": [
    "workflow = StateGraph(MessagesState)\n",
    "\n",
    "workflow.add_node(\"agent\", call_model)\n",
    "workflow.add_node(\"tools\", ToolNode(tools))\n",
    "\n",
    "workflow.add_edge(START, \"agent\")\n",
    "workflow.add_edge(\"tools\", \"agent\")\n",
    "\n",
    "workflow.add_conditional_edges(\n",
    "    \"agent\",\n",
    "    router,\n",
    "    {\n",
    "        \"tools\": \"tools\",\n",
    "        END: END\n",
    "    }\n",
    ")\n",
    "\n",
    "app = workflow.compile(checkpointer=memory)"
   ]
  },
  {
   "cell_type": "code",
   "execution_count": 44,
   "id": "445acfb2",
   "metadata": {},
   "outputs": [],
   "source": [
    "config = {\"configurable\": {\"thread_id\": \"1\"}}"
   ]
  },
  {
   "cell_type": "code",
   "execution_count": 45,
   "id": "67305a6d",
   "metadata": {},
   "outputs": [],
   "source": [
    "events = app.stream({\"messages\": [\"hi i am sam. An AI Engineer\"]}, config=config, stream_mode=\"values\")"
   ]
  },
  {
   "cell_type": "code",
   "execution_count": 46,
   "id": "5e6d14bd",
   "metadata": {},
   "outputs": [
    {
     "name": "stdout",
     "output_type": "stream",
     "text": [
      "================================\u001b[1m Human Message \u001b[0m=================================\n",
      "\n",
      "hi i am sam. An AI Engineer\n",
      "==================================\u001b[1m Ai Message \u001b[0m==================================\n",
      "\n",
      "It's nice to meet you, Sam. As an AI engineer, you must be working on some interesting projects. What brings you here today? Do you have any questions or topics related to AI or weather that you'd like to discuss?\n"
     ]
    }
   ],
   "source": [
    "for event in events:\n",
    "    event['messages'][-1].pretty_print()"
   ]
  },
  {
   "cell_type": "code",
   "execution_count": 47,
   "id": "1c3f5aa6",
   "metadata": {},
   "outputs": [],
   "source": [
    "events = app.stream({\"messages\": [\"who am i?\"]}, config=config, stream_mode=\"values\")"
   ]
  },
  {
   "cell_type": "code",
   "execution_count": 48,
   "id": "23633f4a",
   "metadata": {},
   "outputs": [
    {
     "name": "stdout",
     "output_type": "stream",
     "text": [
      "================================\u001b[1m Human Message \u001b[0m=================================\n",
      "\n",
      "who am i?\n",
      "==================================\u001b[1m Ai Message \u001b[0m==================================\n",
      "\n",
      "You are Sam, an AI Engineer.\n"
     ]
    }
   ],
   "source": [
    "for event in events:\n",
    "    event['messages'][-1].pretty_print()"
   ]
  },
  {
   "cell_type": "code",
   "execution_count": null,
   "id": "80b397d1",
   "metadata": {},
   "outputs": [],
   "source": []
  }
 ],
 "metadata": {
  "kernelspec": {
   "display_name": "langgraph",
   "language": "python",
   "name": "python3"
  },
  "language_info": {
   "codemirror_mode": {
    "name": "ipython",
    "version": 3
   },
   "file_extension": ".py",
   "mimetype": "text/x-python",
   "name": "python",
   "nbconvert_exporter": "python",
   "pygments_lexer": "ipython3",
   "version": "3.12.0"
  }
 },
 "nbformat": 4,
 "nbformat_minor": 5
}
