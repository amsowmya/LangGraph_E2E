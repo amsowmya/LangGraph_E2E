{
 "cells": [
  {
   "cell_type": "code",
   "execution_count": 1,
   "id": "49b69529",
   "metadata": {},
   "outputs": [
    {
     "data": {
      "text/plain": [
       "True"
      ]
     },
     "execution_count": 1,
     "metadata": {},
     "output_type": "execute_result"
    }
   ],
   "source": [
    "from langchain_google_genai import ChatGoogleGenerativeAI\n",
    "from langchain_google_genai import GoogleGenerativeAIEmbeddings\n",
    "from langchain_groq.chat_models import ChatGroq\n",
    "from langgraph.graph import Graph\n",
    "import os\n",
    "from dotenv import load_dotenv\n",
    "\n",
    "load_dotenv()"
   ]
  },
  {
   "cell_type": "code",
   "execution_count": 2,
   "id": "5e2b46ff",
   "metadata": {},
   "outputs": [],
   "source": [
    "def function1(input):\n",
    "    return input + \" this is from function1 \""
   ]
  },
  {
   "cell_type": "code",
   "execution_count": 3,
   "id": "bc264607",
   "metadata": {},
   "outputs": [],
   "source": [
    "def function2(input):\n",
    "    return input + \" and added the function2\""
   ]
  },
  {
   "cell_type": "code",
   "execution_count": 4,
   "id": "bcb92c03",
   "metadata": {},
   "outputs": [],
   "source": [
    "workflow1 = Graph()\n",
    "\n",
    "workflow1.add_node(\"function1\", function1)\n",
    "workflow1.add_node(\"function2\", function2)\n",
    "\n",
    "workflow1.add_edge(\"function1\", \"function2\")\n",
    "\n",
    "workflow1.set_entry_point(\"function1\")\n",
    "workflow1.set_finish_point(\"function2\")\n",
    "\n",
    "app1 = workflow1.compile()"
   ]
  },
  {
   "cell_type": "code",
   "execution_count": 5,
   "id": "7eb3c6df",
   "metadata": {},
   "outputs": [
    {
     "data": {
      "image/png": "[encoded data removed]",
      "text/plain": [
       "<IPython.core.display.Image object>"
      ]
     },
     "metadata": {},
     "output_type": "display_data"
    }
   ],
   "source": [
    "from IPython.display import Image, display\n",
    "\n",
    "display(Image(app1.get_graph().draw_mermaid_png()))"
   ]
  },
  {
   "cell_type": "code",
   "execution_count": 6,
   "id": "01e7061d",
   "metadata": {},
   "outputs": [
    {
     "data": {
      "text/plain": [
       "'I am sam this is from function1  and added the function2'"
      ]
     },
     "execution_count": 6,
     "metadata": {},
     "output_type": "execute_result"
    }
   ],
   "source": [
    "app1.invoke(\"I am sam\")"
   ]
  },
  {
   "cell_type": "code",
   "execution_count": 7,
   "id": "e4646bb9",
   "metadata": {},
   "outputs": [
    {
     "name": "stdout",
     "output_type": "stream",
     "text": [
      "Node name: function1\n",
      "This is sam this is from function1 \n",
      "---\n",
      "Node name: function2\n",
      "This is sam this is from function1  and added the function2\n",
      "---\n"
     ]
    }
   ],
   "source": [
    "for event in app1.stream(\"This is sam\"):\n",
    "    for key, value in event.items():\n",
    "        print(f\"Node name: {key}\")\n",
    "        print(value)\n",
    "        print(\"---\")"
   ]
  },
  {
   "cell_type": "markdown",
   "id": "1d083746",
   "metadata": {},
   "source": [
    "##### Scenario 2:"
   ]
  },
  {
   "cell_type": "code",
   "execution_count": 8,
   "id": "ecb4a6f7",
   "metadata": {},
   "outputs": [],
   "source": [
    "def function3():\n",
    "    return \" from Australia from function3\""
   ]
  },
  {
   "cell_type": "code",
   "execution_count": 9,
   "id": "fef5ae8e",
   "metadata": {},
   "outputs": [],
   "source": [
    "def function1(input):\n",
    "    return input + \" this is from function1 \""
   ]
  },
  {
   "cell_type": "code",
   "execution_count": 10,
   "id": "041204c9",
   "metadata": {},
   "outputs": [],
   "source": [
    "def function2(input):\n",
    "    output = function3()\n",
    "    return input + output + \" and added the function2\""
   ]
  },
  {
   "cell_type": "code",
   "execution_count": 11,
   "id": "5b2449cd",
   "metadata": {},
   "outputs": [],
   "source": [
    "workflow1 = Graph()\n",
    "\n",
    "workflow1.add_node(\"function1\", function1)\n",
    "workflow1.add_node(\"function2\", function2)\n",
    "\n",
    "workflow1.add_edge(\"function1\", \"function2\")\n",
    "\n",
    "workflow1.set_entry_point(\"function1\")\n",
    "workflow1.set_finish_point(\"function2\")\n",
    "\n",
    "app1 = workflow1.compile()"
   ]
  },
  {
   "cell_type": "code",
   "execution_count": 12,
   "id": "5155b70c",
   "metadata": {},
   "outputs": [
    {
     "data": {
      "image/png": "[encoded data removed]",
      "text/plain": [
       "<IPython.core.display.Image object>"
      ]
     },
     "metadata": {},
     "output_type": "display_data"
    }
   ],
   "source": [
    "from IPython.display import Image, display\n",
    "\n",
    "display(Image(app1.get_graph().draw_mermaid_png()))"
   ]
  },
  {
   "cell_type": "code",
   "execution_count": 13,
   "id": "5dda834b",
   "metadata": {},
   "outputs": [
    {
     "data": {
      "text/plain": [
       "'I am sam this is from function1  from Australia from function3 and added the function2'"
      ]
     },
     "execution_count": 13,
     "metadata": {},
     "output_type": "execute_result"
    }
   ],
   "source": [
    "app1.invoke(\"I am sam\")"
   ]
  },
  {
   "cell_type": "code",
   "execution_count": 14,
   "id": "bcc4b480",
   "metadata": {},
   "outputs": [
    {
     "name": "stdout",
     "output_type": "stream",
     "text": [
      "Node name: function1\n",
      "This is sam this is from function1 \n",
      "---\n",
      "Node name: function2\n",
      "This is sam this is from function1  from Australia from function3 and added the function2\n",
      "---\n"
     ]
    }
   ],
   "source": [
    "for event in app1.stream(\"This is sam\"):\n",
    "    for key, value in event.items():\n",
    "        print(f\"Node name: {key}\")\n",
    "        print(value)\n",
    "        print(\"---\")"
   ]
  },
  {
   "cell_type": "markdown",
   "id": "e264433a",
   "metadata": {},
   "source": [
    "##### Scenario 3:"
   ]
  },
  {
   "cell_type": "code",
   "execution_count": 15,
   "id": "c5e6ea06",
   "metadata": {},
   "outputs": [
    {
     "data": {
      "text/plain": [
       "'Hi! 👋 \\n\\nHow can I help you today?\\n'"
      ]
     },
     "execution_count": 15,
     "metadata": {},
     "output_type": "execute_result"
    }
   ],
   "source": [
    "groq_api_key = os.getenv('GROQ_API_KEY')\n",
    "\n",
    "llm = ChatGroq(groq_api_key=groq_api_key, model=\"gemma2-9b-it\")\n",
    "llm.invoke(\"hi\").content"
   ]
  },
  {
   "cell_type": "code",
   "execution_count": 16,
   "id": "cf212e5d",
   "metadata": {},
   "outputs": [],
   "source": [
    "def chatbot(input):\n",
    "    llm = ChatGroq(groq_api_key=groq_api_key, model=\"gemma2-9b-it\")\n",
    "    return llm.invoke(input).content"
   ]
  },
  {
   "cell_type": "code",
   "execution_count": 17,
   "id": "1abe8803",
   "metadata": {},
   "outputs": [],
   "source": [
    "def upperCase(input):\n",
    "    return input.upper()"
   ]
  },
  {
   "cell_type": "code",
   "execution_count": 18,
   "id": "34538753",
   "metadata": {},
   "outputs": [],
   "source": [
    "workflow2 = Graph()\n",
    "\n",
    "workflow2.add_node(\"llm\", chatbot)\n",
    "workflow2.add_node(\"upper_case\", upperCase)\n",
    "\n",
    "workflow2.add_edge(\"llm\", \"upper_case\")\n",
    "\n",
    "workflow2.set_entry_point(\"llm\")\n",
    "workflow2.set_finish_point(\"upper_case\")\n",
    "\n",
    "app2 = workflow2.compile()"
   ]
  },
  {
   "cell_type": "code",
   "execution_count": 19,
   "id": "18ff6634",
   "metadata": {},
   "outputs": [
    {
     "data": {
      "image/png": "[encoded data removed]",
      "text/plain": [
       "<IPython.core.display.Image object>"
      ]
     },
     "metadata": {},
     "output_type": "display_data"
    }
   ],
   "source": [
    "from IPython.display import display, Image\n",
    "\n",
    "display(Image(app2.get_graph().draw_mermaid_png()))"
   ]
  },
  {
   "cell_type": "code",
   "execution_count": 20,
   "id": "66500983",
   "metadata": {},
   "outputs": [
    {
     "data": {
      "text/plain": [
       "'THE FIRST PRIME MINISTER OF INDIA WAS **JAWAHARLAL NEHRU**. \\n'"
      ]
     },
     "execution_count": 20,
     "metadata": {},
     "output_type": "execute_result"
    }
   ],
   "source": [
    "app2.invoke(\"Who is the first prime minister of india?\")"
   ]
  },
  {
   "cell_type": "code",
   "execution_count": 21,
   "id": "960f0ef8",
   "metadata": {},
   "outputs": [
    {
     "name": "stdout",
     "output_type": "stream",
     "text": [
      "Node name: llm\n",
      "The first Prime Minister of India was **Jawaharlal Nehru**. \n",
      "\n",
      "---\n",
      "Node name: upper_case\n",
      "THE FIRST PRIME MINISTER OF INDIA WAS **JAWAHARLAL NEHRU**. \n",
      "\n",
      "---\n"
     ]
    }
   ],
   "source": [
    "for output in app2.stream(\"Who is the first prime minister of india?\"):\n",
    "    for key, value in output.items():\n",
    "        print(f\"Node name: {key}\")\n",
    "        print(value)\n",
    "        print(\"---\")"
   ]
  },
  {
   "cell_type": "markdown",
   "id": "bdc47633",
   "metadata": {},
   "source": [
    "##### Scenario 4:"
   ]
  },
  {
   "cell_type": "code",
   "execution_count": 22,
   "id": "3f045df5",
   "metadata": {},
   "outputs": [],
   "source": [
    "def chatbot(input):\n",
    "    llm = ChatGroq(groq_api_key=groq_api_key, model=\"gemma2-9b-it\")\n",
    "    return llm.invoke(input).content"
   ]
  },
  {
   "cell_type": "code",
   "execution_count": 23,
   "id": "474f9e9f",
   "metadata": {},
   "outputs": [],
   "source": [
    "def countToken(input):\n",
    "    tokens = input.split()\n",
    "    return len(tokens)"
   ]
  },
  {
   "cell_type": "code",
   "execution_count": 24,
   "id": "10ee7e95",
   "metadata": {},
   "outputs": [],
   "source": [
    "workflow3 = Graph()\n",
    "\n",
    "workflow3.add_node(\"llm\", chatbot)\n",
    "workflow3.add_node(\"token_count\", countToken)\n",
    "\n",
    "workflow3.add_edge(\"llm\", \"token_count\")\n",
    "\n",
    "workflow3.set_entry_point(\"llm\")\n",
    "workflow3.set_finish_point(\"token_count\")\n",
    "\n",
    "app3 = workflow3.compile()"
   ]
  },
  {
   "cell_type": "code",
   "execution_count": 25,
   "id": "e6ba9fe7",
   "metadata": {},
   "outputs": [
    {
     "data": {
      "text/plain": [
       "9"
      ]
     },
     "execution_count": 25,
     "metadata": {},
     "output_type": "execute_result"
    }
   ],
   "source": [
    "app3.invoke(\"who is the current prime minister of india?\")"
   ]
  },
  {
   "cell_type": "code",
   "execution_count": 26,
   "id": "963be04d",
   "metadata": {},
   "outputs": [
    {
     "name": "stdout",
     "output_type": "stream",
     "text": [
      "Node name: llm\n",
      "The first Prime Minister of India was **Jawaharlal Nehru**. \n",
      "\n",
      "---\n",
      "Node name: token_count\n",
      "9\n",
      "---\n"
     ]
    }
   ],
   "source": [
    "for output in app3.stream(\"Who is the first prime minister of india?\"):\n",
    "    for key, value in output.items():\n",
    "        print(f\"Node name: {key}\")\n",
    "        print(value)\n",
    "        print(\"---\")"
   ]
  },
  {
   "cell_type": "markdown",
   "id": "59ecfcbc",
   "metadata": {},
   "source": [
    "#### RAG on LangGraph"
   ]
  },
  {
   "cell_type": "code",
   "execution_count": 27,
   "id": "85805a76",
   "metadata": {},
   "outputs": [
    {
     "data": {
      "text/plain": [
       "True"
      ]
     },
     "execution_count": 27,
     "metadata": {},
     "output_type": "execute_result"
    }
   ],
   "source": [
    "from langgraph.graph import StateGraph,  Graph\n",
    "from langgraph.graph.message import MessagesState\n",
    "from langchain_groq.chat_models import ChatGroq\n",
    "from langchain_community.document_loaders import DirectoryLoader, TextLoader\n",
    "from langchain_text_splitters import RecursiveCharacterTextSplitter\n",
    "from langchain_google_genai.embeddings import GoogleGenerativeAIEmbeddings\n",
    "from langchain_community.vectorstores import Chroma\n",
    "from dotenv import load_dotenv\n",
    "import os \n",
    "\n",
    "load_dotenv()"
   ]
  },
  {
   "cell_type": "code",
   "execution_count": 28,
   "id": "c5f4e693",
   "metadata": {},
   "outputs": [],
   "source": [
    "groq_api_key = os.getenv('GROQ_API_KEY')\n",
    "\n",
    "llm = ChatGroq(groq_api_key=groq_api_key, model=\"gemma2-9b-it\")\n",
    "\n",
    "embeddings = GoogleGenerativeAIEmbeddings(model=\"models/embedding-001\")"
   ]
  },
  {
   "cell_type": "code",
   "execution_count": 29,
   "id": "6d95fe3a",
   "metadata": {},
   "outputs": [
    {
     "data": {
      "text/plain": [
       "[Document(metadata={'source': '..\\\\data\\\\japan.txt'}, page_content=\"Japan's last four year GDP:\\n\\nYear\\tGDP\\n2022\\t$4,256.41B\\n2021\\t$5,034.62B\\n2020\\t$5,055.59B\\n2019\\t$5,117.99B\"),\n",
       " Document(metadata={'source': '..\\\\data\\\\japan.txt'}, page_content='Weaker exports, normally the engine for Japan\\'s economy in the face of weak domestic demand, had helped trigger a 0.1% contraction in the final three months of last year after two previous quarters of shrinking GDP. Only an exceptionally strong performance in the early months of 2004 kept the year as a whole from showing a decline. The output figures brought a cautiously optimistic response from economic officials. \"Overall I see a low risk of the economy falling into serious recession,\" said')]"
      ]
     },
     "execution_count": 29,
     "metadata": {},
     "output_type": "execute_result"
    }
   ],
   "source": [
    "loader = DirectoryLoader(\"../data\", glob=\"./*.txt\", loader_cls=TextLoader)\n",
    "docs = loader.load() \n",
    "\n",
    "splitter = RecursiveCharacterTextSplitter(chunk_size=500, chunk_overlap=50)\n",
    "documents = splitter.split_documents(docs)\n",
    "\n",
    "db = Chroma.from_documents(documents, embeddings)\n",
    "retriever = db.as_retriever(search_kwargs={\"k\": 2})\n",
    "\n",
    "retriever.invoke(\"what is the gdp of japan in 2022?\")"
   ]
  },
  {
   "cell_type": "code",
   "execution_count": 30,
   "id": "5493a421",
   "metadata": {},
   "outputs": [],
   "source": [
    "from typing import TypedDict, Annotated\n",
    "from langchain_core.messages import HumanMessage, BaseMessage, AnyMessage\n",
    "from langgraph.graph.message import add_messages\n",
    "from langchain_core.prompts import ChatPromptTemplate\n",
    "from langchain_core.output_parsers import StrOutputParser\n",
    "from langchain_core.runnables import RunnablePassthrough\n",
    "\n",
    "# class AgentState(TypedDict):\n",
    "#     Annotated[list[AnyMessage], add_messages]"
   ]
  },
  {
   "cell_type": "code",
   "execution_count": 31,
   "id": "a4cafac5",
   "metadata": {},
   "outputs": [],
   "source": [
    "AgentState = {}"
   ]
  },
  {
   "cell_type": "code",
   "execution_count": 32,
   "id": "95ac6df1",
   "metadata": {},
   "outputs": [],
   "source": [
    "AgentState['messages'] = []"
   ]
  },
  {
   "cell_type": "code",
   "execution_count": 33,
   "id": "ffadbb77",
   "metadata": {},
   "outputs": [
    {
     "data": {
      "text/plain": [
       "{'messages': []}"
      ]
     },
     "execution_count": 33,
     "metadata": {},
     "output_type": "execute_result"
    }
   ],
   "source": [
    "AgentState"
   ]
  },
  {
   "cell_type": "code",
   "execution_count": 34,
   "id": "10f349f6",
   "metadata": {},
   "outputs": [],
   "source": [
    "def chatbot(AgentState):\n",
    "    messages = AgentState['messages']\n",
    "    question = messages[-1]\n",
    "    \n",
    "    complete_prompt = \"You are a helpful assistant provide the answer based on the query: \" + question\n",
    "    \n",
    "    response = llm.invoke(complete_prompt).content \n",
    "    AgentState['messages'].append(response)\n",
    "    return AgentState  "
   ]
  },
  {
   "cell_type": "code",
   "execution_count": 35,
   "id": "30cd793c",
   "metadata": {},
   "outputs": [],
   "source": [
    "def rag(AgentState):\n",
    "    messages = AgentState['messages']\n",
    "    question = messages[0]\n",
    "    \n",
    "    template = \"\"\" You are a helpful assistant. provide the answer based on provided\n",
    "    context only {context}\n",
    "    \n",
    "    question: {query}\n",
    "    \"\"\"\n",
    "    \n",
    "    prompt = ChatPromptTemplate.from_template(template)\n",
    "    \n",
    "    chain = ({\"context\": retriever, \"query\": RunnablePassthrough()}\n",
    "             | prompt \n",
    "             | llm \n",
    "             | StrOutputParser()\n",
    "    )\n",
    "    response = chain.invoke(question) \n",
    "    AgentState['messages'].append(response)\n",
    "    return response\n",
    "    "
   ]
  },
  {
   "cell_type": "code",
   "execution_count": 36,
   "id": "257b0487",
   "metadata": {},
   "outputs": [],
   "source": [
    "workflow4 = Graph()\n",
    "\n",
    "workflow4.add_node(\"llm\", chatbot)\n",
    "workflow4.add_node(\"RAG\", rag)\n",
    "\n",
    "workflow4.add_edge(\"llm\", \"RAG\")\n",
    "\n",
    "workflow4.set_entry_point(\"llm\")\n",
    "workflow4.set_finish_point(\"RAG\")\n",
    "\n",
    "app4 = workflow4.compile()"
   ]
  },
  {
   "cell_type": "code",
   "execution_count": 37,
   "id": "9fde27ba",
   "metadata": {},
   "outputs": [
    {
     "data": {
      "image/png": "[encoded data removed]",
      "text/plain": [
       "<IPython.core.display.Image object>"
      ]
     },
     "metadata": {},
     "output_type": "display_data"
    }
   ],
   "source": [
    "from IPython.display import display, Image\n",
    "\n",
    "display(Image(app4.get_graph().draw_mermaid_png()))"
   ]
  },
  {
   "cell_type": "code",
   "execution_count": 38,
   "id": "dfeb6dfd",
   "metadata": {},
   "outputs": [
    {
     "data": {
      "text/plain": [
       "'$4,256.41B \\n'"
      ]
     },
     "execution_count": 38,
     "metadata": {},
     "output_type": "execute_result"
    }
   ],
   "source": [
    "app4.invoke({\"messages\": [\"what is the gdp of japan in 2022?\"]})"
   ]
  },
  {
   "cell_type": "code",
   "execution_count": 39,
   "id": "2a538f8f",
   "metadata": {},
   "outputs": [
    {
     "name": "stdout",
     "output_type": "stream",
     "text": [
      "Node: llm\n",
      "{'messages': ['what is the gdp of japan in 2022?', 'I do not have access to real-time information, including economic data like GDP. \\n\\nTo find the GDP of Japan in 2022, I recommend checking a reliable source such as:\\n\\n* **The World Bank:** https://data.worldbank.org/\\n* **The International Monetary Fund (IMF):** https://www.imf.org/en/Data\\n* **The Bank of Japan:** https://www.boj.or.jp/en/ \\n* **Trading Economics:** https://tradingeconomics.com/ \\n\\n\\nThese sources provide up-to-date and accurate economic data for various countries. \\n']}\n",
      "=====\n",
      "Node: RAG\n",
      "$4,256.41B \n",
      "\n",
      "=====\n"
     ]
    }
   ],
   "source": [
    "input = {\"messages\": [\"what is the gdp of japan in 2022?\"]}\n",
    "for events in app4.stream(input):\n",
    "    for key, value in events.items():\n",
    "        print(f\"Node: {key}\")\n",
    "        print(value)\n",
    "        print(\"=====\")"
   ]
  },
  {
   "cell_type": "markdown",
   "id": "596c2243",
   "metadata": {},
   "source": [
    "##### Adding conditional edges: "
   ]
  },
  {
   "cell_type": "code",
   "execution_count": 40,
   "id": "dd2c7468",
   "metadata": {},
   "outputs": [],
   "source": [
    "import os \n",
    "from dotenv import load_dotenv\n",
    "from langchain_community.document_loaders import DirectoryLoader, TextLoader\n",
    "from langchain_text_splitters import RecursiveCharacterTextSplitter\n",
    "from langchain_google_genai.embeddings import GoogleGenerativeAIEmbeddings\n",
    "from langchain_groq.chat_models import ChatGroq\n",
    "from langchain_community.vectorstores import Chroma\n",
    "from langchain_core.prompts import PromptTemplate, ChatPromptTemplate\n",
    "from langchain_core.output_parsers import PydanticOutputParser, StrOutputParser\n",
    "from pydantic import BaseModel, Field\n",
    "from langchain_core.runnables import RunnablePassthrough\n",
    "\n",
    "from langgraph.graph import StateGraph, START, END\n",
    "from langgraph.graph.message import add_messages, BaseMessage\n",
    "from typing import TypedDict, Annotated, Sequence"
   ]
  },
  {
   "cell_type": "code",
   "execution_count": 41,
   "id": "5cf8bccb",
   "metadata": {},
   "outputs": [],
   "source": [
    "groq_api_key = os.getenv('GROQ_API_KEY')\n",
    "\n",
    "llm = ChatGroq(groq_api_key=groq_api_key, model=\"gemma2-9b-it\")\n",
    "\n",
    "embeddings = GoogleGenerativeAIEmbeddings(model=\"models/embedding-001\")"
   ]
  },
  {
   "cell_type": "code",
   "execution_count": 42,
   "id": "5fd03c43",
   "metadata": {},
   "outputs": [],
   "source": [
    "class AgentState(TypedDict):\n",
    "    messages: Annotated[Sequence[BaseMessage], add_messages]"
   ]
  },
  {
   "cell_type": "code",
   "execution_count": 43,
   "id": "6aadd60c",
   "metadata": {},
   "outputs": [],
   "source": [
    "class TopicSelectionParser(BaseModel):\n",
    "    Topic: str = Field(description=\"Selected Topic name\")\n",
    "    Reasoning: str = Field(description=\"Reason behind topic selection\")"
   ]
  },
  {
   "cell_type": "code",
   "execution_count": 44,
   "id": "22b794eb",
   "metadata": {},
   "outputs": [],
   "source": [
    "def function1(AgentState):\n",
    "    print(\"<- Agent call ->\")\n",
    "    messages = AgentState['messages']\n",
    "    question = messages[0]\n",
    "    \n",
    "    parser = PydanticOutputParser(pydantic_object=TopicSelectionParser)\n",
    "    \n",
    "    template = \"\"\" \n",
    "    You are an helpful assistant, based on user query provide the category [\"Japan\", \"Not Japan\"].\n",
    "    Make sure the answer should be on those category. \n",
    "    question: {question}\n",
    "    \\n\\n {format_instructions}\n",
    "    \"\"\"\n",
    "    \n",
    "    prompt = PromptTemplate(\n",
    "        template=template,\n",
    "        input_variables=[\"question\"],\n",
    "        partial_variables={\"format_instructions\": parser.get_format_instructions()}\n",
    "    )\n",
    "    \n",
    "    chain = (\n",
    "        {\"question\": RunnablePassthrough()}\n",
    "        | prompt \n",
    "        | llm\n",
    "        | parser \n",
    "    )\n",
    "    \n",
    "    response = chain.invoke({\"question\": question})\n",
    "    print(response)\n",
    "    \n",
    "    return {\"messages\": [response.Topic]}"
   ]
  },
  {
   "cell_type": "code",
   "execution_count": 62,
   "id": "ac7f864f",
   "metadata": {},
   "outputs": [
    {
     "name": "stdout",
     "output_type": "stream",
     "text": [
      "<- Agent call ->\n",
      "Topic='Not Japan' Reasoning='The question is about the president of India, which is not related to Japan.'\n"
     ]
    },
    {
     "data": {
      "text/plain": [
       "{'messages': ['Not Japan']}"
      ]
     },
     "execution_count": 62,
     "metadata": {},
     "output_type": "execute_result"
    }
   ],
   "source": [
    "state = {\"messages\": [\"who is the president of india?\"]}\n",
    "\n",
    "function1(state)"
   ]
  },
  {
   "cell_type": "code",
   "execution_count": 63,
   "id": "dc6a0706",
   "metadata": {},
   "outputs": [],
   "source": [
    "def router(AgentState):\n",
    "    print(\"<- Route call ->\")\n",
    "    messages = AgentState['messages']\n",
    "    last_message = messages[-1]\n",
    "    print(last_message)\n",
    "\n",
    "    if 'Japan' in last_message.content:\n",
    "        return 'RAG Call'\n",
    "    else:\n",
    "        return 'LLM Call'"
   ]
  },
  {
   "cell_type": "code",
   "execution_count": 71,
   "id": "a7c2f878",
   "metadata": {},
   "outputs": [],
   "source": [
    "def function2(AgentState):\n",
    "    print(\"<- RAG call ->\")\n",
    "    messages = AgentState['messages']\n",
    "    question = messages[0]\n",
    "    \n",
    "    template = \"\"\" \n",
    "    You are a helpful assistant.Answer the following question based on provided\n",
    "    context only : {context}\n",
    "    \n",
    "    question: {query}\n",
    "    \"\"\"\n",
    "    prompt = ChatPromptTemplate.from_template(template)\n",
    "    \n",
    "    chain = (\n",
    "        {\"context\": retriever, \"query\": RunnablePassthrough()}\n",
    "        | prompt \n",
    "        | llm \n",
    "        | StrOutputParser()\n",
    "    )\n",
    "    \n",
    "    print(\"RAG Q ____________ \", question)\n",
    "    \n",
    "    response = chain.invoke(question.content)\n",
    "    \n",
    "    return {\"messages\": [response]}"
   ]
  },
  {
   "cell_type": "code",
   "execution_count": 72,
   "id": "0c71c292",
   "metadata": {},
   "outputs": [
    {
     "name": "stdout",
     "output_type": "stream",
     "text": [
      "<- RAG call ->\n",
      "RAG Q ____________  what is the gdp of japan in 2022?\n"
     ]
    },
    {
     "ename": "AttributeError",
     "evalue": "'str' object has no attribute 'content'",
     "output_type": "error",
     "traceback": [
      "\u001b[31m---------------------------------------------------------------------------\u001b[39m",
      "\u001b[31mAttributeError\u001b[39m                            Traceback (most recent call last)",
      "\u001b[36mCell\u001b[39m\u001b[36m \u001b[39m\u001b[32mIn[72]\u001b[39m\u001b[32m, line 3\u001b[39m\n\u001b[32m      1\u001b[39m state = {\u001b[33m\"\u001b[39m\u001b[33mmessages\u001b[39m\u001b[33m\"\u001b[39m: [\u001b[33m\"\u001b[39m\u001b[33mwhat is the gdp of japan in 2022?\u001b[39m\u001b[33m\"\u001b[39m]}\n\u001b[32m----> \u001b[39m\u001b[32m3\u001b[39m \u001b[43mfunction2\u001b[49m\u001b[43m(\u001b[49m\u001b[43mstate\u001b[49m\u001b[43m)\u001b[49m\n",
      "\u001b[36mCell\u001b[39m\u001b[36m \u001b[39m\u001b[32mIn[71]\u001b[39m\u001b[32m, line 23\u001b[39m, in \u001b[36mfunction2\u001b[39m\u001b[34m(AgentState)\u001b[39m\n\u001b[32m     14\u001b[39m chain = (\n\u001b[32m     15\u001b[39m     {\u001b[33m\"\u001b[39m\u001b[33mcontext\u001b[39m\u001b[33m\"\u001b[39m: retriever, \u001b[33m\"\u001b[39m\u001b[33mquery\u001b[39m\u001b[33m\"\u001b[39m: RunnablePassthrough()}\n\u001b[32m     16\u001b[39m     | prompt \n\u001b[32m     17\u001b[39m     | llm \n\u001b[32m     18\u001b[39m     | StrOutputParser()\n\u001b[32m     19\u001b[39m )\n\u001b[32m     21\u001b[39m \u001b[38;5;28mprint\u001b[39m(\u001b[33m\"\u001b[39m\u001b[33mRAG Q ____________ \u001b[39m\u001b[33m\"\u001b[39m, question)\n\u001b[32m---> \u001b[39m\u001b[32m23\u001b[39m response = chain.invoke(\u001b[43mquestion\u001b[49m\u001b[43m.\u001b[49m\u001b[43mcontent\u001b[49m)\n\u001b[32m     25\u001b[39m \u001b[38;5;28;01mreturn\u001b[39;00m {\u001b[33m\"\u001b[39m\u001b[33mmessages\u001b[39m\u001b[33m\"\u001b[39m: [response]}\n",
      "\u001b[31mAttributeError\u001b[39m: 'str' object has no attribute 'content'"
     ]
    }
   ],
   "source": [
    "state = {\"messages\": [\"what is the gdp of japan in 2022?\"]}\n",
    "\n",
    "function2(state)"
   ]
  },
  {
   "cell_type": "code",
   "execution_count": 73,
   "id": "98d7ef14",
   "metadata": {},
   "outputs": [],
   "source": [
    "def function3(AgentState):\n",
    "    print(\"<- LLM Call ->\")\n",
    "    messages = AgentState['messages']\n",
    "    question = messages[0]\n",
    "    \n",
    "    print(\"-----------\", question)\n",
    "    \n",
    "    response = llm.invoke(question)\n",
    "    \n",
    "    return {\"messages\": [response.content]}"
   ]
  },
  {
   "cell_type": "code",
   "execution_count": 74,
   "id": "e3f30e1d",
   "metadata": {},
   "outputs": [
    {
     "name": "stdout",
     "output_type": "stream",
     "text": [
      "<- LLM Call ->\n",
      "----------- who built Taj Mahal\n"
     ]
    },
    {
     "data": {
      "text/plain": [
       "{'messages': ['The Taj Mahal was built by **Mughal emperor Shah Jahan** in memory of his third wife, **Mumtaz Mahal**. \\n']}"
      ]
     },
     "execution_count": 74,
     "metadata": {},
     "output_type": "execute_result"
    }
   ],
   "source": [
    "state = {\"messages\": [\"who built Taj Mahal\"]}\n",
    "function3(state)"
   ]
  },
  {
   "cell_type": "code",
   "execution_count": 75,
   "id": "621c132b",
   "metadata": {},
   "outputs": [],
   "source": [
    "workflow5 = StateGraph(AgentState)\n",
    "\n",
    "workflow5.add_node(\"agent\", function1)\n",
    "workflow5.add_node(\"RAG\", function2)\n",
    "workflow5.add_node(\"LLM\", function3)\n",
    "\n",
    "workflow5.add_edge(START, \"agent\")\n",
    "workflow5.add_conditional_edges(\n",
    "    \"agent\",\n",
    "    router, \n",
    "    {\n",
    "        \"RAG Call\": \"RAG\",\n",
    "        \"LLM Call\": \"LLM\",\n",
    "    }\n",
    ")\n",
    "\n",
    "workflow5.add_edge(\"RAG\", END)\n",
    "workflow5.add_edge(\"LLM\", END)\n",
    "\n",
    "app5 = workflow5.compile()"
   ]
  },
  {
   "cell_type": "code",
   "execution_count": 76,
   "id": "d201c2b7",
   "metadata": {},
   "outputs": [],
   "source": [
    "# from IPython.display import Image, display\n",
    "\n",
    "# display(Image(app5.get_graph().draw_mermaid_png()))"
   ]
  },
  {
   "cell_type": "code",
   "execution_count": 77,
   "id": "6abcb315",
   "metadata": {},
   "outputs": [
    {
     "name": "stdout",
     "output_type": "stream",
     "text": [
      "<- Agent call ->\n",
      "Topic='Japan' Reasoning='The question asks for the GDP of Japan.'\n",
      "<- Route call ->\n",
      "content='Japan' additional_kwargs={} response_metadata={} id='373b0d4c-2bac-4e0d-ba2e-ce134756f400'\n",
      "<- RAG call ->\n",
      "RAG Q ____________  content='what is the gdp of japan in 2022?' additional_kwargs={} response_metadata={} id='f4a79bb8-4871-4509-b5bf-432b10e41abc'\n"
     ]
    },
    {
     "data": {
      "text/plain": [
       "{'messages': [HumanMessage(content='what is the gdp of japan in 2022?', additional_kwargs={}, response_metadata={}, id='f4a79bb8-4871-4509-b5bf-432b10e41abc'),\n",
       "  HumanMessage(content='Japan', additional_kwargs={}, response_metadata={}, id='0625fec1-b5b4-47a5-8b3b-bed7fc90b00f'),\n",
       "  HumanMessage(content='$4,256.41B \\n', additional_kwargs={}, response_metadata={}, id='b56c49e6-5472-4843-b4e1-64b1ab187108')]}"
      ]
     },
     "execution_count": 77,
     "metadata": {},
     "output_type": "execute_result"
    }
   ],
   "source": [
    "from langchain_core.messages import HumanMessage\n",
    "\n",
    "# inputs = {\"messages\": [\"Tell me about India's Industrial Growth\"]}\n",
    "\n",
    "inputs = {\"messages\": [\"what is the gdp of japan in 2022?\"]}\n",
    "\n",
    "\n",
    "app5.invoke(inputs)"
   ]
  },
  {
   "cell_type": "code",
   "execution_count": null,
   "id": "09500163",
   "metadata": {},
   "outputs": [],
   "source": []
  },
  {
   "cell_type": "code",
   "execution_count": null,
   "id": "3b93bc1a",
   "metadata": {},
   "outputs": [],
   "source": []
  }
 ],
 "metadata": {
  "kernelspec": {
   "display_name": "langgraph",
   "language": "python",
   "name": "python3"
  },
  "language_info": {
   "codemirror_mode": {
    "name": "ipython",
    "version": 3
   },
   "file_extension": ".py",
   "mimetype": "text/x-python",
   "name": "python",
   "nbconvert_exporter": "python",
   "pygments_lexer": "ipython3",
   "version": "3.12.0"
  }
 },
 "nbformat": 4,
 "nbformat_minor": 5
}
